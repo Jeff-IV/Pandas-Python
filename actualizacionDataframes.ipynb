{
 "cells": [
  {
   "cell_type": "markdown",
   "id": "dd13dea9",
   "metadata": {},
   "source": [
    "# Actualización de campos "
   ]
  },
  {
   "cell_type": "markdown",
   "id": "c876b14a",
   "metadata": {},
   "source": [
    "importemos pandas"
   ]
  },
  {
   "cell_type": "code",
   "execution_count": 1,
   "id": "880b9fe0",
   "metadata": {},
   "outputs": [],
   "source": [
    "import pandas as pd"
   ]
  },
  {
   "cell_type": "markdown",
   "id": "a55dfeff",
   "metadata": {},
   "source": [
    "## Método update()"
   ]
  },
  {
   "cell_type": "markdown",
   "id": "e73ae139",
   "metadata": {},
   "source": [
    "creemos los datasets que usaremos "
   ]
  },
  {
   "cell_type": "code",
   "execution_count": 2,
   "id": "ee5c1968",
   "metadata": {},
   "outputs": [
    {
     "name": "stdout",
     "output_type": "stream",
     "text": [
      "Overwriting dataset/data_1.csv\n"
     ]
    }
   ],
   "source": [
    "%%writefile dataset/data_1.csv\n",
    "clientId,name,bonus,costs\n",
    "10,Omar Y. Fletcher,0,9999\n",
    "11,Buffy W. Vincent,1,\n",
    "12,Mira N. Franklin,2,\n",
    "13,Ferris Q. Le,3,4"
   ]
  },
  {
   "cell_type": "code",
   "execution_count": 3,
   "id": "d6c7e971",
   "metadata": {},
   "outputs": [
    {
     "name": "stdout",
     "output_type": "stream",
     "text": [
      "Overwriting dataset/data_2.csv\n"
     ]
    }
   ],
   "source": [
    "%%writefile dataset/data_2.csv\n",
    "clientId,location,bonus,costs\n",
    "12,\"P.O. Box 445, 323 Cursus Rd.\",100,12\n",
    "13,Ap #791-3809 Eu Street,,13\n",
    "14,6715 Diam. Rd.,200,"
   ]
  },
  {
   "cell_type": "markdown",
   "id": "e50a62c9",
   "metadata": {},
   "source": [
    "Actualizemos los valores diferentes de NaN del dataframe 2 en el dataframe 1 (donde haya coincidencia)"
   ]
  },
  {
   "cell_type": "code",
   "execution_count": 4,
   "id": "a464867d",
   "metadata": {},
   "outputs": [
    {
     "name": "stdout",
     "output_type": "stream",
     "text": [
      "                      name  bonus   costs\n",
      "clientId                                 \n",
      "10        Omar Y. Fletcher      0  9999.0\n",
      "11        Buffy W. Vincent      1     NaN\n",
      "12        Mira N. Franklin      2     NaN\n",
      "13            Ferris Q. Le      3     4.0\n",
      "\n",
      "                              location  bonus  costs\n",
      "clientId                                            \n",
      "12        P.O. Box 445, 323 Cursus Rd.  100.0   12.0\n",
      "13              Ap #791-3809 Eu Street    NaN   13.0\n",
      "14                      6715 Diam. Rd.  200.0    NaN\n",
      "\n",
      "                      name  bonus   costs\n",
      "clientId                                 \n",
      "10        Omar Y. Fletcher      0  9999.0\n",
      "11        Buffy W. Vincent      1     NaN\n",
      "12        Mira N. Franklin    100    12.0\n",
      "13            Ferris Q. Le      3    13.0\n"
     ]
    }
   ],
   "source": [
    "df_1 = pd.read_csv(\"dataset/data_1.csv\")\n",
    "df_1.set_index('clientId', inplace=True)\n",
    "\n",
    "df_2 = pd.read_csv(\"dataset/data_2.csv\")\n",
    "df_2.set_index('clientId', inplace=True)\n",
    "\n",
    "\n",
    "print(\n",
    "    df_1,\n",
    "    \"\",\n",
    "    df_2,\n",
    "    sep=\"\\n\",\n",
    ")\n",
    "\n",
    "df_1.update(df_2)\n",
    "\n",
    "#\n",
    "# Update df_1.\n",
    "#\n",
    "# Note que costs para el primer cliente se\n",
    "# actualiza con el valor del segundo df\n",
    "#\n",
    "# Tambien se actualiza el ultimo registro\n",
    "# para el campo bonus\n",
    "#\n",
    "print(\"\", df_1, sep=\"\\n\")"
   ]
  },
  {
   "cell_type": "markdown",
   "id": "ce139da1",
   "metadata": {},
   "source": [
    "Ahora hagamos lo contrario, actualizemos los valores del dataframe 1 en el dataframe 2"
   ]
  },
  {
   "cell_type": "code",
   "execution_count": null,
   "id": "9fc34fd3",
   "metadata": {},
   "outputs": [
    {
     "name": "stdout",
     "output_type": "stream",
     "text": [
      "                      name  bonus   costs\n",
      "clientId                                 \n",
      "10        Omar Y. Fletcher      0  9999.0\n",
      "11        Buffy W. Vincent      1     NaN\n",
      "12        Mira N. Franklin      2     NaN\n",
      "13            Ferris Q. Le      3     4.0\n",
      "\n",
      "                              location  bonus  costs\n",
      "clientId                                            \n",
      "12        P.O. Box 445, 323 Cursus Rd.  100.0   12.0\n",
      "13              Ap #791-3809 Eu Street    NaN   13.0\n",
      "14                      6715 Diam. Rd.  200.0    NaN\n",
      "\n",
      "                              location  bonus  costs\n",
      "clientId                                            \n",
      "12        P.O. Box 445, 323 Cursus Rd.    2.0   12.0\n",
      "13              Ap #791-3809 Eu Street    3.0    4.0\n",
      "14                      6715 Diam. Rd.  200.0    NaN\n"
     ]
    }
   ],
   "source": [
    "df_1 = pd.read_csv(\"dataset/data_1.csv\")\n",
    "df_1.set_index('clientId', inplace=True)\n",
    "\n",
    "df_2 = pd.read_csv(\"dataset/data_2.csv\")\n",
    "df_2.set_index('clientId', inplace=True)\n",
    "\n",
    "\n",
    "print(\n",
    "    df_1,\n",
    "    \"\",\n",
    "    df_2,\n",
    "    sep=\"\\n\",\n",
    ")\n",
    "\n",
    "df_2.update(df_1)\n",
    "\n",
    "\n",
    "print(\"\", df_2, sep=\"\\n\")"
   ]
  },
  {
   "cell_type": "markdown",
   "id": "424a1724",
   "metadata": {},
   "source": [
    "## Método combine() sobre columnas"
   ]
  },
  {
   "cell_type": "markdown",
   "id": "6c2f7aad",
   "metadata": {},
   "source": [
    "creemos los dataset"
   ]
  },
  {
   "cell_type": "code",
   "execution_count": 6,
   "id": "cc67c9df",
   "metadata": {},
   "outputs": [
    {
     "name": "stdout",
     "output_type": "stream",
     "text": [
      "Overwriting dataset/data_1.csv\n"
     ]
    }
   ],
   "source": [
    "%%writefile dataset/data_1.csv\n",
    "A,B\n",
    "0,4\n",
    "0,4"
   ]
  },
  {
   "cell_type": "code",
   "execution_count": 7,
   "id": "08505f37",
   "metadata": {},
   "outputs": [
    {
     "name": "stdout",
     "output_type": "stream",
     "text": [
      "Overwriting dataset/data_2.csv\n"
     ]
    }
   ],
   "source": [
    "%%writefile dataset/data_2.csv\n",
    "A,B\n",
    "1,3\n",
    "1,3"
   ]
  },
  {
   "cell_type": "markdown",
   "id": "7130d019",
   "metadata": {},
   "source": [
    "Este método combina los valores de la columna basándose en una función "
   ]
  },
  {
   "cell_type": "code",
   "execution_count": 8,
   "id": "e173507d",
   "metadata": {},
   "outputs": [
    {
     "name": "stdout",
     "output_type": "stream",
     "text": [
      "   A  B\n",
      "0  0  4\n",
      "1  0  4\n",
      "\n",
      "   A  B\n",
      "0  1  3\n",
      "1  1  3\n",
      "\n",
      "   A  B\n",
      "0  0  3\n",
      "1  0  3\n"
     ]
    }
   ],
   "source": [
    "df_1 = pd.read_csv(\"dataset/data_1.csv\")\n",
    "df_2 = pd.read_csv(\"dataset/data_2.csv\")\n",
    "\n",
    "print(df_1, \"\", df_2, \"\", sep=\"\\n\")\n",
    "\n",
    "#\n",
    "# Mínimo de la suma de columnas\n",
    "#\n",
    "take_smaller = lambda s1, s2: s1 if s1.sum() < s2.sum() else s2\n",
    "\n",
    "df_1 = df_1.combine(\n",
    "    other=df_2,\n",
    "    func=take_smaller,\n",
    ")\n",
    "\n",
    "print(df_1)"
   ]
  },
  {
   "cell_type": "markdown",
   "id": "e00da6be",
   "metadata": {},
   "source": [
    "## Método combine() sobre elementos\n"
   ]
  },
  {
   "cell_type": "markdown",
   "id": "8347adb4",
   "metadata": {},
   "source": [
    "creemos los dataset"
   ]
  },
  {
   "cell_type": "code",
   "execution_count": 9,
   "id": "1d393022",
   "metadata": {},
   "outputs": [
    {
     "name": "stdout",
     "output_type": "stream",
     "text": [
      "Overwriting dataset/data_1.csv\n"
     ]
    }
   ],
   "source": [
    "%%writefile dataset/data_1.csv\n",
    "A,B\n",
    "3,6\n",
    "4,5"
   ]
  },
  {
   "cell_type": "code",
   "execution_count": 10,
   "id": "9b974af2",
   "metadata": {},
   "outputs": [
    {
     "name": "stdout",
     "output_type": "stream",
     "text": [
      "Overwriting dataset/data_2.csv\n"
     ]
    }
   ],
   "source": [
    "%%writefile dataset/data_2.csv\n",
    "A,B\n",
    "1,2\n",
    "9,7"
   ]
  },
  {
   "cell_type": "code",
   "execution_count": 11,
   "id": "ea05199d",
   "metadata": {},
   "outputs": [
    {
     "name": "stdout",
     "output_type": "stream",
     "text": [
      "   A  B\n",
      "0  3  6\n",
      "1  4  5\n",
      "\n",
      "   A  B\n",
      "0  1  2\n",
      "1  9  7\n",
      "\n",
      "   A  B\n",
      "0  1  2\n",
      "1  4  5\n"
     ]
    }
   ],
   "source": [
    "import numpy as np\n",
    "\n",
    "df_1 = pd.read_csv(\"dataset/data_1.csv\")\n",
    "df_2 = pd.read_csv(\"dataset/data_2.csv\")\n",
    "\n",
    "print(df_1, \"\", df_2, \"\", sep=\"\\n\")\n",
    "\n",
    "df_1 = df_1.combine(\n",
    "    other=df_2,\n",
    "    func=np.minimum,\n",
    ")\n",
    "\n",
    "print(df_1)"
   ]
  },
  {
   "cell_type": "markdown",
   "id": "47ce63d7",
   "metadata": {},
   "source": [
    "## Método combine_first() \n"
   ]
  },
  {
   "cell_type": "markdown",
   "id": "b159caec",
   "metadata": {},
   "source": [
    "combina los valores nulos de un dataframe con los valores de otro dataframe\n"
   ]
  },
  {
   "cell_type": "code",
   "execution_count": 12,
   "id": "bad0f425",
   "metadata": {},
   "outputs": [
    {
     "name": "stdout",
     "output_type": "stream",
     "text": [
      "     A    B\n",
      "0  NaN  NaN\n",
      "1  0.0  4.0\n",
      "\n",
      "   A  B\n",
      "0  1  3\n",
      "1  1  3\n",
      "\n",
      "     A    B\n",
      "0  1.0  3.0\n",
      "1  0.0  4.0\n"
     ]
    }
   ],
   "source": [
    "df_1 = pd.DataFrame({'A': [None, 0], 'B': [None, 4]})\n",
    "df_2 = pd.DataFrame({'A': [1, 1], 'B': [3, 3]})\n",
    "result = df_1.combine_first(df_2)\n",
    "\n",
    "print(df_1, \"\", df_2, \"\", result, sep=\"\\n\")"
   ]
  }
 ],
 "metadata": {
  "kernelspec": {
   "display_name": ".venv",
   "language": "python",
   "name": "python3"
  },
  "language_info": {
   "codemirror_mode": {
    "name": "ipython",
    "version": 3
   },
   "file_extension": ".py",
   "mimetype": "text/x-python",
   "name": "python",
   "nbconvert_exporter": "python",
   "pygments_lexer": "ipython3",
   "version": "3.12.3"
  }
 },
 "nbformat": 4,
 "nbformat_minor": 5
}

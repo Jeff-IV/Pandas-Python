{
 "cells": [
  {
   "cell_type": "markdown",
   "id": "a365a289",
   "metadata": {},
   "source": [
    "# Fusión de datasets  "
   ]
  },
  {
   "cell_type": "markdown",
   "id": "38b32836",
   "metadata": {},
   "source": [
    "Importemos pandas"
   ]
  },
  {
   "cell_type": "code",
   "execution_count": 1,
   "id": "c412b186",
   "metadata": {},
   "outputs": [],
   "source": [
    "import pandas as pd"
   ]
  },
  {
   "cell_type": "markdown",
   "id": "cac1f81b",
   "metadata": {},
   "source": [
    "## Fusión uno a uno sobre columnas comunes "
   ]
  },
  {
   "cell_type": "markdown",
   "id": "602c0920",
   "metadata": {},
   "source": [
    "### Creemos los dataframe para poder hacer el merge"
   ]
  },
  {
   "cell_type": "markdown",
   "id": "6810378c",
   "metadata": {},
   "source": [
    "## Dataset 1"
   ]
  },
  {
   "cell_type": "code",
   "execution_count": 2,
   "id": "3bc33eac",
   "metadata": {},
   "outputs": [
    {
     "name": "stdout",
     "output_type": "stream",
     "text": [
      "Overwriting dataset/clients.csv\n"
     ]
    }
   ],
   "source": [
    "%%writefile dataset/clients.csv\n",
    "clientId,key,name\n",
    "11,B,Ferris Q. Le\n",
    "10,A,Omar Y. Fletcher\n",
    "11,A,Mira N. Franklin\n",
    "10,B,Buffy W. Vincent"
   ]
  },
  {
   "cell_type": "markdown",
   "id": "444fbbb8",
   "metadata": {},
   "source": [
    "## Dataset 2"
   ]
  },
  {
   "cell_type": "code",
   "execution_count": 3,
   "id": "4a949deb",
   "metadata": {},
   "outputs": [
    {
     "name": "stdout",
     "output_type": "stream",
     "text": [
      "Overwriting dataset/bonus.csv\n"
     ]
    }
   ],
   "source": [
    "%%writefile dataset/bonus.csv\n",
    "clientId,key,bonus\n",
    "10,A,138\n",
    "10,B,227\n",
    "11,A,279\n",
    "11,B,160"
   ]
  },
  {
   "cell_type": "markdown",
   "id": "8521b6ea",
   "metadata": {},
   "source": [
    "## Inicializemos los dataframes y hagamos el merge"
   ]
  },
  {
   "cell_type": "code",
   "execution_count": 4,
   "id": "7a16fcd8",
   "metadata": {},
   "outputs": [
    {
     "name": "stdout",
     "output_type": "stream",
     "text": [
      "   clientId key              name\n",
      "1        10   A  Omar Y. Fletcher\n",
      "3        10   B  Buffy W. Vincent\n",
      "2        11   A  Mira N. Franklin\n",
      "0        11   B      Ferris Q. Le\n",
      "\n",
      "   clientId key  bonus\n",
      "0        10   A    138\n",
      "1        10   B    227\n",
      "2        11   A    279\n",
      "3        11   B    160\n",
      "\n",
      "   clientId key              name  bonus\n",
      "0        10   A  Omar Y. Fletcher    138\n",
      "1        10   B  Buffy W. Vincent    227\n",
      "2        11   A  Mira N. Franklin    279\n",
      "3        11   B      Ferris Q. Le    160\n"
     ]
    }
   ],
   "source": [
    "df_clientes = pd.read_csv(\"dataset/clients.csv\")\n",
    "\n",
    "\n",
    "df_bonus = pd.read_csv(\"dataset/bonus.csv\")\n",
    "\n",
    "print(\n",
    "    df_clientes.sort_values([\"clientId\", \"key\"]),\n",
    "    df_bonus.sort_values([\"clientId\", \"key\"]),\n",
    "\n",
    "    pd.merge(\n",
    "        df_clientes, \n",
    "        df_bonus, \n",
    "        sort=True\n",
    "    ),\n",
    "    sep=\"\\n\\n\",\n",
    ")\n"
   ]
  },
  {
   "cell_type": "markdown",
   "id": "ea37189d",
   "metadata": {},
   "source": [
    "## Fusión uno a uno con registros incompletos"
   ]
  },
  {
   "cell_type": "markdown",
   "id": "67a00f47",
   "metadata": {},
   "source": [
    "creemos los datasets"
   ]
  },
  {
   "cell_type": "code",
   "execution_count": 5,
   "id": "97def903",
   "metadata": {},
   "outputs": [
    {
     "name": "stdout",
     "output_type": "stream",
     "text": [
      "Overwriting dataset/clients.csv\n"
     ]
    }
   ],
   "source": [
    "%%writefile dataset/clients.csv\n",
    "clientId,name\n",
    "10,Ferris Q. Le\n",
    "11,Mira N. Franklin\n",
    "12,Baker C. Hurst"
   ]
  },
  {
   "cell_type": "code",
   "execution_count": 6,
   "id": "b76f2e14",
   "metadata": {},
   "outputs": [
    {
     "name": "stdout",
     "output_type": "stream",
     "text": [
      "Overwriting dataset/bonus.csv\n"
     ]
    }
   ],
   "source": [
    "%%writefile dataset/bonus.csv\n",
    "clientId,bonus\n",
    "10,279\n",
    "11,160\n",
    "20,169\n",
    "21,263"
   ]
  },
  {
   "cell_type": "markdown",
   "id": "91b13071",
   "metadata": {},
   "source": [
    "hagamos el merge "
   ]
  },
  {
   "cell_type": "code",
   "execution_count": 7,
   "id": "406926bc",
   "metadata": {},
   "outputs": [
    {
     "name": "stdout",
     "output_type": "stream",
     "text": [
      "   clientId              name\n",
      "0        10      Ferris Q. Le\n",
      "1        11  Mira N. Franklin\n",
      "2        12    Baker C. Hurst\n",
      "\n",
      "   clientId  bonus\n",
      "0        10    279\n",
      "1        11    160\n",
      "2        20    169\n",
      "3        21    263\n",
      "\n",
      "   clientId              name  bonus\n",
      "0        10      Ferris Q. Le    279\n",
      "1        11  Mira N. Franklin    160\n"
     ]
    }
   ],
   "source": [
    "df_clients = pd.read_csv(\"dataset/clients.csv\")\n",
    "df_bonus = pd.read_csv(\"dataset/bonus.csv\")\n",
    "\n",
    "#\n",
    "# Note que merge solo retorno los registros con\n",
    "# información completa\n",
    "#\n",
    "print(\n",
    "    df_clients,\n",
    "    \"\",\n",
    "    df_bonus,\n",
    "    \"\",\n",
    "    pd.merge(\n",
    "        df_clients,\n",
    "        df_bonus,\n",
    "        on=\"clientId\", #indicamos por cual columna se hará el merge\n",
    "    ),\n",
    "    sep=\"\\n\",\n",
    ")"
   ]
  },
  {
   "cell_type": "markdown",
   "id": "7fe0fa2a",
   "metadata": {},
   "source": [
    "## Fusión muchos a uno "
   ]
  },
  {
   "cell_type": "markdown",
   "id": "0193e110",
   "metadata": {},
   "source": [
    "creamos los dataset"
   ]
  },
  {
   "cell_type": "code",
   "execution_count": 8,
   "id": "eb5fabe1",
   "metadata": {},
   "outputs": [
    {
     "name": "stdout",
     "output_type": "stream",
     "text": [
      "Overwriting dataset/clients.csv\n"
     ]
    }
   ],
   "source": [
    "%%writefile dataset/clients.csv\n",
    "clientId,name\n",
    "10,Ferris Q. Le\n",
    "11,Mira N. Franklin\n",
    "12,Baker C. Hurst"
   ]
  },
  {
   "cell_type": "code",
   "execution_count": 9,
   "id": "fb094e1b",
   "metadata": {},
   "outputs": [
    {
     "name": "stdout",
     "output_type": "stream",
     "text": [
      "Overwriting dataset/sales.csv\n"
     ]
    }
   ],
   "source": [
    "%%writefile dataset/sales.csv\n",
    "clientId, month, sales\n",
    "10, jan, 1239\n",
    "10, feb, 387\n",
    "11, jan, 454\n",
    "11, mar, 495\n",
    "11, sep, 145\n",
    "12, may, 4959\n",
    "12, dec, 493\n",
    "12, oct, 4981\n",
    "12, jan, 484\n",
    "15, may, 394\n",
    "15, sep, 585"
   ]
  },
  {
   "cell_type": "markdown",
   "id": "51820a20",
   "metadata": {},
   "source": [
    "hacemos el merge "
   ]
  },
  {
   "cell_type": "code",
   "execution_count": 10,
   "id": "bce64090",
   "metadata": {},
   "outputs": [
    {
     "name": "stdout",
     "output_type": "stream",
     "text": [
      "   clientId              name\n",
      "0        10      Ferris Q. Le\n",
      "1        11  Mira N. Franklin\n",
      "2        12    Baker C. Hurst\n",
      "\n",
      "    clientId  month   sales\n",
      "0         10    jan    1239\n",
      "1         10    feb     387\n",
      "2         11    jan     454\n",
      "3         11    mar     495\n",
      "4         11    sep     145\n",
      "5         12    may    4959\n",
      "6         12    dec     493\n",
      "7         12    oct    4981\n",
      "8         12    jan     484\n",
      "9         15    may     394\n",
      "10        15    sep     585\n",
      "\n",
      "   clientId  month   sales              name\n",
      "0        10    jan    1239      Ferris Q. Le\n",
      "1        10    feb     387      Ferris Q. Le\n",
      "2        11    jan     454  Mira N. Franklin\n",
      "3        11    mar     495  Mira N. Franklin\n",
      "4        11    sep     145  Mira N. Franklin\n",
      "5        12    may    4959    Baker C. Hurst\n",
      "6        12    dec     493    Baker C. Hurst\n",
      "7        12    oct    4981    Baker C. Hurst\n",
      "8        12    jan     484    Baker C. Hurst\n"
     ]
    }
   ],
   "source": [
    "df_clients = pd.read_csv(\"dataset/clients.csv\")\n",
    "df_sales = pd.read_csv(\"dataset/sales.csv\")\n",
    "\n",
    "#\n",
    "# Sales tiene valores del campo clientId\n",
    "# duplicados. Note que se copia la información\n",
    "# de la tabla de la derecha\n",
    "#\n",
    "print(\n",
    "    df_clients,\n",
    "    \"\",\n",
    "    df_sales,\n",
    "    \"\",\n",
    "    pd.merge(\n",
    "        df_sales,\n",
    "        df_clients,\n",
    "        sort=True,\n",
    "    ),\n",
    "    sep=\"\\n\",\n",
    ")"
   ]
  },
  {
   "cell_type": "markdown",
   "id": "f97fcf2d",
   "metadata": {},
   "source": [
    "## Fusión muchos a muchos\n"
   ]
  },
  {
   "cell_type": "markdown",
   "id": "60a4d6ec",
   "metadata": {},
   "source": [
    "creamos los dataset"
   ]
  },
  {
   "cell_type": "code",
   "execution_count": 11,
   "id": "acee1e66",
   "metadata": {},
   "outputs": [
    {
     "name": "stdout",
     "output_type": "stream",
     "text": [
      "Overwriting dataset/sales.csv\n"
     ]
    }
   ],
   "source": [
    "%%writefile dataset/sales.csv\n",
    "clientId,month\n",
    "10,jan\n",
    "10,feb\n",
    "11,jan\n",
    "11,mar\n",
    "11,sep\n",
    "12,may\n",
    "12,dec\n",
    "12,oct\n",
    "12,jan"
   ]
  },
  {
   "cell_type": "code",
   "execution_count": 12,
   "id": "24e97f58",
   "metadata": {},
   "outputs": [
    {
     "name": "stdout",
     "output_type": "stream",
     "text": [
      "Overwriting dataset/lines.csv\n"
     ]
    }
   ],
   "source": [
    "%%writefile dataset/lines.csv\n",
    "clientId,line\n",
    "10,A\n",
    "10,B\n",
    "10,C\n",
    "11,D\n",
    "12,A\n",
    "12,D\n",
    "13,B\n",
    "13,C\n",
    "13,D"
   ]
  },
  {
   "cell_type": "markdown",
   "id": "fb2f40c3",
   "metadata": {},
   "source": [
    "hacemos el merge"
   ]
  },
  {
   "cell_type": "code",
   "execution_count": 13,
   "id": "03eb63ad",
   "metadata": {},
   "outputs": [
    {
     "name": "stdout",
     "output_type": "stream",
     "text": [
      "   clientId month\n",
      "0        10   jan\n",
      "1        10   feb\n",
      "2        11   jan\n",
      "3        11   mar\n",
      "4        11   sep\n",
      "5        12   may\n",
      "6        12   dec\n",
      "7        12   oct\n",
      "8        12   jan\n",
      "\n",
      "   clientId line\n",
      "0        10    A\n",
      "1        10    B\n",
      "2        10    C\n",
      "3        11    D\n",
      "4        12    A\n",
      "5        12    D\n",
      "6        13    B\n",
      "7        13    C\n",
      "8        13    D\n",
      "\n",
      "    clientId month line\n",
      "0         10   jan    A\n",
      "1         10   jan    B\n",
      "2         10   jan    C\n",
      "3         10   feb    A\n",
      "4         10   feb    B\n",
      "5         10   feb    C\n",
      "6         11   jan    D\n",
      "7         11   mar    D\n",
      "8         11   sep    D\n",
      "9         12   may    A\n",
      "10        12   may    D\n",
      "11        12   dec    A\n",
      "12        12   dec    D\n",
      "13        12   oct    A\n",
      "14        12   oct    D\n",
      "15        12   jan    A\n",
      "16        12   jan    D\n"
     ]
    }
   ],
   "source": [
    "df_sales = pd.read_csv(\"dataset/sales.csv\")\n",
    "df_lines = pd.read_csv(\"dataset/lines.csv\")\n",
    "\n",
    "print(\n",
    "    df_sales,\n",
    "    \"\",\n",
    "    df_lines,\n",
    "    \"\",\n",
    "    pd.merge(\n",
    "        df_sales,\n",
    "        df_lines,\n",
    "    ),\n",
    "    sep=\"\\n\",\n",
    ")"
   ]
  },
  {
   "cell_type": "markdown",
   "id": "8aa56c7f",
   "metadata": {},
   "source": [
    "## Parámetros left_on y right_on\n"
   ]
  },
  {
   "cell_type": "markdown",
   "id": "14fff03d",
   "metadata": {},
   "source": [
    "estos nos sirven para indicar con que columna de la tabla izquierda y derecha haremos el merge"
   ]
  },
  {
   "cell_type": "code",
   "execution_count": 14,
   "id": "b18127be",
   "metadata": {},
   "outputs": [
    {
     "name": "stdout",
     "output_type": "stream",
     "text": [
      "Overwriting dataset/clients.csv\n"
     ]
    }
   ],
   "source": [
    "%%writefile dataset/clients.csv\n",
    "clientId,name\n",
    "13,Ferris Q. Le\n",
    "10,Omar Y. Fletcher\n",
    "12,Mira N. Franklin\n",
    "11,Buffy W. Vincent"
   ]
  },
  {
   "cell_type": "code",
   "execution_count": 15,
   "id": "cf9bff29",
   "metadata": {},
   "outputs": [
    {
     "name": "stdout",
     "output_type": "stream",
     "text": [
      "Overwriting dataset/bonus.csv\n"
     ]
    }
   ],
   "source": [
    "%%writefile dataset/bonus.csv\n",
    "Client-Id,bonus\n",
    "10,279\n",
    "11,160\n",
    "12,267\n",
    "13,215"
   ]
  },
  {
   "cell_type": "markdown",
   "id": "251d2db2",
   "metadata": {},
   "source": [
    "hagamos el merge con las propiedades left_on y right_on"
   ]
  },
  {
   "cell_type": "code",
   "execution_count": 16,
   "id": "51af60d5",
   "metadata": {},
   "outputs": [
    {
     "name": "stdout",
     "output_type": "stream",
     "text": [
      "   clientId              name\n",
      "0        13      Ferris Q. Le\n",
      "1        10  Omar Y. Fletcher\n",
      "2        12  Mira N. Franklin\n",
      "3        11  Buffy W. Vincent\n",
      "\n",
      "   Client-Id  bonus\n",
      "0         10    279\n",
      "1         11    160\n",
      "2         12    267\n",
      "3         13    215\n",
      "\n",
      "   clientId              name  Client-Id  bonus\n",
      "0        13      Ferris Q. Le         13    215\n",
      "1        10  Omar Y. Fletcher         10    279\n",
      "2        12  Mira N. Franklin         12    267\n",
      "3        11  Buffy W. Vincent         11    160\n"
     ]
    }
   ],
   "source": [
    "df_clients = pd.read_csv(\"dataset/clients.csv\")\n",
    "df_bonus = pd.read_csv(\"dataset/bonus.csv\")\n",
    "\n",
    "#\n",
    "# Note que las dos claves aparecen en la tabla\n",
    "#\n",
    "print(\n",
    "    df_clients,\n",
    "    \"\",\n",
    "    df_bonus,\n",
    "    \"\",\n",
    "    pd.merge(\n",
    "        df_clients,\n",
    "        df_bonus,\n",
    "        left_on=\"clientId\",\n",
    "        right_on=\"Client-Id\",\n",
    "    ),\n",
    "    sep=\"\\n\",\n",
    ")"
   ]
  },
  {
   "cell_type": "markdown",
   "id": "76a4d948",
   "metadata": {},
   "source": [
    "# JOINs usando el parámetro HOW"
   ]
  },
  {
   "cell_type": "markdown",
   "id": "ec2c65d6",
   "metadata": {},
   "source": [
    "Primero creemos los datasets a los que les haremos los diferentes JOIN"
   ]
  },
  {
   "cell_type": "code",
   "execution_count": 17,
   "id": "04f4b44a",
   "metadata": {},
   "outputs": [
    {
     "name": "stdout",
     "output_type": "stream",
     "text": [
      "Overwriting dataset/clients_a.csv\n"
     ]
    }
   ],
   "source": [
    "%%writefile dataset/clients_a.csv\n",
    "clientId,name,location,amount\n",
    "10,Omar Y. Fletcher,6833 Mollis. Rd.,4929\n",
    "11,Buffy W. Vincent,\"P.O. Box 345, 8390 Ante Avenue\",7366\n",
    "12,Mira N. Franklin,\"P.O. Box 445, 323 Cursus Rd.\",6184"
   ]
  },
  {
   "cell_type": "code",
   "execution_count": 18,
   "id": "ec84e0f8",
   "metadata": {},
   "outputs": [
    {
     "name": "stdout",
     "output_type": "stream",
     "text": [
      "Overwriting dataset/clients_b.csv\n"
     ]
    }
   ],
   "source": [
    "%%writefile dataset/clients_b.csv\n",
    "clientId,name,location,bonus\n",
    "11,Buffy W. Vincent,\"P.O. Box 345, 8390 Ante Avenue\",100\n",
    "12,Mira N. Franklin,\"P.O. Box 445, 323 Cursus Rd.\",200\n",
    "13,Lilah O. Morrison,3859 Mauris Ave,300"
   ]
  },
  {
   "cell_type": "markdown",
   "id": "cf309ef0",
   "metadata": {},
   "source": [
    "Creemos los dataframes de pandas"
   ]
  },
  {
   "cell_type": "code",
   "execution_count": 19,
   "id": "9860aa7a",
   "metadata": {},
   "outputs": [
    {
     "data": {
      "text/plain": [
       "{'amount'}"
      ]
     },
     "metadata": {},
     "output_type": "display_data"
    },
    {
     "data": {
      "text/plain": [
       "{'bonus'}"
      ]
     },
     "metadata": {},
     "output_type": "display_data"
    }
   ],
   "source": [
    "df_clients_a = pd.read_csv(\"dataset/clients_a.csv\")\n",
    "\n",
    "df_clients_b = pd.read_csv(\"dataset/clients_b.csv\")\n",
    "\n",
    "#Veamos las columnas diferentes entre ambos\n",
    "display(\n",
    "    set(df_clients_a) - set(df_clients_b),\n",
    "    set(df_clients_b) - set(df_clients_a)\n",
    "        )"
   ]
  },
  {
   "cell_type": "markdown",
   "id": "2a13224c",
   "metadata": {},
   "source": [
    "## inner JOIN"
   ]
  },
  {
   "cell_type": "code",
   "execution_count": 20,
   "id": "0c83144c",
   "metadata": {},
   "outputs": [
    {
     "name": "stdout",
     "output_type": "stream",
     "text": [
      "   clientId              name                        location  amount\n",
      "0        10  Omar Y. Fletcher                6833 Mollis. Rd.    4929\n",
      "1        11  Buffy W. Vincent  P.O. Box 345, 8390 Ante Avenue    7366\n",
      "2        12  Mira N. Franklin    P.O. Box 445, 323 Cursus Rd.    6184\n",
      "\n",
      "   clientId               name                        location  bonus\n",
      "0        11   Buffy W. Vincent  P.O. Box 345, 8390 Ante Avenue    100\n",
      "1        12   Mira N. Franklin    P.O. Box 445, 323 Cursus Rd.    200\n",
      "2        13  Lilah O. Morrison                 3859 Mauris Ave    300\n",
      "\n",
      "   clientId              name                        location  amount  bonus\n",
      "0        11  Buffy W. Vincent  P.O. Box 345, 8390 Ante Avenue    7366    100\n",
      "1        12  Mira N. Franklin    P.O. Box 445, 323 Cursus Rd.    6184    200\n"
     ]
    }
   ],
   "source": [
    "print(\n",
    "    df_clients_a,\n",
    "    \"\",\n",
    "    df_clients_b,\n",
    "    \"\",\n",
    "\n",
    "    pd.merge(\n",
    "        df_clients_a,\n",
    "        df_clients_b,\n",
    "        how=\"inner\",\n",
    "    ),\n",
    "    sep=\"\\n\",\n",
    ")"
   ]
  },
  {
   "cell_type": "markdown",
   "id": "d549e8c4",
   "metadata": {},
   "source": [
    "## left JOIN"
   ]
  },
  {
   "cell_type": "code",
   "execution_count": 21,
   "id": "12e10262",
   "metadata": {},
   "outputs": [
    {
     "name": "stdout",
     "output_type": "stream",
     "text": [
      "   clientId              name                        location  amount\n",
      "0        10  Omar Y. Fletcher                6833 Mollis. Rd.    4929\n",
      "1        11  Buffy W. Vincent  P.O. Box 345, 8390 Ante Avenue    7366\n",
      "2        12  Mira N. Franklin    P.O. Box 445, 323 Cursus Rd.    6184\n",
      "\n",
      "   clientId               name                        location  bonus\n",
      "0        11   Buffy W. Vincent  P.O. Box 345, 8390 Ante Avenue    100\n",
      "1        12   Mira N. Franklin    P.O. Box 445, 323 Cursus Rd.    200\n",
      "2        13  Lilah O. Morrison                 3859 Mauris Ave    300\n",
      "\n",
      "   clientId              name                        location  amount  bonus\n",
      "0        10  Omar Y. Fletcher                6833 Mollis. Rd.    4929    NaN\n",
      "1        11  Buffy W. Vincent  P.O. Box 345, 8390 Ante Avenue    7366  100.0\n",
      "2        12  Mira N. Franklin    P.O. Box 445, 323 Cursus Rd.    6184  200.0\n"
     ]
    }
   ],
   "source": [
    "print(\n",
    "    df_clients_a,\n",
    "    \"\",\n",
    "    df_clients_b,\n",
    "    \"\",\n",
    "\n",
    "    pd.merge(\n",
    "        df_clients_a,\n",
    "        df_clients_b,\n",
    "        how=\"left\",\n",
    "    ),\n",
    "    sep=\"\\n\",\n",
    ")"
   ]
  },
  {
   "cell_type": "markdown",
   "id": "e40554b0",
   "metadata": {},
   "source": [
    "## right JOIN"
   ]
  },
  {
   "cell_type": "code",
   "execution_count": 22,
   "id": "cae32e20",
   "metadata": {},
   "outputs": [
    {
     "name": "stdout",
     "output_type": "stream",
     "text": [
      "   clientId              name                        location  amount\n",
      "0        10  Omar Y. Fletcher                6833 Mollis. Rd.    4929\n",
      "1        11  Buffy W. Vincent  P.O. Box 345, 8390 Ante Avenue    7366\n",
      "2        12  Mira N. Franklin    P.O. Box 445, 323 Cursus Rd.    6184\n",
      "\n",
      "   clientId               name                        location  bonus\n",
      "0        11   Buffy W. Vincent  P.O. Box 345, 8390 Ante Avenue    100\n",
      "1        12   Mira N. Franklin    P.O. Box 445, 323 Cursus Rd.    200\n",
      "2        13  Lilah O. Morrison                 3859 Mauris Ave    300\n",
      "\n",
      "   clientId               name                        location  amount  bonus\n",
      "0        11   Buffy W. Vincent  P.O. Box 345, 8390 Ante Avenue  7366.0    100\n",
      "1        12   Mira N. Franklin    P.O. Box 445, 323 Cursus Rd.  6184.0    200\n",
      "2        13  Lilah O. Morrison                 3859 Mauris Ave     NaN    300\n"
     ]
    }
   ],
   "source": [
    "print(\n",
    "    df_clients_a,\n",
    "    \"\",\n",
    "    df_clients_b,\n",
    "    \"\",\n",
    "\n",
    "    pd.merge(\n",
    "        df_clients_a,\n",
    "        df_clients_b,\n",
    "        how=\"right\",\n",
    "    ),\n",
    "    sep=\"\\n\",\n",
    ")"
   ]
  },
  {
   "cell_type": "markdown",
   "id": "63deb86c",
   "metadata": {},
   "source": [
    "## outer JOIN"
   ]
  },
  {
   "cell_type": "code",
   "execution_count": 23,
   "id": "ea2cfc75",
   "metadata": {},
   "outputs": [
    {
     "name": "stdout",
     "output_type": "stream",
     "text": [
      "   clientId              name                        location  amount\n",
      "0        10  Omar Y. Fletcher                6833 Mollis. Rd.    4929\n",
      "1        11  Buffy W. Vincent  P.O. Box 345, 8390 Ante Avenue    7366\n",
      "2        12  Mira N. Franklin    P.O. Box 445, 323 Cursus Rd.    6184\n",
      "\n",
      "   clientId               name                        location  bonus\n",
      "0        11   Buffy W. Vincent  P.O. Box 345, 8390 Ante Avenue    100\n",
      "1        12   Mira N. Franklin    P.O. Box 445, 323 Cursus Rd.    200\n",
      "2        13  Lilah O. Morrison                 3859 Mauris Ave    300\n",
      "\n",
      "   clientId               name                        location  amount  bonus\n",
      "0        10   Omar Y. Fletcher                6833 Mollis. Rd.  4929.0    NaN\n",
      "1        11   Buffy W. Vincent  P.O. Box 345, 8390 Ante Avenue  7366.0  100.0\n",
      "2        12   Mira N. Franklin    P.O. Box 445, 323 Cursus Rd.  6184.0  200.0\n",
      "3        13  Lilah O. Morrison                 3859 Mauris Ave     NaN  300.0\n"
     ]
    }
   ],
   "source": [
    "print(\n",
    "    df_clients_a,\n",
    "    \"\",\n",
    "    df_clients_b,\n",
    "    \"\",\n",
    "\n",
    "    pd.merge(\n",
    "        df_clients_a,\n",
    "        df_clients_b,\n",
    "        how=\"outer\",\n",
    "    ),\n",
    "    sep=\"\\n\",\n",
    ")"
   ]
  },
  {
   "cell_type": "markdown",
   "id": "434de08b",
   "metadata": {},
   "source": [
    "podemos agregarle el indicador que señala de que tabla(o dataframe) provienen los datos (left, right o both)"
   ]
  },
  {
   "cell_type": "code",
   "execution_count": 24,
   "id": "ab1a2275",
   "metadata": {},
   "outputs": [
    {
     "name": "stdout",
     "output_type": "stream",
     "text": [
      "   clientId              name                        location  amount\n",
      "0        10  Omar Y. Fletcher                6833 Mollis. Rd.    4929\n",
      "1        11  Buffy W. Vincent  P.O. Box 345, 8390 Ante Avenue    7366\n",
      "2        12  Mira N. Franklin    P.O. Box 445, 323 Cursus Rd.    6184\n",
      "\n",
      "   clientId               name                        location  bonus\n",
      "0        11   Buffy W. Vincent  P.O. Box 345, 8390 Ante Avenue    100\n",
      "1        12   Mira N. Franklin    P.O. Box 445, 323 Cursus Rd.    200\n",
      "2        13  Lilah O. Morrison                 3859 Mauris Ave    300\n",
      "\n",
      "   clientId               name                        location  amount  bonus  \\\n",
      "0        10   Omar Y. Fletcher                6833 Mollis. Rd.  4929.0    NaN   \n",
      "1        11   Buffy W. Vincent  P.O. Box 345, 8390 Ante Avenue  7366.0  100.0   \n",
      "2        12   Mira N. Franklin    P.O. Box 445, 323 Cursus Rd.  6184.0  200.0   \n",
      "3        13  Lilah O. Morrison                 3859 Mauris Ave     NaN  300.0   \n",
      "\n",
      "       _merge  \n",
      "0   left_only  \n",
      "1        both  \n",
      "2        both  \n",
      "3  right_only  \n"
     ]
    }
   ],
   "source": [
    "print(\n",
    "    df_clients_a,\n",
    "    \"\",\n",
    "    df_clients_b,\n",
    "    \"\",\n",
    "\n",
    "    pd.merge(\n",
    "        df_clients_a,\n",
    "        df_clients_b,\n",
    "        how=\"outer\",\n",
    "        indicator=True\n",
    "    ),\n",
    "    sep=\"\\n\",\n",
    ")"
   ]
  },
  {
   "cell_type": "markdown",
   "id": "29b19fe1",
   "metadata": {},
   "source": [
    "## Sufijos "
   ]
  },
  {
   "cell_type": "markdown",
   "id": "3f288535",
   "metadata": {},
   "source": [
    "Estos son usados para columnas no claves repetidas (con el mismo nombre)"
   ]
  },
  {
   "cell_type": "code",
   "execution_count": 25,
   "id": "8ac7df48",
   "metadata": {},
   "outputs": [
    {
     "name": "stdout",
     "output_type": "stream",
     "text": [
      "Writing dataset/data_1.csv\n"
     ]
    }
   ],
   "source": [
    "%%writefile dataset/data_1.csv\n",
    "clientId,info\n",
    "10,Omar Y. Fletcher\n",
    "11,Buffy W. Vincent\n",
    "12,Mira N. Franklin"
   ]
  },
  {
   "cell_type": "code",
   "execution_count": 26,
   "id": "35e575d5",
   "metadata": {},
   "outputs": [
    {
     "name": "stdout",
     "output_type": "stream",
     "text": [
      "Writing dataset/data_2.csv\n"
     ]
    }
   ],
   "source": [
    "%%writefile dataset/data_2.csv\n",
    "clientId,info\n",
    "10,6833 Mollis. Rd.\n",
    "11,\"P.O. Box 345, 8390 Ante Avenue\"\n",
    "12,\"P.O. Box 445, 323 Cursus Rd.\""
   ]
  },
  {
   "cell_type": "code",
   "execution_count": null,
   "id": "ad3708c1",
   "metadata": {},
   "outputs": [
    {
     "name": "stdout",
     "output_type": "stream",
     "text": [
      "   clientId              info\n",
      "0        10  Omar Y. Fletcher\n",
      "1        11  Buffy W. Vincent\n",
      "2        12  Mira N. Franklin\n",
      "\n",
      "   clientId                            info\n",
      "0        10                6833 Mollis. Rd.\n",
      "1        11  P.O. Box 345, 8390 Ante Avenue\n",
      "2        12    P.O. Box 445, 323 Cursus Rd.\n",
      "\n",
      "   clientId           info_LD                         info_RD\n",
      "0        10  Omar Y. Fletcher                6833 Mollis. Rd.\n",
      "1        11  Buffy W. Vincent  P.O. Box 345, 8390 Ante Avenue\n",
      "2        12  Mira N. Franklin    P.O. Box 445, 323 Cursus Rd.\n"
     ]
    }
   ],
   "source": [
    "df_1 = pd.read_csv(\"dataset/data_1.csv\")\n",
    "df_2 = pd.read_csv(\"dataset/data_2.csv\")\n",
    "\n",
    "#\n",
    "# Sufijos generados para desambiguar los nombres\n",
    "# de las columnas\n",
    "#\n",
    "print(\n",
    "    df_1,\n",
    "    \"\",\n",
    "    df_2,\n",
    "    \"\",\n",
    "    pd.merge(\n",
    "        df_1,\n",
    "        df_2,\n",
    "        on=\"clientId\",\n",
    "        suffixes= [\"_LD\", \"_RD\"] #los sufijos por defecto son _x y _y\n",
    "    ),\n",
    "    sep=\"\\n\",\n",
    ")"
   ]
  },
  {
   "cell_type": "markdown",
   "id": "80dce809",
   "metadata": {},
   "source": [
    "Es mejor y más coherente renombrar las columnas"
   ]
  },
  {
   "cell_type": "code",
   "execution_count": null,
   "id": "b6f31753",
   "metadata": {},
   "outputs": [
    {
     "name": "stdout",
     "output_type": "stream",
     "text": [
      "   clientId              info\n",
      "0        10  Omar Y. Fletcher\n",
      "1        11  Buffy W. Vincent\n",
      "2        12  Mira N. Franklin\n",
      "\n",
      "   clientId                            info\n",
      "0        10                6833 Mollis. Rd.\n",
      "1        11  P.O. Box 345, 8390 Ante Avenue\n",
      "2        12    P.O. Box 445, 323 Cursus Rd.\n",
      "\n",
      "   clientId              name                        location\n",
      "0        10  Omar Y. Fletcher                6833 Mollis. Rd.\n",
      "1        11  Buffy W. Vincent  P.O. Box 345, 8390 Ante Avenue\n",
      "2        12  Mira N. Franklin    P.O. Box 445, 323 Cursus Rd.\n"
     ]
    }
   ],
   "source": [
    "df_1 = pd.read_csv(\"dataset/data_1.csv\")\n",
    "df_2 = pd.read_csv(\"dataset/data_2.csv\")\n",
    "\n",
    "#\n",
    "# Sufijos generados para desambiguar los nombres\n",
    "# de las columnas\n",
    "#\n",
    "print(\n",
    "    df_1,\n",
    "    \"\",\n",
    "    df_2,\n",
    "    \"\",\n",
    "    pd.merge(\n",
    "        df_1,\n",
    "        df_2,\n",
    "        on=\"clientId\",\n",
    "    ).rename(\n",
    "        columns={\n",
    "            \"info_x\" : \"name\", \n",
    "            \"info_y\" : \"location\"\n",
    "        }\n",
    "        ),\n",
    "    sep=\"\\n\",\n",
    ")"
   ]
  }
 ],
 "metadata": {
  "kernelspec": {
   "display_name": ".venv",
   "language": "python",
   "name": "python3"
  },
  "language_info": {
   "codemirror_mode": {
    "name": "ipython",
    "version": 3
   },
   "file_extension": ".py",
   "mimetype": "text/x-python",
   "name": "python",
   "nbconvert_exporter": "python",
   "pygments_lexer": "ipython3",
   "version": "3.12.3"
  }
 },
 "nbformat": 4,
 "nbformat_minor": 5
}

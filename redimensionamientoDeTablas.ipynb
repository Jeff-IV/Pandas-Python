{
 "cells": [
  {
   "cell_type": "markdown",
   "id": "7d7243ee",
   "metadata": {},
   "source": [
    "# Redimensionamiento de tablas \n"
   ]
  },
  {
   "cell_type": "markdown",
   "id": "04f9cb67",
   "metadata": {},
   "source": [
    "Se verá como usar \n",
    "* Melt & Pivot\n",
    "* Stack & Unstack\n",
    "* Tablas dinámicas\n"
   ]
  },
  {
   "cell_type": "markdown",
   "id": "3e5ceb4e",
   "metadata": {},
   "source": [
    "## Inicializemos los dataframes "
   ]
  },
  {
   "cell_type": "markdown",
   "id": "a36b44cc",
   "metadata": {},
   "source": [
    "Usaremos un dataset con datos sobre flores iris, con información de que especie es, tamaños (width y length) de su petalo y sepalo"
   ]
  },
  {
   "cell_type": "code",
   "execution_count": 1,
   "id": "e20b5d68",
   "metadata": {},
   "outputs": [
    {
     "data": {
      "application/vnd.microsoft.datawrangler.viewer.v0+json": {
       "columns": [
        {
         "name": "index",
         "rawType": "int64",
         "type": "integer"
        },
        {
         "name": "sepal_length_cm",
         "rawType": "float64",
         "type": "float"
        },
        {
         "name": "sepal_width_cm",
         "rawType": "float64",
         "type": "float"
        },
        {
         "name": "petal_length_cm",
         "rawType": "float64",
         "type": "float"
        },
        {
         "name": "petal_width_cm",
         "rawType": "float64",
         "type": "float"
        },
        {
         "name": "species",
         "rawType": "object",
         "type": "string"
        }
       ],
       "ref": "2e6eede6-a0f7-4887-8029-f5ec61aed706",
       "rows": [
        [
         "0",
         "5.1",
         "3.5",
         "1.4",
         "0.2",
         "setosa"
        ],
        [
         "1",
         "4.9",
         "3.0",
         "1.4",
         "0.2",
         "setosa"
        ],
        [
         "2",
         "4.7",
         "3.2",
         "1.3",
         "0.2",
         "setosa"
        ],
        [
         "3",
         "4.6",
         "3.1",
         "1.5",
         "0.2",
         "setosa"
        ],
        [
         "4",
         "5.0",
         "3.6",
         "1.4",
         "0.2",
         "setosa"
        ]
       ],
       "shape": {
        "columns": 5,
        "rows": 5
       }
      },
      "text/html": [
       "<div>\n",
       "<style scoped>\n",
       "    .dataframe tbody tr th:only-of-type {\n",
       "        vertical-align: middle;\n",
       "    }\n",
       "\n",
       "    .dataframe tbody tr th {\n",
       "        vertical-align: top;\n",
       "    }\n",
       "\n",
       "    .dataframe thead th {\n",
       "        text-align: right;\n",
       "    }\n",
       "</style>\n",
       "<table border=\"1\" class=\"dataframe\">\n",
       "  <thead>\n",
       "    <tr style=\"text-align: right;\">\n",
       "      <th></th>\n",
       "      <th>sepal_length_cm</th>\n",
       "      <th>sepal_width_cm</th>\n",
       "      <th>petal_length_cm</th>\n",
       "      <th>petal_width_cm</th>\n",
       "      <th>species</th>\n",
       "    </tr>\n",
       "  </thead>\n",
       "  <tbody>\n",
       "    <tr>\n",
       "      <th>0</th>\n",
       "      <td>5.1</td>\n",
       "      <td>3.5</td>\n",
       "      <td>1.4</td>\n",
       "      <td>0.2</td>\n",
       "      <td>setosa</td>\n",
       "    </tr>\n",
       "    <tr>\n",
       "      <th>1</th>\n",
       "      <td>4.9</td>\n",
       "      <td>3.0</td>\n",
       "      <td>1.4</td>\n",
       "      <td>0.2</td>\n",
       "      <td>setosa</td>\n",
       "    </tr>\n",
       "    <tr>\n",
       "      <th>2</th>\n",
       "      <td>4.7</td>\n",
       "      <td>3.2</td>\n",
       "      <td>1.3</td>\n",
       "      <td>0.2</td>\n",
       "      <td>setosa</td>\n",
       "    </tr>\n",
       "    <tr>\n",
       "      <th>3</th>\n",
       "      <td>4.6</td>\n",
       "      <td>3.1</td>\n",
       "      <td>1.5</td>\n",
       "      <td>0.2</td>\n",
       "      <td>setosa</td>\n",
       "    </tr>\n",
       "    <tr>\n",
       "      <th>4</th>\n",
       "      <td>5.0</td>\n",
       "      <td>3.6</td>\n",
       "      <td>1.4</td>\n",
       "      <td>0.2</td>\n",
       "      <td>setosa</td>\n",
       "    </tr>\n",
       "  </tbody>\n",
       "</table>\n",
       "</div>"
      ],
      "text/plain": [
       "   sepal_length_cm  sepal_width_cm  petal_length_cm  petal_width_cm species\n",
       "0              5.1             3.5              1.4             0.2  setosa\n",
       "1              4.9             3.0              1.4             0.2  setosa\n",
       "2              4.7             3.2              1.3             0.2  setosa\n",
       "3              4.6             3.1              1.5             0.2  setosa\n",
       "4              5.0             3.6              1.4             0.2  setosa"
      ]
     },
     "metadata": {},
     "output_type": "display_data"
    },
    {
     "data": {
      "text/plain": [
       "(150, 5)"
      ]
     },
     "metadata": {},
     "output_type": "display_data"
    }
   ],
   "source": [
    "import pandas as pd \n",
    "\n",
    "data = \"dataset/iris.csv\"\n",
    "\n",
    "df_iris = pd.read_csv(data)\n",
    "\n",
    "display(df_iris.head(), df_iris.shape)"
   ]
  },
  {
   "cell_type": "markdown",
   "id": "281ea661",
   "metadata": {},
   "source": [
    "## Melt & Pivot\n"
   ]
  },
  {
   "cell_type": "markdown",
   "id": "fa7efc79",
   "metadata": {},
   "source": [
    "Para la identificación de cada caso especifico vamos a crear una nueva columna llamada id"
   ]
  },
  {
   "cell_type": "code",
   "execution_count": 2,
   "id": "88b86a48",
   "metadata": {},
   "outputs": [
    {
     "data": {
      "application/vnd.microsoft.datawrangler.viewer.v0+json": {
       "columns": [
        {
         "name": "index",
         "rawType": "int64",
         "type": "integer"
        },
        {
         "name": "sepal_length_cm",
         "rawType": "float64",
         "type": "float"
        },
        {
         "name": "sepal_width_cm",
         "rawType": "float64",
         "type": "float"
        },
        {
         "name": "petal_length_cm",
         "rawType": "float64",
         "type": "float"
        },
        {
         "name": "petal_width_cm",
         "rawType": "float64",
         "type": "float"
        },
        {
         "name": "species",
         "rawType": "object",
         "type": "string"
        },
        {
         "name": "id",
         "rawType": "int64",
         "type": "integer"
        }
       ],
       "ref": "f1b5b6f4-18a4-40a7-a21f-d00229092ba4",
       "rows": [
        [
         "0",
         "5.1",
         "3.5",
         "1.4",
         "0.2",
         "setosa",
         "0"
        ],
        [
         "1",
         "4.9",
         "3.0",
         "1.4",
         "0.2",
         "setosa",
         "1"
        ],
        [
         "2",
         "4.7",
         "3.2",
         "1.3",
         "0.2",
         "setosa",
         "2"
        ],
        [
         "3",
         "4.6",
         "3.1",
         "1.5",
         "0.2",
         "setosa",
         "3"
        ],
        [
         "4",
         "5.0",
         "3.6",
         "1.4",
         "0.2",
         "setosa",
         "4"
        ]
       ],
       "shape": {
        "columns": 6,
        "rows": 5
       }
      },
      "text/html": [
       "<div>\n",
       "<style scoped>\n",
       "    .dataframe tbody tr th:only-of-type {\n",
       "        vertical-align: middle;\n",
       "    }\n",
       "\n",
       "    .dataframe tbody tr th {\n",
       "        vertical-align: top;\n",
       "    }\n",
       "\n",
       "    .dataframe thead th {\n",
       "        text-align: right;\n",
       "    }\n",
       "</style>\n",
       "<table border=\"1\" class=\"dataframe\">\n",
       "  <thead>\n",
       "    <tr style=\"text-align: right;\">\n",
       "      <th></th>\n",
       "      <th>sepal_length_cm</th>\n",
       "      <th>sepal_width_cm</th>\n",
       "      <th>petal_length_cm</th>\n",
       "      <th>petal_width_cm</th>\n",
       "      <th>species</th>\n",
       "      <th>id</th>\n",
       "    </tr>\n",
       "  </thead>\n",
       "  <tbody>\n",
       "    <tr>\n",
       "      <th>0</th>\n",
       "      <td>5.1</td>\n",
       "      <td>3.5</td>\n",
       "      <td>1.4</td>\n",
       "      <td>0.2</td>\n",
       "      <td>setosa</td>\n",
       "      <td>0</td>\n",
       "    </tr>\n",
       "    <tr>\n",
       "      <th>1</th>\n",
       "      <td>4.9</td>\n",
       "      <td>3.0</td>\n",
       "      <td>1.4</td>\n",
       "      <td>0.2</td>\n",
       "      <td>setosa</td>\n",
       "      <td>1</td>\n",
       "    </tr>\n",
       "    <tr>\n",
       "      <th>2</th>\n",
       "      <td>4.7</td>\n",
       "      <td>3.2</td>\n",
       "      <td>1.3</td>\n",
       "      <td>0.2</td>\n",
       "      <td>setosa</td>\n",
       "      <td>2</td>\n",
       "    </tr>\n",
       "    <tr>\n",
       "      <th>3</th>\n",
       "      <td>4.6</td>\n",
       "      <td>3.1</td>\n",
       "      <td>1.5</td>\n",
       "      <td>0.2</td>\n",
       "      <td>setosa</td>\n",
       "      <td>3</td>\n",
       "    </tr>\n",
       "    <tr>\n",
       "      <th>4</th>\n",
       "      <td>5.0</td>\n",
       "      <td>3.6</td>\n",
       "      <td>1.4</td>\n",
       "      <td>0.2</td>\n",
       "      <td>setosa</td>\n",
       "      <td>4</td>\n",
       "    </tr>\n",
       "  </tbody>\n",
       "</table>\n",
       "</div>"
      ],
      "text/plain": [
       "   sepal_length_cm  sepal_width_cm  petal_length_cm  petal_width_cm species  \\\n",
       "0              5.1             3.5              1.4             0.2  setosa   \n",
       "1              4.9             3.0              1.4             0.2  setosa   \n",
       "2              4.7             3.2              1.3             0.2  setosa   \n",
       "3              4.6             3.1              1.5             0.2  setosa   \n",
       "4              5.0             3.6              1.4             0.2  setosa   \n",
       "\n",
       "   id  \n",
       "0   0  \n",
       "1   1  \n",
       "2   2  \n",
       "3   3  \n",
       "4   4  "
      ]
     },
     "execution_count": 2,
     "metadata": {},
     "output_type": "execute_result"
    }
   ],
   "source": [
    "df_iris[\"id\"] = list(range(150))\n",
    "df_iris.head()"
   ]
  },
  {
   "cell_type": "code",
   "execution_count": 4,
   "id": "694ccc80",
   "metadata": {},
   "outputs": [
    {
     "data": {
      "application/vnd.microsoft.datawrangler.viewer.v0+json": {
       "columns": [
        {
         "name": "index",
         "rawType": "int64",
         "type": "integer"
        },
        {
         "name": "id",
         "rawType": "int64",
         "type": "integer"
        },
        {
         "name": "Variables",
         "rawType": "object",
         "type": "string"
        },
        {
         "name": "Values",
         "rawType": "object",
         "type": "unknown"
        }
       ],
       "ref": "ac7108f8-4f51-4ba5-834b-b520f69ab201",
       "rows": [
        [
         "0",
         "0",
         "sepal_length_cm",
         "5.1"
        ],
        [
         "1",
         "1",
         "sepal_length_cm",
         "4.9"
        ],
        [
         "2",
         "2",
         "sepal_length_cm",
         "4.7"
        ],
        [
         "3",
         "3",
         "sepal_length_cm",
         "4.6"
        ],
        [
         "4",
         "4",
         "sepal_length_cm",
         "5.0"
        ]
       ],
       "shape": {
        "columns": 3,
        "rows": 5
       }
      },
      "text/html": [
       "<div>\n",
       "<style scoped>\n",
       "    .dataframe tbody tr th:only-of-type {\n",
       "        vertical-align: middle;\n",
       "    }\n",
       "\n",
       "    .dataframe tbody tr th {\n",
       "        vertical-align: top;\n",
       "    }\n",
       "\n",
       "    .dataframe thead th {\n",
       "        text-align: right;\n",
       "    }\n",
       "</style>\n",
       "<table border=\"1\" class=\"dataframe\">\n",
       "  <thead>\n",
       "    <tr style=\"text-align: right;\">\n",
       "      <th></th>\n",
       "      <th>id</th>\n",
       "      <th>Variables</th>\n",
       "      <th>Values</th>\n",
       "    </tr>\n",
       "  </thead>\n",
       "  <tbody>\n",
       "    <tr>\n",
       "      <th>0</th>\n",
       "      <td>0</td>\n",
       "      <td>sepal_length_cm</td>\n",
       "      <td>5.1</td>\n",
       "    </tr>\n",
       "    <tr>\n",
       "      <th>1</th>\n",
       "      <td>1</td>\n",
       "      <td>sepal_length_cm</td>\n",
       "      <td>4.9</td>\n",
       "    </tr>\n",
       "    <tr>\n",
       "      <th>2</th>\n",
       "      <td>2</td>\n",
       "      <td>sepal_length_cm</td>\n",
       "      <td>4.7</td>\n",
       "    </tr>\n",
       "    <tr>\n",
       "      <th>3</th>\n",
       "      <td>3</td>\n",
       "      <td>sepal_length_cm</td>\n",
       "      <td>4.6</td>\n",
       "    </tr>\n",
       "    <tr>\n",
       "      <th>4</th>\n",
       "      <td>4</td>\n",
       "      <td>sepal_length_cm</td>\n",
       "      <td>5.0</td>\n",
       "    </tr>\n",
       "  </tbody>\n",
       "</table>\n",
       "</div>"
      ],
      "text/plain": [
       "   id        Variables Values\n",
       "0   0  sepal_length_cm    5.1\n",
       "1   1  sepal_length_cm    4.9\n",
       "2   2  sepal_length_cm    4.7\n",
       "3   3  sepal_length_cm    4.6\n",
       "4   4  sepal_length_cm    5.0"
      ]
     },
     "metadata": {},
     "output_type": "display_data"
    },
    {
     "data": {
      "application/vnd.microsoft.datawrangler.viewer.v0+json": {
       "columns": [
        {
         "name": "index",
         "rawType": "int64",
         "type": "integer"
        },
        {
         "name": "id",
         "rawType": "int64",
         "type": "integer"
        },
        {
         "name": "Variables",
         "rawType": "object",
         "type": "string"
        },
        {
         "name": "Values",
         "rawType": "object",
         "type": "string"
        }
       ],
       "ref": "6f0b0b1f-ec9e-4483-9b91-47357cafd794",
       "rows": [
        [
         "745",
         "145",
         "species",
         "virginica"
        ],
        [
         "746",
         "146",
         "species",
         "virginica"
        ],
        [
         "747",
         "147",
         "species",
         "virginica"
        ],
        [
         "748",
         "148",
         "species",
         "virginica"
        ],
        [
         "749",
         "149",
         "species",
         "virginica"
        ]
       ],
       "shape": {
        "columns": 3,
        "rows": 5
       }
      },
      "text/html": [
       "<div>\n",
       "<style scoped>\n",
       "    .dataframe tbody tr th:only-of-type {\n",
       "        vertical-align: middle;\n",
       "    }\n",
       "\n",
       "    .dataframe tbody tr th {\n",
       "        vertical-align: top;\n",
       "    }\n",
       "\n",
       "    .dataframe thead th {\n",
       "        text-align: right;\n",
       "    }\n",
       "</style>\n",
       "<table border=\"1\" class=\"dataframe\">\n",
       "  <thead>\n",
       "    <tr style=\"text-align: right;\">\n",
       "      <th></th>\n",
       "      <th>id</th>\n",
       "      <th>Variables</th>\n",
       "      <th>Values</th>\n",
       "    </tr>\n",
       "  </thead>\n",
       "  <tbody>\n",
       "    <tr>\n",
       "      <th>745</th>\n",
       "      <td>145</td>\n",
       "      <td>species</td>\n",
       "      <td>virginica</td>\n",
       "    </tr>\n",
       "    <tr>\n",
       "      <th>746</th>\n",
       "      <td>146</td>\n",
       "      <td>species</td>\n",
       "      <td>virginica</td>\n",
       "    </tr>\n",
       "    <tr>\n",
       "      <th>747</th>\n",
       "      <td>147</td>\n",
       "      <td>species</td>\n",
       "      <td>virginica</td>\n",
       "    </tr>\n",
       "    <tr>\n",
       "      <th>748</th>\n",
       "      <td>148</td>\n",
       "      <td>species</td>\n",
       "      <td>virginica</td>\n",
       "    </tr>\n",
       "    <tr>\n",
       "      <th>749</th>\n",
       "      <td>149</td>\n",
       "      <td>species</td>\n",
       "      <td>virginica</td>\n",
       "    </tr>\n",
       "  </tbody>\n",
       "</table>\n",
       "</div>"
      ],
      "text/plain": [
       "      id Variables     Values\n",
       "745  145   species  virginica\n",
       "746  146   species  virginica\n",
       "747  147   species  virginica\n",
       "748  148   species  virginica\n",
       "749  149   species  virginica"
      ]
     },
     "metadata": {},
     "output_type": "display_data"
    }
   ],
   "source": [
    "iris_melt = pd.melt(\n",
    "    df_iris,\n",
    "    id_vars=\"id\",\n",
    "    var_name=\"Variables\",\n",
    "    value_name=\"Values\"\n",
    ")\n",
    "display(iris_melt.head(), iris_melt.tail())"
   ]
  },
  {
   "cell_type": "markdown",
   "id": "ebbe94e2",
   "metadata": {},
   "source": [
    "La función pivot se puede ver como una función inversa a la función melt"
   ]
  },
  {
   "cell_type": "code",
   "execution_count": 5,
   "id": "d1095771",
   "metadata": {},
   "outputs": [
    {
     "data": {
      "application/vnd.microsoft.datawrangler.viewer.v0+json": {
       "columns": [
        {
         "name": "id",
         "rawType": "int64",
         "type": "integer"
        },
        {
         "name": "petal_length_cm",
         "rawType": "object",
         "type": "unknown"
        },
        {
         "name": "petal_width_cm",
         "rawType": "object",
         "type": "unknown"
        },
        {
         "name": "sepal_length_cm",
         "rawType": "object",
         "type": "unknown"
        },
        {
         "name": "sepal_width_cm",
         "rawType": "object",
         "type": "unknown"
        },
        {
         "name": "species",
         "rawType": "object",
         "type": "string"
        }
       ],
       "ref": "d026b82b-a6e6-403c-833b-09f3b7c84f19",
       "rows": [
        [
         "0",
         "1.4",
         "0.2",
         "5.1",
         "3.5",
         "setosa"
        ],
        [
         "1",
         "1.4",
         "0.2",
         "4.9",
         "3.0",
         "setosa"
        ],
        [
         "2",
         "1.3",
         "0.2",
         "4.7",
         "3.2",
         "setosa"
        ],
        [
         "3",
         "1.5",
         "0.2",
         "4.6",
         "3.1",
         "setosa"
        ],
        [
         "4",
         "1.4",
         "0.2",
         "5.0",
         "3.6",
         "setosa"
        ]
       ],
       "shape": {
        "columns": 5,
        "rows": 5
       }
      },
      "text/html": [
       "<div>\n",
       "<style scoped>\n",
       "    .dataframe tbody tr th:only-of-type {\n",
       "        vertical-align: middle;\n",
       "    }\n",
       "\n",
       "    .dataframe tbody tr th {\n",
       "        vertical-align: top;\n",
       "    }\n",
       "\n",
       "    .dataframe thead th {\n",
       "        text-align: right;\n",
       "    }\n",
       "</style>\n",
       "<table border=\"1\" class=\"dataframe\">\n",
       "  <thead>\n",
       "    <tr style=\"text-align: right;\">\n",
       "      <th>Variables</th>\n",
       "      <th>petal_length_cm</th>\n",
       "      <th>petal_width_cm</th>\n",
       "      <th>sepal_length_cm</th>\n",
       "      <th>sepal_width_cm</th>\n",
       "      <th>species</th>\n",
       "    </tr>\n",
       "    <tr>\n",
       "      <th>id</th>\n",
       "      <th></th>\n",
       "      <th></th>\n",
       "      <th></th>\n",
       "      <th></th>\n",
       "      <th></th>\n",
       "    </tr>\n",
       "  </thead>\n",
       "  <tbody>\n",
       "    <tr>\n",
       "      <th>0</th>\n",
       "      <td>1.4</td>\n",
       "      <td>0.2</td>\n",
       "      <td>5.1</td>\n",
       "      <td>3.5</td>\n",
       "      <td>setosa</td>\n",
       "    </tr>\n",
       "    <tr>\n",
       "      <th>1</th>\n",
       "      <td>1.4</td>\n",
       "      <td>0.2</td>\n",
       "      <td>4.9</td>\n",
       "      <td>3.0</td>\n",
       "      <td>setosa</td>\n",
       "    </tr>\n",
       "    <tr>\n",
       "      <th>2</th>\n",
       "      <td>1.3</td>\n",
       "      <td>0.2</td>\n",
       "      <td>4.7</td>\n",
       "      <td>3.2</td>\n",
       "      <td>setosa</td>\n",
       "    </tr>\n",
       "    <tr>\n",
       "      <th>3</th>\n",
       "      <td>1.5</td>\n",
       "      <td>0.2</td>\n",
       "      <td>4.6</td>\n",
       "      <td>3.1</td>\n",
       "      <td>setosa</td>\n",
       "    </tr>\n",
       "    <tr>\n",
       "      <th>4</th>\n",
       "      <td>1.4</td>\n",
       "      <td>0.2</td>\n",
       "      <td>5.0</td>\n",
       "      <td>3.6</td>\n",
       "      <td>setosa</td>\n",
       "    </tr>\n",
       "  </tbody>\n",
       "</table>\n",
       "</div>"
      ],
      "text/plain": [
       "Variables petal_length_cm petal_width_cm sepal_length_cm sepal_width_cm  \\\n",
       "id                                                                        \n",
       "0                     1.4            0.2             5.1            3.5   \n",
       "1                     1.4            0.2             4.9            3.0   \n",
       "2                     1.3            0.2             4.7            3.2   \n",
       "3                     1.5            0.2             4.6            3.1   \n",
       "4                     1.4            0.2             5.0            3.6   \n",
       "\n",
       "Variables species  \n",
       "id                 \n",
       "0          setosa  \n",
       "1          setosa  \n",
       "2          setosa  \n",
       "3          setosa  \n",
       "4          setosa  "
      ]
     },
     "execution_count": 5,
     "metadata": {},
     "output_type": "execute_result"
    }
   ],
   "source": [
    "iris_melt.pivot(\n",
    "    index=\"id\",\n",
    "    columns=\"Variables\",\n",
    "    values=\"Values\"\n",
    ").head()"
   ]
  },
  {
   "cell_type": "markdown",
   "id": "adcaacc0",
   "metadata": {},
   "source": [
    "## pivot_table()"
   ]
  },
  {
   "cell_type": "code",
   "execution_count": 9,
   "id": "d6bd8287",
   "metadata": {},
   "outputs": [
    {
     "data": {
      "application/vnd.microsoft.datawrangler.viewer.v0+json": {
       "columns": [
        {
         "name": "species",
         "rawType": "object",
         "type": "string"
        },
        {
         "name": "petal_length_cm",
         "rawType": "float64",
         "type": "float"
        }
       ],
       "ref": "74e116c3-8497-455a-9f0e-af02e3eee5eb",
       "rows": [
        [
         "setosa",
         "1.462"
        ],
        [
         "versicolor",
         "4.26"
        ],
        [
         "virginica",
         "5.5520000000000005"
        ]
       ],
       "shape": {
        "columns": 1,
        "rows": 3
       }
      },
      "text/plain": [
       "species\n",
       "setosa        1.462\n",
       "versicolor    4.260\n",
       "virginica     5.552\n",
       "Name: petal_length_cm, dtype: float64"
      ]
     },
     "execution_count": 9,
     "metadata": {},
     "output_type": "execute_result"
    }
   ],
   "source": [
    "#Calculemos la media de la altura del petalo según la especie\n",
    "df_iris.groupby(\"species\")[\"petal_length_cm\"].mean()"
   ]
  },
  {
   "cell_type": "markdown",
   "id": "4944f401",
   "metadata": {},
   "source": [
    "Este cálculo se puede hacer de manera equivalente usando pivot_table()"
   ]
  },
  {
   "cell_type": "code",
   "execution_count": null,
   "id": "085ee33f",
   "metadata": {},
   "outputs": [
    {
     "data": {
      "application/vnd.microsoft.datawrangler.viewer.v0+json": {
       "columns": [
        {
         "name": "species",
         "rawType": "object",
         "type": "string"
        },
        {
         "name": "petal_length_cm",
         "rawType": "float64",
         "type": "float"
        }
       ],
       "ref": "6847bfac-6b25-4747-9b08-1c10336ae4e0",
       "rows": [
        [
         "setosa",
         "1.462"
        ],
        [
         "versicolor",
         "4.26"
        ],
        [
         "virginica",
         "5.5520000000000005"
        ]
       ],
       "shape": {
        "columns": 1,
        "rows": 3
       }
      },
      "text/html": [
       "<div>\n",
       "<style scoped>\n",
       "    .dataframe tbody tr th:only-of-type {\n",
       "        vertical-align: middle;\n",
       "    }\n",
       "\n",
       "    .dataframe tbody tr th {\n",
       "        vertical-align: top;\n",
       "    }\n",
       "\n",
       "    .dataframe thead th {\n",
       "        text-align: right;\n",
       "    }\n",
       "</style>\n",
       "<table border=\"1\" class=\"dataframe\">\n",
       "  <thead>\n",
       "    <tr style=\"text-align: right;\">\n",
       "      <th></th>\n",
       "      <th>petal_length_cm</th>\n",
       "    </tr>\n",
       "    <tr>\n",
       "      <th>species</th>\n",
       "      <th></th>\n",
       "    </tr>\n",
       "  </thead>\n",
       "  <tbody>\n",
       "    <tr>\n",
       "      <th>setosa</th>\n",
       "      <td>1.462</td>\n",
       "    </tr>\n",
       "    <tr>\n",
       "      <th>versicolor</th>\n",
       "      <td>4.260</td>\n",
       "    </tr>\n",
       "    <tr>\n",
       "      <th>virginica</th>\n",
       "      <td>5.552</td>\n",
       "    </tr>\n",
       "  </tbody>\n",
       "</table>\n",
       "</div>"
      ],
      "text/plain": [
       "            petal_length_cm\n",
       "species                    \n",
       "setosa                1.462\n",
       "versicolor            4.260\n",
       "virginica             5.552"
      ]
     },
     "execution_count": 10,
     "metadata": {},
     "output_type": "execute_result"
    }
   ],
   "source": [
    "df_iris.pivot_table(values=\"petal_length_cm\", index=\"species\") #pivot_table() tiene como función de agregación predeterminada la media"
   ]
  },
  {
   "cell_type": "markdown",
   "id": "4af9c1a7",
   "metadata": {},
   "source": [
    "Entreguemosle otra función de agregación a pivot_table()"
   ]
  },
  {
   "cell_type": "code",
   "execution_count": 14,
   "id": "8fe4dcd5",
   "metadata": {},
   "outputs": [
    {
     "data": {
      "application/vnd.microsoft.datawrangler.viewer.v0+json": {
       "columns": [
        {
         "name": "species",
         "rawType": "object",
         "type": "string"
        },
        {
         "name": "('max', 'petal_length_cm')",
         "rawType": "float64",
         "type": "float"
        },
        {
         "name": "('min', 'petal_length_cm')",
         "rawType": "float64",
         "type": "float"
        },
        {
         "name": "('mean', 'petal_length_cm')",
         "rawType": "float64",
         "type": "float"
        }
       ],
       "ref": "1b1d5934-23c3-45d1-bb83-1623b2eb0ba6",
       "rows": [
        [
         "setosa",
         "1.9",
         "1.0",
         "1.462"
        ],
        [
         "versicolor",
         "5.1",
         "3.0",
         "4.26"
        ],
        [
         "virginica",
         "6.9",
         "4.5",
         "5.5520000000000005"
        ]
       ],
       "shape": {
        "columns": 3,
        "rows": 3
       }
      },
      "text/html": [
       "<div>\n",
       "<style scoped>\n",
       "    .dataframe tbody tr th:only-of-type {\n",
       "        vertical-align: middle;\n",
       "    }\n",
       "\n",
       "    .dataframe tbody tr th {\n",
       "        vertical-align: top;\n",
       "    }\n",
       "\n",
       "    .dataframe thead tr th {\n",
       "        text-align: left;\n",
       "    }\n",
       "\n",
       "    .dataframe thead tr:last-of-type th {\n",
       "        text-align: right;\n",
       "    }\n",
       "</style>\n",
       "<table border=\"1\" class=\"dataframe\">\n",
       "  <thead>\n",
       "    <tr>\n",
       "      <th></th>\n",
       "      <th>max</th>\n",
       "      <th>min</th>\n",
       "      <th>mean</th>\n",
       "    </tr>\n",
       "    <tr>\n",
       "      <th></th>\n",
       "      <th>petal_length_cm</th>\n",
       "      <th>petal_length_cm</th>\n",
       "      <th>petal_length_cm</th>\n",
       "    </tr>\n",
       "    <tr>\n",
       "      <th>species</th>\n",
       "      <th></th>\n",
       "      <th></th>\n",
       "      <th></th>\n",
       "    </tr>\n",
       "  </thead>\n",
       "  <tbody>\n",
       "    <tr>\n",
       "      <th>setosa</th>\n",
       "      <td>1.9</td>\n",
       "      <td>1.0</td>\n",
       "      <td>1.462</td>\n",
       "    </tr>\n",
       "    <tr>\n",
       "      <th>versicolor</th>\n",
       "      <td>5.1</td>\n",
       "      <td>3.0</td>\n",
       "      <td>4.260</td>\n",
       "    </tr>\n",
       "    <tr>\n",
       "      <th>virginica</th>\n",
       "      <td>6.9</td>\n",
       "      <td>4.5</td>\n",
       "      <td>5.552</td>\n",
       "    </tr>\n",
       "  </tbody>\n",
       "</table>\n",
       "</div>"
      ],
      "text/plain": [
       "                       max             min            mean\n",
       "           petal_length_cm petal_length_cm petal_length_cm\n",
       "species                                                   \n",
       "setosa                 1.9             1.0           1.462\n",
       "versicolor             5.1             3.0           4.260\n",
       "virginica              6.9             4.5           5.552"
      ]
     },
     "execution_count": 14,
     "metadata": {},
     "output_type": "execute_result"
    }
   ],
   "source": [
    "df_iris.pivot_table(\n",
    "    values=\"petal_length_cm\",\n",
    "    index=\"species\",\n",
    "    aggfunc=[\"max\", \"min\", \"mean\"]\n",
    ")"
   ]
  },
  {
   "cell_type": "markdown",
   "id": "76f8e7db",
   "metadata": {},
   "source": [
    "También podemos ver todos los valores de una columna y qué valor tiene otra columna para ese valor especifico\n"
   ]
  },
  {
   "cell_type": "code",
   "execution_count": 15,
   "id": "75dcc99e",
   "metadata": {},
   "outputs": [
    {
     "data": {
      "application/vnd.microsoft.datawrangler.viewer.v0+json": {
       "columns": [
        {
         "name": "species",
         "rawType": "object",
         "type": "string"
        },
        {
         "name": "4.3",
         "rawType": "float64",
         "type": "float"
        },
        {
         "name": "4.4",
         "rawType": "float64",
         "type": "float"
        },
        {
         "name": "4.5",
         "rawType": "float64",
         "type": "float"
        },
        {
         "name": "4.6",
         "rawType": "float64",
         "type": "float"
        },
        {
         "name": "4.7",
         "rawType": "float64",
         "type": "float"
        },
        {
         "name": "4.8",
         "rawType": "float64",
         "type": "float"
        },
        {
         "name": "4.9",
         "rawType": "float64",
         "type": "float"
        },
        {
         "name": "5.0",
         "rawType": "float64",
         "type": "float"
        },
        {
         "name": "5.1",
         "rawType": "float64",
         "type": "float"
        },
        {
         "name": "5.2",
         "rawType": "float64",
         "type": "float"
        },
        {
         "name": "5.3",
         "rawType": "float64",
         "type": "float"
        },
        {
         "name": "5.4",
         "rawType": "float64",
         "type": "float"
        },
        {
         "name": "5.5",
         "rawType": "float64",
         "type": "float"
        },
        {
         "name": "5.6",
         "rawType": "float64",
         "type": "float"
        },
        {
         "name": "5.7",
         "rawType": "float64",
         "type": "float"
        },
        {
         "name": "5.8",
         "rawType": "float64",
         "type": "float"
        },
        {
         "name": "5.9",
         "rawType": "float64",
         "type": "float"
        },
        {
         "name": "6.0",
         "rawType": "float64",
         "type": "float"
        },
        {
         "name": "6.1",
         "rawType": "float64",
         "type": "float"
        },
        {
         "name": "6.2",
         "rawType": "float64",
         "type": "float"
        },
        {
         "name": "6.3",
         "rawType": "float64",
         "type": "float"
        },
        {
         "name": "6.4",
         "rawType": "float64",
         "type": "float"
        },
        {
         "name": "6.5",
         "rawType": "float64",
         "type": "float"
        },
        {
         "name": "6.6",
         "rawType": "float64",
         "type": "float"
        },
        {
         "name": "6.7",
         "rawType": "float64",
         "type": "float"
        },
        {
         "name": "6.8",
         "rawType": "float64",
         "type": "float"
        },
        {
         "name": "6.9",
         "rawType": "float64",
         "type": "float"
        },
        {
         "name": "7.0",
         "rawType": "float64",
         "type": "float"
        },
        {
         "name": "7.1",
         "rawType": "float64",
         "type": "float"
        },
        {
         "name": "7.2",
         "rawType": "float64",
         "type": "float"
        },
        {
         "name": "7.3",
         "rawType": "float64",
         "type": "float"
        },
        {
         "name": "7.4",
         "rawType": "float64",
         "type": "float"
        },
        {
         "name": "7.6",
         "rawType": "float64",
         "type": "float"
        },
        {
         "name": "7.7",
         "rawType": "float64",
         "type": "float"
        },
        {
         "name": "7.9",
         "rawType": "float64",
         "type": "float"
        }
       ],
       "ref": "730ee03e-0b09-461f-8c99-cf487addafb4",
       "rows": [
        [
         "setosa",
         "1.1",
         "1.3333333333333333",
         "1.3",
         "1.325",
         "1.4500000000000002",
         "1.58",
         "1.45",
         "1.45",
         "1.5625",
         "1.4666666666666668",
         "1.5",
         "1.54",
         "1.35",
         null,
         "1.6",
         "1.2",
         null,
         null,
         null,
         null,
         null,
         null,
         null,
         null,
         null,
         null,
         null,
         null,
         null,
         null,
         null,
         null,
         null,
         null,
         null
        ],
        [
         "versicolor",
         null,
         null,
         null,
         null,
         null,
         null,
         "3.3",
         "3.4",
         "3.0",
         "3.9",
         null,
         "4.5",
         "3.9799999999999995",
         "4.0600000000000005",
         "4.1",
         "4.0",
         "4.5",
         "4.525",
         "4.5",
         "4.4",
         "4.666666666666667",
         "4.4",
         "4.6",
         "4.5",
         "4.7",
         "4.8",
         "4.9",
         "4.7",
         null,
         null,
         null,
         null,
         null,
         null,
         null
        ],
        [
         "virginica",
         null,
         null,
         null,
         null,
         null,
         null,
         "4.5",
         null,
         null,
         null,
         null,
         null,
         null,
         "4.9",
         "5.0",
         "5.1",
         "5.1",
         "4.9",
         "5.25",
         "5.1",
         "5.366666666666667",
         "5.459999999999999",
         "5.4",
         null,
         "5.6",
         "5.7",
         "5.3999999999999995",
         null,
         "5.9",
         "5.966666666666666",
         "6.3",
         "6.1",
         "6.6",
         "6.6",
         "6.4"
        ]
       ],
       "shape": {
        "columns": 35,
        "rows": 3
       }
      },
      "text/html": [
       "<div>\n",
       "<style scoped>\n",
       "    .dataframe tbody tr th:only-of-type {\n",
       "        vertical-align: middle;\n",
       "    }\n",
       "\n",
       "    .dataframe tbody tr th {\n",
       "        vertical-align: top;\n",
       "    }\n",
       "\n",
       "    .dataframe thead th {\n",
       "        text-align: right;\n",
       "    }\n",
       "</style>\n",
       "<table border=\"1\" class=\"dataframe\">\n",
       "  <thead>\n",
       "    <tr style=\"text-align: right;\">\n",
       "      <th>sepal_length_cm</th>\n",
       "      <th>4.3</th>\n",
       "      <th>4.4</th>\n",
       "      <th>4.5</th>\n",
       "      <th>4.6</th>\n",
       "      <th>4.7</th>\n",
       "      <th>4.8</th>\n",
       "      <th>4.9</th>\n",
       "      <th>5.0</th>\n",
       "      <th>5.1</th>\n",
       "      <th>5.2</th>\n",
       "      <th>...</th>\n",
       "      <th>6.8</th>\n",
       "      <th>6.9</th>\n",
       "      <th>7.0</th>\n",
       "      <th>7.1</th>\n",
       "      <th>7.2</th>\n",
       "      <th>7.3</th>\n",
       "      <th>7.4</th>\n",
       "      <th>7.6</th>\n",
       "      <th>7.7</th>\n",
       "      <th>7.9</th>\n",
       "    </tr>\n",
       "    <tr>\n",
       "      <th>species</th>\n",
       "      <th></th>\n",
       "      <th></th>\n",
       "      <th></th>\n",
       "      <th></th>\n",
       "      <th></th>\n",
       "      <th></th>\n",
       "      <th></th>\n",
       "      <th></th>\n",
       "      <th></th>\n",
       "      <th></th>\n",
       "      <th></th>\n",
       "      <th></th>\n",
       "      <th></th>\n",
       "      <th></th>\n",
       "      <th></th>\n",
       "      <th></th>\n",
       "      <th></th>\n",
       "      <th></th>\n",
       "      <th></th>\n",
       "      <th></th>\n",
       "      <th></th>\n",
       "    </tr>\n",
       "  </thead>\n",
       "  <tbody>\n",
       "    <tr>\n",
       "      <th>setosa</th>\n",
       "      <td>1.1</td>\n",
       "      <td>1.333333</td>\n",
       "      <td>1.3</td>\n",
       "      <td>1.325</td>\n",
       "      <td>1.45</td>\n",
       "      <td>1.58</td>\n",
       "      <td>1.45</td>\n",
       "      <td>1.45</td>\n",
       "      <td>1.5625</td>\n",
       "      <td>1.466667</td>\n",
       "      <td>...</td>\n",
       "      <td>NaN</td>\n",
       "      <td>NaN</td>\n",
       "      <td>NaN</td>\n",
       "      <td>NaN</td>\n",
       "      <td>NaN</td>\n",
       "      <td>NaN</td>\n",
       "      <td>NaN</td>\n",
       "      <td>NaN</td>\n",
       "      <td>NaN</td>\n",
       "      <td>NaN</td>\n",
       "    </tr>\n",
       "    <tr>\n",
       "      <th>versicolor</th>\n",
       "      <td>NaN</td>\n",
       "      <td>NaN</td>\n",
       "      <td>NaN</td>\n",
       "      <td>NaN</td>\n",
       "      <td>NaN</td>\n",
       "      <td>NaN</td>\n",
       "      <td>3.30</td>\n",
       "      <td>3.40</td>\n",
       "      <td>3.0000</td>\n",
       "      <td>3.900000</td>\n",
       "      <td>...</td>\n",
       "      <td>4.8</td>\n",
       "      <td>4.9</td>\n",
       "      <td>4.7</td>\n",
       "      <td>NaN</td>\n",
       "      <td>NaN</td>\n",
       "      <td>NaN</td>\n",
       "      <td>NaN</td>\n",
       "      <td>NaN</td>\n",
       "      <td>NaN</td>\n",
       "      <td>NaN</td>\n",
       "    </tr>\n",
       "    <tr>\n",
       "      <th>virginica</th>\n",
       "      <td>NaN</td>\n",
       "      <td>NaN</td>\n",
       "      <td>NaN</td>\n",
       "      <td>NaN</td>\n",
       "      <td>NaN</td>\n",
       "      <td>NaN</td>\n",
       "      <td>4.50</td>\n",
       "      <td>NaN</td>\n",
       "      <td>NaN</td>\n",
       "      <td>NaN</td>\n",
       "      <td>...</td>\n",
       "      <td>5.7</td>\n",
       "      <td>5.4</td>\n",
       "      <td>NaN</td>\n",
       "      <td>5.9</td>\n",
       "      <td>5.966667</td>\n",
       "      <td>6.3</td>\n",
       "      <td>6.1</td>\n",
       "      <td>6.6</td>\n",
       "      <td>6.6</td>\n",
       "      <td>6.4</td>\n",
       "    </tr>\n",
       "  </tbody>\n",
       "</table>\n",
       "<p>3 rows × 35 columns</p>\n",
       "</div>"
      ],
      "text/plain": [
       "sepal_length_cm  4.3       4.4  4.5    4.6   4.7   4.8   4.9   5.0     5.1  \\\n",
       "species                                                                      \n",
       "setosa           1.1  1.333333  1.3  1.325  1.45  1.58  1.45  1.45  1.5625   \n",
       "versicolor       NaN       NaN  NaN    NaN   NaN   NaN  3.30  3.40  3.0000   \n",
       "virginica        NaN       NaN  NaN    NaN   NaN   NaN  4.50   NaN     NaN   \n",
       "\n",
       "sepal_length_cm       5.2  ...  6.8  6.9  7.0  7.1       7.2  7.3  7.4  7.6  \\\n",
       "species                    ...                                                \n",
       "setosa           1.466667  ...  NaN  NaN  NaN  NaN       NaN  NaN  NaN  NaN   \n",
       "versicolor       3.900000  ...  4.8  4.9  4.7  NaN       NaN  NaN  NaN  NaN   \n",
       "virginica             NaN  ...  5.7  5.4  NaN  5.9  5.966667  6.3  6.1  6.6   \n",
       "\n",
       "sepal_length_cm  7.7  7.9  \n",
       "species                    \n",
       "setosa           NaN  NaN  \n",
       "versicolor       NaN  NaN  \n",
       "virginica        6.6  6.4  \n",
       "\n",
       "[3 rows x 35 columns]"
      ]
     },
     "execution_count": 15,
     "metadata": {},
     "output_type": "execute_result"
    }
   ],
   "source": [
    "df_iris.pivot_table(\n",
    "    values=\"petal_length_cm\",\n",
    "    index=\"species\",\n",
    "    columns=\"sepal_length_cm\"\n",
    ").head()"
   ]
  },
  {
   "cell_type": "markdown",
   "id": "3637f86b",
   "metadata": {},
   "source": [
    "## Stack & Unstack"
   ]
  },
  {
   "cell_type": "markdown",
   "id": "59951290",
   "metadata": {},
   "source": [
    "El método stack() nos retorna un panda series con el valor de cada columna para cada registro"
   ]
  },
  {
   "cell_type": "code",
   "execution_count": 19,
   "id": "1bdeb116",
   "metadata": {},
   "outputs": [
    {
     "data": {
      "application/vnd.microsoft.datawrangler.viewer.v0+json": {
       "columns": [
        {
         "name": "(None, None)",
         "rawType": "object",
         "type": "unknown"
        },
        {
         "name": "0",
         "rawType": "object",
         "type": "unknown"
        }
       ],
       "ref": "40a75a4a-c7fc-440b-b580-a76bd1b000c6",
       "rows": [
        [
         "(0, 'sepal_length_cm')",
         "5.1"
        ],
        [
         "(0, 'sepal_width_cm')",
         "3.5"
        ],
        [
         "(0, 'petal_length_cm')",
         "1.4"
        ],
        [
         "(0, 'petal_width_cm')",
         "0.2"
        ],
        [
         "(0, 'species')",
         "setosa"
        ],
        [
         "(0, 'id')",
         "0"
        ],
        [
         "(1, 'sepal_length_cm')",
         "4.9"
        ],
        [
         "(1, 'sepal_width_cm')",
         "3.0"
        ],
        [
         "(1, 'petal_length_cm')",
         "1.4"
        ],
        [
         "(1, 'petal_width_cm')",
         "0.2"
        ]
       ],
       "shape": {
        "columns": 1,
        "rows": 10
       }
      },
      "text/plain": [
       "0  sepal_length_cm       5.1\n",
       "   sepal_width_cm        3.5\n",
       "   petal_length_cm       1.4\n",
       "   petal_width_cm        0.2\n",
       "   species            setosa\n",
       "   id                      0\n",
       "1  sepal_length_cm       4.9\n",
       "   sepal_width_cm        3.0\n",
       "   petal_length_cm       1.4\n",
       "   petal_width_cm        0.2\n",
       "dtype: object"
      ]
     },
     "execution_count": 19,
     "metadata": {},
     "output_type": "execute_result"
    }
   ],
   "source": [
    "df_iris.stack().head(10)"
   ]
  },
  {
   "cell_type": "markdown",
   "id": "88377998",
   "metadata": {},
   "source": [
    "El método unstack() hace la operación inversa, toma un panda series stack() y lo transforma en un dataframe "
   ]
  },
  {
   "cell_type": "code",
   "execution_count": 21,
   "id": "f82f5ef5",
   "metadata": {},
   "outputs": [
    {
     "data": {
      "application/vnd.microsoft.datawrangler.viewer.v0+json": {
       "columns": [
        {
         "name": "index",
         "rawType": "int64",
         "type": "integer"
        },
        {
         "name": "sepal_length_cm",
         "rawType": "object",
         "type": "unknown"
        },
        {
         "name": "sepal_width_cm",
         "rawType": "object",
         "type": "unknown"
        },
        {
         "name": "petal_length_cm",
         "rawType": "object",
         "type": "unknown"
        },
        {
         "name": "petal_width_cm",
         "rawType": "object",
         "type": "unknown"
        },
        {
         "name": "species",
         "rawType": "object",
         "type": "string"
        },
        {
         "name": "id",
         "rawType": "object",
         "type": "unknown"
        }
       ],
       "ref": "29133f9d-bb8e-4d85-8a64-93e7cfaf7c90",
       "rows": [
        [
         "0",
         "5.1",
         "3.5",
         "1.4",
         "0.2",
         "setosa",
         "0"
        ],
        [
         "1",
         "4.9",
         "3.0",
         "1.4",
         "0.2",
         "setosa",
         "1"
        ],
        [
         "2",
         "4.7",
         "3.2",
         "1.3",
         "0.2",
         "setosa",
         "2"
        ],
        [
         "3",
         "4.6",
         "3.1",
         "1.5",
         "0.2",
         "setosa",
         "3"
        ],
        [
         "4",
         "5.0",
         "3.6",
         "1.4",
         "0.2",
         "setosa",
         "4"
        ]
       ],
       "shape": {
        "columns": 6,
        "rows": 5
       }
      },
      "text/html": [
       "<div>\n",
       "<style scoped>\n",
       "    .dataframe tbody tr th:only-of-type {\n",
       "        vertical-align: middle;\n",
       "    }\n",
       "\n",
       "    .dataframe tbody tr th {\n",
       "        vertical-align: top;\n",
       "    }\n",
       "\n",
       "    .dataframe thead th {\n",
       "        text-align: right;\n",
       "    }\n",
       "</style>\n",
       "<table border=\"1\" class=\"dataframe\">\n",
       "  <thead>\n",
       "    <tr style=\"text-align: right;\">\n",
       "      <th></th>\n",
       "      <th>sepal_length_cm</th>\n",
       "      <th>sepal_width_cm</th>\n",
       "      <th>petal_length_cm</th>\n",
       "      <th>petal_width_cm</th>\n",
       "      <th>species</th>\n",
       "      <th>id</th>\n",
       "    </tr>\n",
       "  </thead>\n",
       "  <tbody>\n",
       "    <tr>\n",
       "      <th>0</th>\n",
       "      <td>5.1</td>\n",
       "      <td>3.5</td>\n",
       "      <td>1.4</td>\n",
       "      <td>0.2</td>\n",
       "      <td>setosa</td>\n",
       "      <td>0</td>\n",
       "    </tr>\n",
       "    <tr>\n",
       "      <th>1</th>\n",
       "      <td>4.9</td>\n",
       "      <td>3.0</td>\n",
       "      <td>1.4</td>\n",
       "      <td>0.2</td>\n",
       "      <td>setosa</td>\n",
       "      <td>1</td>\n",
       "    </tr>\n",
       "    <tr>\n",
       "      <th>2</th>\n",
       "      <td>4.7</td>\n",
       "      <td>3.2</td>\n",
       "      <td>1.3</td>\n",
       "      <td>0.2</td>\n",
       "      <td>setosa</td>\n",
       "      <td>2</td>\n",
       "    </tr>\n",
       "    <tr>\n",
       "      <th>3</th>\n",
       "      <td>4.6</td>\n",
       "      <td>3.1</td>\n",
       "      <td>1.5</td>\n",
       "      <td>0.2</td>\n",
       "      <td>setosa</td>\n",
       "      <td>3</td>\n",
       "    </tr>\n",
       "    <tr>\n",
       "      <th>4</th>\n",
       "      <td>5.0</td>\n",
       "      <td>3.6</td>\n",
       "      <td>1.4</td>\n",
       "      <td>0.2</td>\n",
       "      <td>setosa</td>\n",
       "      <td>4</td>\n",
       "    </tr>\n",
       "  </tbody>\n",
       "</table>\n",
       "</div>"
      ],
      "text/plain": [
       "  sepal_length_cm sepal_width_cm petal_length_cm petal_width_cm species id\n",
       "0             5.1            3.5             1.4            0.2  setosa  0\n",
       "1             4.9            3.0             1.4            0.2  setosa  1\n",
       "2             4.7            3.2             1.3            0.2  setosa  2\n",
       "3             4.6            3.1             1.5            0.2  setosa  3\n",
       "4             5.0            3.6             1.4            0.2  setosa  4"
      ]
     },
     "execution_count": 21,
     "metadata": {},
     "output_type": "execute_result"
    }
   ],
   "source": [
    "df_iris.stack().unstack().head()"
   ]
  },
  {
   "cell_type": "markdown",
   "id": "3a130286",
   "metadata": {},
   "source": [
    "## Tablas dinámicas"
   ]
  },
  {
   "cell_type": "markdown",
   "id": "dba594bd",
   "metadata": {},
   "source": [
    "Para el ejemplo crearemos un nuevo dataframe"
   ]
  },
  {
   "cell_type": "code",
   "execution_count": 22,
   "id": "b8122f66",
   "metadata": {},
   "outputs": [
    {
     "data": {
      "application/vnd.microsoft.datawrangler.viewer.v0+json": {
       "columns": [
        {
         "name": "index",
         "rawType": "int64",
         "type": "integer"
        },
        {
         "name": "key1",
         "rawType": "object",
         "type": "string"
        },
        {
         "name": "key2",
         "rawType": "object",
         "type": "string"
        },
        {
         "name": "values1",
         "rawType": "int64",
         "type": "integer"
        },
        {
         "name": "values2",
         "rawType": "int64",
         "type": "integer"
        }
       ],
       "ref": "0b197dbc-e2be-41b5-93cd-a32e6ef776e9",
       "rows": [
        [
         "0",
         "a",
         "A",
         "1",
         "7"
        ],
        [
         "1",
         "a",
         "B",
         "2",
         "8"
        ],
        [
         "2",
         "b",
         "A",
         "3",
         "9"
        ],
        [
         "3",
         "b",
         "B",
         "4",
         "10"
        ],
        [
         "4",
         "c",
         "A",
         "5",
         "11"
        ],
        [
         "5",
         "c",
         "B",
         "6",
         "12"
        ]
       ],
       "shape": {
        "columns": 4,
        "rows": 6
       }
      },
      "text/html": [
       "<div>\n",
       "<style scoped>\n",
       "    .dataframe tbody tr th:only-of-type {\n",
       "        vertical-align: middle;\n",
       "    }\n",
       "\n",
       "    .dataframe tbody tr th {\n",
       "        vertical-align: top;\n",
       "    }\n",
       "\n",
       "    .dataframe thead th {\n",
       "        text-align: right;\n",
       "    }\n",
       "</style>\n",
       "<table border=\"1\" class=\"dataframe\">\n",
       "  <thead>\n",
       "    <tr style=\"text-align: right;\">\n",
       "      <th></th>\n",
       "      <th>key1</th>\n",
       "      <th>key2</th>\n",
       "      <th>values1</th>\n",
       "      <th>values2</th>\n",
       "    </tr>\n",
       "  </thead>\n",
       "  <tbody>\n",
       "    <tr>\n",
       "      <th>0</th>\n",
       "      <td>a</td>\n",
       "      <td>A</td>\n",
       "      <td>1</td>\n",
       "      <td>7</td>\n",
       "    </tr>\n",
       "    <tr>\n",
       "      <th>1</th>\n",
       "      <td>a</td>\n",
       "      <td>B</td>\n",
       "      <td>2</td>\n",
       "      <td>8</td>\n",
       "    </tr>\n",
       "    <tr>\n",
       "      <th>2</th>\n",
       "      <td>b</td>\n",
       "      <td>A</td>\n",
       "      <td>3</td>\n",
       "      <td>9</td>\n",
       "    </tr>\n",
       "    <tr>\n",
       "      <th>3</th>\n",
       "      <td>b</td>\n",
       "      <td>B</td>\n",
       "      <td>4</td>\n",
       "      <td>10</td>\n",
       "    </tr>\n",
       "    <tr>\n",
       "      <th>4</th>\n",
       "      <td>c</td>\n",
       "      <td>A</td>\n",
       "      <td>5</td>\n",
       "      <td>11</td>\n",
       "    </tr>\n",
       "    <tr>\n",
       "      <th>5</th>\n",
       "      <td>c</td>\n",
       "      <td>B</td>\n",
       "      <td>6</td>\n",
       "      <td>12</td>\n",
       "    </tr>\n",
       "  </tbody>\n",
       "</table>\n",
       "</div>"
      ],
      "text/plain": [
       "  key1 key2  values1  values2\n",
       "0    a    A        1        7\n",
       "1    a    B        2        8\n",
       "2    b    A        3        9\n",
       "3    b    B        4       10\n",
       "4    c    A        5       11\n",
       "5    c    B        6       12"
      ]
     },
     "execution_count": 22,
     "metadata": {},
     "output_type": "execute_result"
    }
   ],
   "source": [
    "df = pd.DataFrame(\n",
    "    {\n",
    "        \"key1\": [\"a\", \"a\", \"b\", \"b\", \"c\", \"c\"],\n",
    "        \"key2\": [\"A\", \"B\", \"A\", \"B\", \"A\", \"B\"],\n",
    "        \"values1\": [1, 2, 3, 4, 5, 6],\n",
    "        \"values2\": [7, 8, 9, 10, 11, 12],\n",
    "    }\n",
    ")\n",
    "df"
   ]
  },
  {
   "cell_type": "code",
   "execution_count": 23,
   "id": "b4513bf8",
   "metadata": {},
   "outputs": [
    {
     "data": {
      "application/vnd.microsoft.datawrangler.viewer.v0+json": {
       "columns": [
        {
         "name": "('key1', 'key2')",
         "rawType": "object",
         "type": "unknown"
        },
        {
         "name": "values1",
         "rawType": "float64",
         "type": "float"
        },
        {
         "name": "values2",
         "rawType": "float64",
         "type": "float"
        }
       ],
       "ref": "ff9e547d-b5fd-4f72-a618-1dceaa933129",
       "rows": [
        [
         "('a', 'A')",
         "1.0",
         "7.0"
        ],
        [
         "('a', 'B')",
         "2.0",
         "8.0"
        ],
        [
         "('b', 'A')",
         "3.0",
         "9.0"
        ],
        [
         "('b', 'B')",
         "4.0",
         "10.0"
        ],
        [
         "('c', 'A')",
         "5.0",
         "11.0"
        ],
        [
         "('c', 'B')",
         "6.0",
         "12.0"
        ]
       ],
       "shape": {
        "columns": 2,
        "rows": 6
       }
      },
      "text/html": [
       "<div>\n",
       "<style scoped>\n",
       "    .dataframe tbody tr th:only-of-type {\n",
       "        vertical-align: middle;\n",
       "    }\n",
       "\n",
       "    .dataframe tbody tr th {\n",
       "        vertical-align: top;\n",
       "    }\n",
       "\n",
       "    .dataframe thead th {\n",
       "        text-align: right;\n",
       "    }\n",
       "</style>\n",
       "<table border=\"1\" class=\"dataframe\">\n",
       "  <thead>\n",
       "    <tr style=\"text-align: right;\">\n",
       "      <th></th>\n",
       "      <th></th>\n",
       "      <th>values1</th>\n",
       "      <th>values2</th>\n",
       "    </tr>\n",
       "    <tr>\n",
       "      <th>key1</th>\n",
       "      <th>key2</th>\n",
       "      <th></th>\n",
       "      <th></th>\n",
       "    </tr>\n",
       "  </thead>\n",
       "  <tbody>\n",
       "    <tr>\n",
       "      <th rowspan=\"2\" valign=\"top\">a</th>\n",
       "      <th>A</th>\n",
       "      <td>1.0</td>\n",
       "      <td>7.0</td>\n",
       "    </tr>\n",
       "    <tr>\n",
       "      <th>B</th>\n",
       "      <td>2.0</td>\n",
       "      <td>8.0</td>\n",
       "    </tr>\n",
       "    <tr>\n",
       "      <th rowspan=\"2\" valign=\"top\">b</th>\n",
       "      <th>A</th>\n",
       "      <td>3.0</td>\n",
       "      <td>9.0</td>\n",
       "    </tr>\n",
       "    <tr>\n",
       "      <th>B</th>\n",
       "      <td>4.0</td>\n",
       "      <td>10.0</td>\n",
       "    </tr>\n",
       "    <tr>\n",
       "      <th rowspan=\"2\" valign=\"top\">c</th>\n",
       "      <th>A</th>\n",
       "      <td>5.0</td>\n",
       "      <td>11.0</td>\n",
       "    </tr>\n",
       "    <tr>\n",
       "      <th>B</th>\n",
       "      <td>6.0</td>\n",
       "      <td>12.0</td>\n",
       "    </tr>\n",
       "  </tbody>\n",
       "</table>\n",
       "</div>"
      ],
      "text/plain": [
       "           values1  values2\n",
       "key1 key2                  \n",
       "a    A         1.0      7.0\n",
       "     B         2.0      8.0\n",
       "b    A         3.0      9.0\n",
       "     B         4.0     10.0\n",
       "c    A         5.0     11.0\n",
       "     B         6.0     12.0"
      ]
     },
     "execution_count": 23,
     "metadata": {},
     "output_type": "execute_result"
    }
   ],
   "source": [
    "pd.pivot_table(\n",
    "    df,\n",
    "    index=[\"key1\", \"key2\"],\n",
    "    values=[\"values1\", \"values2\"]\n",
    ")"
   ]
  },
  {
   "cell_type": "markdown",
   "id": "69e939f6",
   "metadata": {},
   "source": [
    "## Método pivot()"
   ]
  },
  {
   "cell_type": "code",
   "execution_count": 24,
   "id": "8d2bb51a",
   "metadata": {},
   "outputs": [
    {
     "data": {
      "application/vnd.microsoft.datawrangler.viewer.v0+json": {
       "columns": [
        {
         "name": "index",
         "rawType": "int64",
         "type": "integer"
        },
        {
         "name": "foo",
         "rawType": "object",
         "type": "string"
        },
        {
         "name": "bar",
         "rawType": "object",
         "type": "string"
        },
        {
         "name": "baz",
         "rawType": "int64",
         "type": "integer"
        },
        {
         "name": "zoo",
         "rawType": "object",
         "type": "string"
        }
       ],
       "ref": "5d6179be-a8d1-49b8-bfcd-3921db91e84a",
       "rows": [
        [
         "0",
         "one",
         "A",
         "1",
         "x"
        ],
        [
         "1",
         "one",
         "B",
         "2",
         "y"
        ],
        [
         "2",
         "one",
         "C",
         "3",
         "z"
        ],
        [
         "3",
         "two",
         "A",
         "4",
         "q"
        ],
        [
         "4",
         "two",
         "B",
         "5",
         "w"
        ],
        [
         "5",
         "two",
         "C",
         "6",
         "t"
        ]
       ],
       "shape": {
        "columns": 4,
        "rows": 6
       }
      },
      "text/html": [
       "<div>\n",
       "<style scoped>\n",
       "    .dataframe tbody tr th:only-of-type {\n",
       "        vertical-align: middle;\n",
       "    }\n",
       "\n",
       "    .dataframe tbody tr th {\n",
       "        vertical-align: top;\n",
       "    }\n",
       "\n",
       "    .dataframe thead th {\n",
       "        text-align: right;\n",
       "    }\n",
       "</style>\n",
       "<table border=\"1\" class=\"dataframe\">\n",
       "  <thead>\n",
       "    <tr style=\"text-align: right;\">\n",
       "      <th></th>\n",
       "      <th>foo</th>\n",
       "      <th>bar</th>\n",
       "      <th>baz</th>\n",
       "      <th>zoo</th>\n",
       "    </tr>\n",
       "  </thead>\n",
       "  <tbody>\n",
       "    <tr>\n",
       "      <th>0</th>\n",
       "      <td>one</td>\n",
       "      <td>A</td>\n",
       "      <td>1</td>\n",
       "      <td>x</td>\n",
       "    </tr>\n",
       "    <tr>\n",
       "      <th>1</th>\n",
       "      <td>one</td>\n",
       "      <td>B</td>\n",
       "      <td>2</td>\n",
       "      <td>y</td>\n",
       "    </tr>\n",
       "    <tr>\n",
       "      <th>2</th>\n",
       "      <td>one</td>\n",
       "      <td>C</td>\n",
       "      <td>3</td>\n",
       "      <td>z</td>\n",
       "    </tr>\n",
       "    <tr>\n",
       "      <th>3</th>\n",
       "      <td>two</td>\n",
       "      <td>A</td>\n",
       "      <td>4</td>\n",
       "      <td>q</td>\n",
       "    </tr>\n",
       "    <tr>\n",
       "      <th>4</th>\n",
       "      <td>two</td>\n",
       "      <td>B</td>\n",
       "      <td>5</td>\n",
       "      <td>w</td>\n",
       "    </tr>\n",
       "    <tr>\n",
       "      <th>5</th>\n",
       "      <td>two</td>\n",
       "      <td>C</td>\n",
       "      <td>6</td>\n",
       "      <td>t</td>\n",
       "    </tr>\n",
       "  </tbody>\n",
       "</table>\n",
       "</div>"
      ],
      "text/plain": [
       "   foo bar  baz zoo\n",
       "0  one   A    1   x\n",
       "1  one   B    2   y\n",
       "2  one   C    3   z\n",
       "3  two   A    4   q\n",
       "4  two   B    5   w\n",
       "5  two   C    6   t"
      ]
     },
     "execution_count": 24,
     "metadata": {},
     "output_type": "execute_result"
    }
   ],
   "source": [
    "df = pd.DataFrame(\n",
    "    {\n",
    "        \"foo\": [\"one\", \"one\", \"one\", \"two\", \"two\", \"two\"],\n",
    "        \"bar\": [\"A\", \"B\", \"C\", \"A\", \"B\", \"C\"],\n",
    "        \"baz\": [1, 2, 3, 4, 5, 6],\n",
    "        \"zoo\": [\"x\", \"y\", \"z\", \"q\", \"w\", \"t\"],\n",
    "    }\n",
    ")\n",
    "df"
   ]
  },
  {
   "cell_type": "code",
   "execution_count": 25,
   "id": "7824d5ac",
   "metadata": {},
   "outputs": [
    {
     "data": {
      "application/vnd.microsoft.datawrangler.viewer.v0+json": {
       "columns": [
        {
         "name": "foo",
         "rawType": "object",
         "type": "string"
        },
        {
         "name": "A",
         "rawType": "int64",
         "type": "integer"
        },
        {
         "name": "B",
         "rawType": "int64",
         "type": "integer"
        },
        {
         "name": "C",
         "rawType": "int64",
         "type": "integer"
        }
       ],
       "ref": "e7b34199-9c20-4027-ba85-0a7f8c7cad8b",
       "rows": [
        [
         "one",
         "1",
         "2",
         "3"
        ],
        [
         "two",
         "4",
         "5",
         "6"
        ]
       ],
       "shape": {
        "columns": 3,
        "rows": 2
       }
      },
      "text/html": [
       "<div>\n",
       "<style scoped>\n",
       "    .dataframe tbody tr th:only-of-type {\n",
       "        vertical-align: middle;\n",
       "    }\n",
       "\n",
       "    .dataframe tbody tr th {\n",
       "        vertical-align: top;\n",
       "    }\n",
       "\n",
       "    .dataframe thead th {\n",
       "        text-align: right;\n",
       "    }\n",
       "</style>\n",
       "<table border=\"1\" class=\"dataframe\">\n",
       "  <thead>\n",
       "    <tr style=\"text-align: right;\">\n",
       "      <th>bar</th>\n",
       "      <th>A</th>\n",
       "      <th>B</th>\n",
       "      <th>C</th>\n",
       "    </tr>\n",
       "    <tr>\n",
       "      <th>foo</th>\n",
       "      <th></th>\n",
       "      <th></th>\n",
       "      <th></th>\n",
       "    </tr>\n",
       "  </thead>\n",
       "  <tbody>\n",
       "    <tr>\n",
       "      <th>one</th>\n",
       "      <td>1</td>\n",
       "      <td>2</td>\n",
       "      <td>3</td>\n",
       "    </tr>\n",
       "    <tr>\n",
       "      <th>two</th>\n",
       "      <td>4</td>\n",
       "      <td>5</td>\n",
       "      <td>6</td>\n",
       "    </tr>\n",
       "  </tbody>\n",
       "</table>\n",
       "</div>"
      ],
      "text/plain": [
       "bar  A  B  C\n",
       "foo         \n",
       "one  1  2  3\n",
       "two  4  5  6"
      ]
     },
     "execution_count": 25,
     "metadata": {},
     "output_type": "execute_result"
    }
   ],
   "source": [
    "df.pivot(\n",
    "    index=\"foo\",\n",
    "    columns=\"bar\",\n",
    "    values=\"baz\"\n",
    ")"
   ]
  },
  {
   "cell_type": "markdown",
   "id": "dfc93708",
   "metadata": {},
   "source": [
    "Ahora no indiquemos la columna values"
   ]
  },
  {
   "cell_type": "code",
   "execution_count": 26,
   "id": "51633da8",
   "metadata": {},
   "outputs": [
    {
     "data": {
      "application/vnd.microsoft.datawrangler.viewer.v0+json": {
       "columns": [
        {
         "name": "foo",
         "rawType": "object",
         "type": "string"
        },
        {
         "name": "('baz', 'A')",
         "rawType": "int64",
         "type": "integer"
        },
        {
         "name": "('baz', 'B')",
         "rawType": "int64",
         "type": "integer"
        },
        {
         "name": "('baz', 'C')",
         "rawType": "int64",
         "type": "integer"
        },
        {
         "name": "('zoo', 'A')",
         "rawType": "object",
         "type": "string"
        },
        {
         "name": "('zoo', 'B')",
         "rawType": "object",
         "type": "string"
        },
        {
         "name": "('zoo', 'C')",
         "rawType": "object",
         "type": "string"
        }
       ],
       "ref": "a70374f6-13c8-40a4-a97b-0f529eedfe29",
       "rows": [
        [
         "one",
         "1",
         "2",
         "3",
         "x",
         "y",
         "z"
        ],
        [
         "two",
         "4",
         "5",
         "6",
         "q",
         "w",
         "t"
        ]
       ],
       "shape": {
        "columns": 6,
        "rows": 2
       }
      },
      "text/html": [
       "<div>\n",
       "<style scoped>\n",
       "    .dataframe tbody tr th:only-of-type {\n",
       "        vertical-align: middle;\n",
       "    }\n",
       "\n",
       "    .dataframe tbody tr th {\n",
       "        vertical-align: top;\n",
       "    }\n",
       "\n",
       "    .dataframe thead tr th {\n",
       "        text-align: left;\n",
       "    }\n",
       "\n",
       "    .dataframe thead tr:last-of-type th {\n",
       "        text-align: right;\n",
       "    }\n",
       "</style>\n",
       "<table border=\"1\" class=\"dataframe\">\n",
       "  <thead>\n",
       "    <tr>\n",
       "      <th></th>\n",
       "      <th colspan=\"3\" halign=\"left\">baz</th>\n",
       "      <th colspan=\"3\" halign=\"left\">zoo</th>\n",
       "    </tr>\n",
       "    <tr>\n",
       "      <th>bar</th>\n",
       "      <th>A</th>\n",
       "      <th>B</th>\n",
       "      <th>C</th>\n",
       "      <th>A</th>\n",
       "      <th>B</th>\n",
       "      <th>C</th>\n",
       "    </tr>\n",
       "    <tr>\n",
       "      <th>foo</th>\n",
       "      <th></th>\n",
       "      <th></th>\n",
       "      <th></th>\n",
       "      <th></th>\n",
       "      <th></th>\n",
       "      <th></th>\n",
       "    </tr>\n",
       "  </thead>\n",
       "  <tbody>\n",
       "    <tr>\n",
       "      <th>one</th>\n",
       "      <td>1</td>\n",
       "      <td>2</td>\n",
       "      <td>3</td>\n",
       "      <td>x</td>\n",
       "      <td>y</td>\n",
       "      <td>z</td>\n",
       "    </tr>\n",
       "    <tr>\n",
       "      <th>two</th>\n",
       "      <td>4</td>\n",
       "      <td>5</td>\n",
       "      <td>6</td>\n",
       "      <td>q</td>\n",
       "      <td>w</td>\n",
       "      <td>t</td>\n",
       "    </tr>\n",
       "  </tbody>\n",
       "</table>\n",
       "</div>"
      ],
      "text/plain": [
       "    baz       zoo      \n",
       "bar   A  B  C   A  B  C\n",
       "foo                    \n",
       "one   1  2  3   x  y  z\n",
       "two   4  5  6   q  w  t"
      ]
     },
     "execution_count": 26,
     "metadata": {},
     "output_type": "execute_result"
    }
   ],
   "source": [
    "df.pivot(\n",
    "    index=\"foo\",\n",
    "    columns=\"bar\"\n",
    ")"
   ]
  },
  {
   "cell_type": "markdown",
   "id": "2374b527",
   "metadata": {},
   "source": [
    "Ahora vamos a indicar todos los valores "
   ]
  },
  {
   "cell_type": "code",
   "execution_count": 28,
   "id": "aabeae1f",
   "metadata": {},
   "outputs": [
    {
     "data": {
      "application/vnd.microsoft.datawrangler.viewer.v0+json": {
       "columns": [
        {
         "name": "foo",
         "rawType": "object",
         "type": "string"
        },
        {
         "name": "('zoo', 'A')",
         "rawType": "object",
         "type": "string"
        },
        {
         "name": "('zoo', 'B')",
         "rawType": "object",
         "type": "string"
        },
        {
         "name": "('zoo', 'C')",
         "rawType": "object",
         "type": "string"
        },
        {
         "name": "('baz', 'A')",
         "rawType": "object",
         "type": "unknown"
        },
        {
         "name": "('baz', 'B')",
         "rawType": "object",
         "type": "unknown"
        },
        {
         "name": "('baz', 'C')",
         "rawType": "object",
         "type": "unknown"
        }
       ],
       "ref": "4a51db61-a87c-4d93-8dd7-875b96e217af",
       "rows": [
        [
         "one",
         "x",
         "y",
         "z",
         "1",
         "2",
         "3"
        ],
        [
         "two",
         "q",
         "w",
         "t",
         "4",
         "5",
         "6"
        ]
       ],
       "shape": {
        "columns": 6,
        "rows": 2
       }
      },
      "text/html": [
       "<div>\n",
       "<style scoped>\n",
       "    .dataframe tbody tr th:only-of-type {\n",
       "        vertical-align: middle;\n",
       "    }\n",
       "\n",
       "    .dataframe tbody tr th {\n",
       "        vertical-align: top;\n",
       "    }\n",
       "\n",
       "    .dataframe thead tr th {\n",
       "        text-align: left;\n",
       "    }\n",
       "\n",
       "    .dataframe thead tr:last-of-type th {\n",
       "        text-align: right;\n",
       "    }\n",
       "</style>\n",
       "<table border=\"1\" class=\"dataframe\">\n",
       "  <thead>\n",
       "    <tr>\n",
       "      <th></th>\n",
       "      <th colspan=\"3\" halign=\"left\">zoo</th>\n",
       "      <th colspan=\"3\" halign=\"left\">baz</th>\n",
       "    </tr>\n",
       "    <tr>\n",
       "      <th>bar</th>\n",
       "      <th>A</th>\n",
       "      <th>B</th>\n",
       "      <th>C</th>\n",
       "      <th>A</th>\n",
       "      <th>B</th>\n",
       "      <th>C</th>\n",
       "    </tr>\n",
       "    <tr>\n",
       "      <th>foo</th>\n",
       "      <th></th>\n",
       "      <th></th>\n",
       "      <th></th>\n",
       "      <th></th>\n",
       "      <th></th>\n",
       "      <th></th>\n",
       "    </tr>\n",
       "  </thead>\n",
       "  <tbody>\n",
       "    <tr>\n",
       "      <th>one</th>\n",
       "      <td>x</td>\n",
       "      <td>y</td>\n",
       "      <td>z</td>\n",
       "      <td>1</td>\n",
       "      <td>2</td>\n",
       "      <td>3</td>\n",
       "    </tr>\n",
       "    <tr>\n",
       "      <th>two</th>\n",
       "      <td>q</td>\n",
       "      <td>w</td>\n",
       "      <td>t</td>\n",
       "      <td>4</td>\n",
       "      <td>5</td>\n",
       "      <td>6</td>\n",
       "    </tr>\n",
       "  </tbody>\n",
       "</table>\n",
       "</div>"
      ],
      "text/plain": [
       "    zoo       baz      \n",
       "bar   A  B  C   A  B  C\n",
       "foo                    \n",
       "one   x  y  z   1  2  3\n",
       "two   q  w  t   4  5  6"
      ]
     },
     "execution_count": 28,
     "metadata": {},
     "output_type": "execute_result"
    }
   ],
   "source": [
    "df.pivot(\n",
    "    index=\"foo\",\n",
    "    columns=\"bar\",\n",
    "    values=[\"zoo\", \"baz\"]\n",
    ")"
   ]
  }
 ],
 "metadata": {
  "kernelspec": {
   "display_name": ".venv",
   "language": "python",
   "name": "python3"
  },
  "language_info": {
   "codemirror_mode": {
    "name": "ipython",
    "version": 3
   },
   "file_extension": ".py",
   "mimetype": "text/x-python",
   "name": "python",
   "nbconvert_exporter": "python",
   "pygments_lexer": "ipython3",
   "version": "3.12.3"
  }
 },
 "nbformat": 4,
 "nbformat_minor": 5
}

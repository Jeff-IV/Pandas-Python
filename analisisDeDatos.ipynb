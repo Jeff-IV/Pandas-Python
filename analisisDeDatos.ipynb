{
 "cells": [
  {
   "cell_type": "markdown",
   "id": "7ead60c2",
   "metadata": {},
   "source": [
    "# Análisis de datos con Pandas"
   ]
  },
  {
   "cell_type": "markdown",
   "id": "9580a871",
   "metadata": {},
   "source": [
    "Descripción de los campos del archivo\n",
    "\n",
    "El archivo usado contiene la información sobre vuelos entre 1987 y 2008, y cuenta con los siguientes campos:\n",
    "\n",
    "    Year: 1987-2008\n",
    "\n",
    "    Month: 1-12\n",
    "\n",
    "    DayofMonth: 1-31\n",
    "\n",
    "    DayOfWeek: 1 (Monday) - 7 (Sunday)\n",
    "\n",
    "    DepTime: actual departure time (local, hhmm)\n",
    "\n",
    "    CRSDepTime: scheduled departure time (local, hhmm)\n",
    "\n",
    "    ArrTime: actual arrival time (local, hhmm)\n",
    "\n",
    "    CRSArrTime: scheduled arrival time (local, hhmm)\n",
    "\n",
    "    UniqueCarrier: unique carrier code\n",
    "\n",
    "    FlightNum: flight number\n",
    "\n",
    "    TailNum: plane tail number\n",
    "\n",
    "    ActualElapsedTime: in minutes\n",
    "\n",
    "    CRSElapsedTime: in minutes\n",
    "\n",
    "    AirTime: in minutes\n",
    "\n",
    "    ArrDelay: arrival delay, in minutes\n",
    "\n",
    "    DepDelay: departure delay, in minutes\n",
    "\n",
    "    Origin: origin IATA airport code\n",
    "\n",
    "    Dest: destination IATA airport code\n",
    "\n",
    "    Distance: in miles\n",
    "\n",
    "    TaxiIn: taxi in time, in minutes\n",
    "\n",
    "    TaxiOut: taxi out time in minutes\n",
    "\n",
    "    Cancelled: was the flight cancelled?\n",
    "\n",
    "    CancellationCode: reason for cancellation (A = carrier, B = weather, C = NAS, D = security)\n",
    "\n",
    "    Diverted: 1 = yes, 0 = no\n",
    "\n",
    "    CarrierDelay: in minutes\n",
    "\n",
    "    WeatherDelay: in minutes\n",
    "\n",
    "    NASDelay: in minutes\n",
    "\n",
    "    SecurityDelay: in minutes\n",
    "\n",
    "    LateAircraftDelay: in minutes\n",
    "\n",
    "Se desea analizar la cantidad de vuelos retrasados por transportador."
   ]
  },
  {
   "cell_type": "markdown",
   "id": "337c6ad1",
   "metadata": {},
   "source": [
    "## Inicializemos el dataframe"
   ]
  },
  {
   "cell_type": "code",
   "execution_count": 23,
   "id": "ac7db6c7",
   "metadata": {},
   "outputs": [
    {
     "name": "stdout",
     "output_type": "stream",
     "text": [
      "<class 'pandas.core.frame.DataFrame'>\n",
      "RangeIndex: 99999 entries, 0 to 99998\n",
      "Data columns (total 29 columns):\n",
      " #   Column             Non-Null Count  Dtype  \n",
      "---  ------             --------------  -----  \n",
      " 0   Year               99999 non-null  int64  \n",
      " 1   Month              99999 non-null  int64  \n",
      " 2   DayofMonth         99999 non-null  int64  \n",
      " 3   DayOfWeek          99999 non-null  int64  \n",
      " 4   DepTime            98857 non-null  float64\n",
      " 5   CRSDepTime         99999 non-null  int64  \n",
      " 6   ArrTime            98697 non-null  float64\n",
      " 7   CRSArrTime         99999 non-null  int64  \n",
      " 8   UniqueCarrier      99999 non-null  object \n",
      " 9   FlightNum          99999 non-null  int64  \n",
      " 10  TailNum            98857 non-null  object \n",
      " 11  ActualElapsedTime  98697 non-null  float64\n",
      " 12  CRSElapsedTime     99999 non-null  int64  \n",
      " 13  AirTime            98697 non-null  float64\n",
      " 14  ArrDelay           98697 non-null  float64\n",
      " 15  DepDelay           98857 non-null  float64\n",
      " 16  Origin             99999 non-null  object \n",
      " 17  Dest               99999 non-null  object \n",
      " 18  Distance           99999 non-null  int64  \n",
      " 19  TaxiIn             98697 non-null  float64\n",
      " 20  TaxiOut            98857 non-null  float64\n",
      " 21  Cancelled          99999 non-null  int64  \n",
      " 22  CancellationCode   1142 non-null   object \n",
      " 23  Diverted           99999 non-null  int64  \n",
      " 24  CarrierDelay       19629 non-null  float64\n",
      " 25  WeatherDelay       19629 non-null  float64\n",
      " 26  NASDelay           19629 non-null  float64\n",
      " 27  SecurityDelay      19629 non-null  float64\n",
      " 28  LateAircraftDelay  19629 non-null  float64\n",
      "dtypes: float64(13), int64(11), object(5)\n",
      "memory usage: 22.1+ MB\n"
     ]
    }
   ],
   "source": [
    "import pandas as pd\n",
    "\n",
    "df_fl = pd.read_csv(\"https://raw.githubusercontent.com/jdvelasq/playground/master/datasets/flights.csv\",)\n",
    "\n",
    "df_fl.info()"
   ]
  },
  {
   "cell_type": "markdown",
   "id": "e4d38941",
   "metadata": {},
   "source": [
    "## Estádisticos de las columnas númericas"
   ]
  },
  {
   "cell_type": "code",
   "execution_count": 24,
   "id": "8ca97471",
   "metadata": {},
   "outputs": [
    {
     "data": {
      "application/vnd.microsoft.datawrangler.viewer.v0+json": {
       "columns": [
        {
         "name": "index",
         "rawType": "object",
         "type": "string"
        },
        {
         "name": "Year",
         "rawType": "float64",
         "type": "float"
        },
        {
         "name": "Month",
         "rawType": "float64",
         "type": "float"
        },
        {
         "name": "DayofMonth",
         "rawType": "float64",
         "type": "float"
        },
        {
         "name": "DayOfWeek",
         "rawType": "float64",
         "type": "float"
        },
        {
         "name": "DepTime",
         "rawType": "float64",
         "type": "float"
        },
        {
         "name": "CRSDepTime",
         "rawType": "float64",
         "type": "float"
        },
        {
         "name": "ArrTime",
         "rawType": "float64",
         "type": "float"
        },
        {
         "name": "CRSArrTime",
         "rawType": "float64",
         "type": "float"
        },
        {
         "name": "FlightNum",
         "rawType": "float64",
         "type": "float"
        },
        {
         "name": "ActualElapsedTime",
         "rawType": "float64",
         "type": "float"
        },
        {
         "name": "CRSElapsedTime",
         "rawType": "float64",
         "type": "float"
        },
        {
         "name": "AirTime",
         "rawType": "float64",
         "type": "float"
        },
        {
         "name": "ArrDelay",
         "rawType": "float64",
         "type": "float"
        },
        {
         "name": "DepDelay",
         "rawType": "float64",
         "type": "float"
        },
        {
         "name": "Distance",
         "rawType": "float64",
         "type": "float"
        },
        {
         "name": "TaxiIn",
         "rawType": "float64",
         "type": "float"
        },
        {
         "name": "TaxiOut",
         "rawType": "float64",
         "type": "float"
        },
        {
         "name": "Cancelled",
         "rawType": "float64",
         "type": "float"
        },
        {
         "name": "Diverted",
         "rawType": "float64",
         "type": "float"
        },
        {
         "name": "CarrierDelay",
         "rawType": "float64",
         "type": "float"
        },
        {
         "name": "WeatherDelay",
         "rawType": "float64",
         "type": "float"
        },
        {
         "name": "NASDelay",
         "rawType": "float64",
         "type": "float"
        },
        {
         "name": "SecurityDelay",
         "rawType": "float64",
         "type": "float"
        },
        {
         "name": "LateAircraftDelay",
         "rawType": "float64",
         "type": "float"
        }
       ],
       "ref": "8ba74550-7d26-4be5-a9a0-6a9b1ca9f229",
       "rows": [
        [
         "count",
         "99999.0",
         "99999.0",
         "99999.0",
         "99999.0",
         "98857.0",
         "99999.0",
         "98697.0",
         "99999.0",
         "99999.0",
         "98697.0",
         "99999.0",
         "98697.0",
         "98697.0",
         "98857.0",
         "99999.0",
         "98697.0",
         "98857.0",
         "99999.0",
         "99999.0",
         "19629.0",
         "19629.0",
         "19629.0",
         "19629.0",
         "19629.0"
        ],
        [
         "mean",
         "2008.0",
         "1.0",
         "17.087740877408773",
         "3.890058900589006",
         "1355.1948268711371",
         "1341.9834698346983",
         "1492.7309644670052",
         "1502.5939959399593",
         "1510.5868858688586",
         "107.55807167391106",
         "111.98923989239893",
         "91.86367366789264",
         "5.729900604881608",
         "10.379123380236098",
         "630.5839658396584",
         "4.768959542843247",
         "10.927460877833639",
         "0.011420114201142011",
         "0.0016000160001600017",
         "9.573488206225482",
         "2.0361200264914157",
         "8.353150950124816",
         "0.11080544092923736",
         "29.34367517448673"
        ],
        [
         "std",
         "0.0",
         "0.0",
         "8.356320851749274",
         "1.9530000920936867",
         "464.0882773635153",
         "451.3553453208584",
         "496.37252503259407",
         "478.0966540884433",
         "1185.9742802389474",
         "55.35108634623723",
         "57.20934243983661",
         "54.20848520269081",
         "30.9671116089558",
         "28.38456192968773",
         "437.35862849463325",
         "2.983650472696519",
         "5.98884616975255",
         "0.10625350861023271",
         "0.039968386555354236",
         "21.83683640672923",
         "13.815867838905525",
         "18.826086648497235",
         "1.7248882167846211",
         "39.753528890728596"
        ],
        [
         "min",
         "2008.0",
         "1.0",
         "1.0",
         "1.0",
         "1.0",
         "600.0",
         "1.0",
         "5.0",
         "1.0",
         "25.0",
         "17.0",
         "12.0",
         "-57.0",
         "-44.0",
         "66.0",
         "1.0",
         "1.0",
         "0.0",
         "0.0",
         "0.0",
         "0.0",
         "0.0",
         "0.0",
         "0.0"
        ],
        [
         "25%",
         "2008.0",
         "1.0",
         "10.0",
         "2.0",
         "942.0",
         "940.0",
         "1114.0",
         "1120.0",
         "502.0",
         "68.0",
         "70.0",
         "53.0",
         "-9.0",
         "-2.0",
         "324.0",
         "3.0",
         "8.0",
         "0.0",
         "0.0",
         "0.0",
         "0.0",
         "0.0",
         "0.0",
         "1.0"
        ],
        [
         "50%",
         "2008.0",
         "1.0",
         "17.0",
         "4.0",
         "1344.0",
         "1335.0",
         "1518.0",
         "1520.0",
         "1320.0",
         "88.0",
         "90.0",
         "71.0",
         "-2.0",
         "1.0",
         "453.0",
         "4.0",
         "9.0",
         "0.0",
         "0.0",
         "1.0",
         "0.0",
         "0.0",
         "0.0",
         "18.0"
        ],
        [
         "75%",
         "2008.0",
         "1.0",
         "24.0",
         "5.0",
         "1743.0",
         "1730.0",
         "1913.0",
         "1910.0",
         "2362.0",
         "135.0",
         "145.0",
         "119.0",
         "10.0",
         "10.0",
         "843.0",
         "5.0",
         "12.0",
         "0.0",
         "0.0",
         "11.0",
         "0.0",
         "10.0",
         "0.0",
         "37.0"
        ],
        [
         "max",
         "2008.0",
         "1.0",
         "31.0",
         "7.0",
         "2359.0",
         "2235.0",
         "2400.0",
         "2355.0",
         "7676.0",
         "382.0",
         "370.0",
         "369.0",
         "500.0",
         "516.0",
         "2363.0",
         "213.0",
         "150.0",
         "1.0",
         "1.0",
         "431.0",
         "267.0",
         "366.0",
         "88.0",
         "434.0"
        ]
       ],
       "shape": {
        "columns": 24,
        "rows": 8
       }
      },
      "text/html": [
       "<div>\n",
       "<style scoped>\n",
       "    .dataframe tbody tr th:only-of-type {\n",
       "        vertical-align: middle;\n",
       "    }\n",
       "\n",
       "    .dataframe tbody tr th {\n",
       "        vertical-align: top;\n",
       "    }\n",
       "\n",
       "    .dataframe thead th {\n",
       "        text-align: right;\n",
       "    }\n",
       "</style>\n",
       "<table border=\"1\" class=\"dataframe\">\n",
       "  <thead>\n",
       "    <tr style=\"text-align: right;\">\n",
       "      <th></th>\n",
       "      <th>Year</th>\n",
       "      <th>Month</th>\n",
       "      <th>DayofMonth</th>\n",
       "      <th>DayOfWeek</th>\n",
       "      <th>DepTime</th>\n",
       "      <th>CRSDepTime</th>\n",
       "      <th>ArrTime</th>\n",
       "      <th>CRSArrTime</th>\n",
       "      <th>FlightNum</th>\n",
       "      <th>ActualElapsedTime</th>\n",
       "      <th>...</th>\n",
       "      <th>Distance</th>\n",
       "      <th>TaxiIn</th>\n",
       "      <th>TaxiOut</th>\n",
       "      <th>Cancelled</th>\n",
       "      <th>Diverted</th>\n",
       "      <th>CarrierDelay</th>\n",
       "      <th>WeatherDelay</th>\n",
       "      <th>NASDelay</th>\n",
       "      <th>SecurityDelay</th>\n",
       "      <th>LateAircraftDelay</th>\n",
       "    </tr>\n",
       "  </thead>\n",
       "  <tbody>\n",
       "    <tr>\n",
       "      <th>count</th>\n",
       "      <td>99999.0</td>\n",
       "      <td>99999.0</td>\n",
       "      <td>99999.000000</td>\n",
       "      <td>99999.000000</td>\n",
       "      <td>98857.000000</td>\n",
       "      <td>99999.000000</td>\n",
       "      <td>98697.000000</td>\n",
       "      <td>99999.000000</td>\n",
       "      <td>99999.000000</td>\n",
       "      <td>98697.000000</td>\n",
       "      <td>...</td>\n",
       "      <td>99999.000000</td>\n",
       "      <td>98697.00000</td>\n",
       "      <td>98857.000000</td>\n",
       "      <td>99999.000000</td>\n",
       "      <td>99999.000000</td>\n",
       "      <td>19629.000000</td>\n",
       "      <td>19629.000000</td>\n",
       "      <td>19629.000000</td>\n",
       "      <td>19629.000000</td>\n",
       "      <td>19629.000000</td>\n",
       "    </tr>\n",
       "    <tr>\n",
       "      <th>mean</th>\n",
       "      <td>2008.0</td>\n",
       "      <td>1.0</td>\n",
       "      <td>17.087741</td>\n",
       "      <td>3.890059</td>\n",
       "      <td>1355.194827</td>\n",
       "      <td>1341.983470</td>\n",
       "      <td>1492.730964</td>\n",
       "      <td>1502.593996</td>\n",
       "      <td>1510.586886</td>\n",
       "      <td>107.558072</td>\n",
       "      <td>...</td>\n",
       "      <td>630.583966</td>\n",
       "      <td>4.76896</td>\n",
       "      <td>10.927461</td>\n",
       "      <td>0.011420</td>\n",
       "      <td>0.001600</td>\n",
       "      <td>9.573488</td>\n",
       "      <td>2.036120</td>\n",
       "      <td>8.353151</td>\n",
       "      <td>0.110805</td>\n",
       "      <td>29.343675</td>\n",
       "    </tr>\n",
       "    <tr>\n",
       "      <th>std</th>\n",
       "      <td>0.0</td>\n",
       "      <td>0.0</td>\n",
       "      <td>8.356321</td>\n",
       "      <td>1.953000</td>\n",
       "      <td>464.088277</td>\n",
       "      <td>451.355345</td>\n",
       "      <td>496.372525</td>\n",
       "      <td>478.096654</td>\n",
       "      <td>1185.974280</td>\n",
       "      <td>55.351086</td>\n",
       "      <td>...</td>\n",
       "      <td>437.358628</td>\n",
       "      <td>2.98365</td>\n",
       "      <td>5.988846</td>\n",
       "      <td>0.106254</td>\n",
       "      <td>0.039968</td>\n",
       "      <td>21.836836</td>\n",
       "      <td>13.815868</td>\n",
       "      <td>18.826087</td>\n",
       "      <td>1.724888</td>\n",
       "      <td>39.753529</td>\n",
       "    </tr>\n",
       "    <tr>\n",
       "      <th>min</th>\n",
       "      <td>2008.0</td>\n",
       "      <td>1.0</td>\n",
       "      <td>1.000000</td>\n",
       "      <td>1.000000</td>\n",
       "      <td>1.000000</td>\n",
       "      <td>600.000000</td>\n",
       "      <td>1.000000</td>\n",
       "      <td>5.000000</td>\n",
       "      <td>1.000000</td>\n",
       "      <td>25.000000</td>\n",
       "      <td>...</td>\n",
       "      <td>66.000000</td>\n",
       "      <td>1.00000</td>\n",
       "      <td>1.000000</td>\n",
       "      <td>0.000000</td>\n",
       "      <td>0.000000</td>\n",
       "      <td>0.000000</td>\n",
       "      <td>0.000000</td>\n",
       "      <td>0.000000</td>\n",
       "      <td>0.000000</td>\n",
       "      <td>0.000000</td>\n",
       "    </tr>\n",
       "    <tr>\n",
       "      <th>25%</th>\n",
       "      <td>2008.0</td>\n",
       "      <td>1.0</td>\n",
       "      <td>10.000000</td>\n",
       "      <td>2.000000</td>\n",
       "      <td>942.000000</td>\n",
       "      <td>940.000000</td>\n",
       "      <td>1114.000000</td>\n",
       "      <td>1120.000000</td>\n",
       "      <td>502.000000</td>\n",
       "      <td>68.000000</td>\n",
       "      <td>...</td>\n",
       "      <td>324.000000</td>\n",
       "      <td>3.00000</td>\n",
       "      <td>8.000000</td>\n",
       "      <td>0.000000</td>\n",
       "      <td>0.000000</td>\n",
       "      <td>0.000000</td>\n",
       "      <td>0.000000</td>\n",
       "      <td>0.000000</td>\n",
       "      <td>0.000000</td>\n",
       "      <td>1.000000</td>\n",
       "    </tr>\n",
       "    <tr>\n",
       "      <th>50%</th>\n",
       "      <td>2008.0</td>\n",
       "      <td>1.0</td>\n",
       "      <td>17.000000</td>\n",
       "      <td>4.000000</td>\n",
       "      <td>1344.000000</td>\n",
       "      <td>1335.000000</td>\n",
       "      <td>1518.000000</td>\n",
       "      <td>1520.000000</td>\n",
       "      <td>1320.000000</td>\n",
       "      <td>88.000000</td>\n",
       "      <td>...</td>\n",
       "      <td>453.000000</td>\n",
       "      <td>4.00000</td>\n",
       "      <td>9.000000</td>\n",
       "      <td>0.000000</td>\n",
       "      <td>0.000000</td>\n",
       "      <td>1.000000</td>\n",
       "      <td>0.000000</td>\n",
       "      <td>0.000000</td>\n",
       "      <td>0.000000</td>\n",
       "      <td>18.000000</td>\n",
       "    </tr>\n",
       "    <tr>\n",
       "      <th>75%</th>\n",
       "      <td>2008.0</td>\n",
       "      <td>1.0</td>\n",
       "      <td>24.000000</td>\n",
       "      <td>5.000000</td>\n",
       "      <td>1743.000000</td>\n",
       "      <td>1730.000000</td>\n",
       "      <td>1913.000000</td>\n",
       "      <td>1910.000000</td>\n",
       "      <td>2362.000000</td>\n",
       "      <td>135.000000</td>\n",
       "      <td>...</td>\n",
       "      <td>843.000000</td>\n",
       "      <td>5.00000</td>\n",
       "      <td>12.000000</td>\n",
       "      <td>0.000000</td>\n",
       "      <td>0.000000</td>\n",
       "      <td>11.000000</td>\n",
       "      <td>0.000000</td>\n",
       "      <td>10.000000</td>\n",
       "      <td>0.000000</td>\n",
       "      <td>37.000000</td>\n",
       "    </tr>\n",
       "    <tr>\n",
       "      <th>max</th>\n",
       "      <td>2008.0</td>\n",
       "      <td>1.0</td>\n",
       "      <td>31.000000</td>\n",
       "      <td>7.000000</td>\n",
       "      <td>2359.000000</td>\n",
       "      <td>2235.000000</td>\n",
       "      <td>2400.000000</td>\n",
       "      <td>2355.000000</td>\n",
       "      <td>7676.000000</td>\n",
       "      <td>382.000000</td>\n",
       "      <td>...</td>\n",
       "      <td>2363.000000</td>\n",
       "      <td>213.00000</td>\n",
       "      <td>150.000000</td>\n",
       "      <td>1.000000</td>\n",
       "      <td>1.000000</td>\n",
       "      <td>431.000000</td>\n",
       "      <td>267.000000</td>\n",
       "      <td>366.000000</td>\n",
       "      <td>88.000000</td>\n",
       "      <td>434.000000</td>\n",
       "    </tr>\n",
       "  </tbody>\n",
       "</table>\n",
       "<p>8 rows × 24 columns</p>\n",
       "</div>"
      ],
      "text/plain": [
       "          Year    Month    DayofMonth     DayOfWeek       DepTime  \\\n",
       "count  99999.0  99999.0  99999.000000  99999.000000  98857.000000   \n",
       "mean    2008.0      1.0     17.087741      3.890059   1355.194827   \n",
       "std        0.0      0.0      8.356321      1.953000    464.088277   \n",
       "min     2008.0      1.0      1.000000      1.000000      1.000000   \n",
       "25%     2008.0      1.0     10.000000      2.000000    942.000000   \n",
       "50%     2008.0      1.0     17.000000      4.000000   1344.000000   \n",
       "75%     2008.0      1.0     24.000000      5.000000   1743.000000   \n",
       "max     2008.0      1.0     31.000000      7.000000   2359.000000   \n",
       "\n",
       "         CRSDepTime       ArrTime    CRSArrTime     FlightNum  \\\n",
       "count  99999.000000  98697.000000  99999.000000  99999.000000   \n",
       "mean    1341.983470   1492.730964   1502.593996   1510.586886   \n",
       "std      451.355345    496.372525    478.096654   1185.974280   \n",
       "min      600.000000      1.000000      5.000000      1.000000   \n",
       "25%      940.000000   1114.000000   1120.000000    502.000000   \n",
       "50%     1335.000000   1518.000000   1520.000000   1320.000000   \n",
       "75%     1730.000000   1913.000000   1910.000000   2362.000000   \n",
       "max     2235.000000   2400.000000   2355.000000   7676.000000   \n",
       "\n",
       "       ActualElapsedTime  ...      Distance       TaxiIn       TaxiOut  \\\n",
       "count       98697.000000  ...  99999.000000  98697.00000  98857.000000   \n",
       "mean          107.558072  ...    630.583966      4.76896     10.927461   \n",
       "std            55.351086  ...    437.358628      2.98365      5.988846   \n",
       "min            25.000000  ...     66.000000      1.00000      1.000000   \n",
       "25%            68.000000  ...    324.000000      3.00000      8.000000   \n",
       "50%            88.000000  ...    453.000000      4.00000      9.000000   \n",
       "75%           135.000000  ...    843.000000      5.00000     12.000000   \n",
       "max           382.000000  ...   2363.000000    213.00000    150.000000   \n",
       "\n",
       "          Cancelled      Diverted  CarrierDelay  WeatherDelay      NASDelay  \\\n",
       "count  99999.000000  99999.000000  19629.000000  19629.000000  19629.000000   \n",
       "mean       0.011420      0.001600      9.573488      2.036120      8.353151   \n",
       "std        0.106254      0.039968     21.836836     13.815868     18.826087   \n",
       "min        0.000000      0.000000      0.000000      0.000000      0.000000   \n",
       "25%        0.000000      0.000000      0.000000      0.000000      0.000000   \n",
       "50%        0.000000      0.000000      1.000000      0.000000      0.000000   \n",
       "75%        0.000000      0.000000     11.000000      0.000000     10.000000   \n",
       "max        1.000000      1.000000    431.000000    267.000000    366.000000   \n",
       "\n",
       "       SecurityDelay  LateAircraftDelay  \n",
       "count   19629.000000       19629.000000  \n",
       "mean        0.110805          29.343675  \n",
       "std         1.724888          39.753529  \n",
       "min         0.000000           0.000000  \n",
       "25%         0.000000           1.000000  \n",
       "50%         0.000000          18.000000  \n",
       "75%         0.000000          37.000000  \n",
       "max        88.000000         434.000000  \n",
       "\n",
       "[8 rows x 24 columns]"
      ]
     },
     "execution_count": 24,
     "metadata": {},
     "output_type": "execute_result"
    }
   ],
   "source": [
    "df_fl.describe()"
   ]
  },
  {
   "cell_type": "markdown",
   "id": "617eb016",
   "metadata": {},
   "source": [
    "## Visualización de un subconjunto de columnas"
   ]
  },
  {
   "cell_type": "code",
   "execution_count": 25,
   "id": "2ad18bcb",
   "metadata": {},
   "outputs": [
    {
     "data": {
      "application/vnd.microsoft.datawrangler.viewer.v0+json": {
       "columns": [
        {
         "name": "index",
         "rawType": "int64",
         "type": "integer"
        },
        {
         "name": "UniqueCarrier",
         "rawType": "object",
         "type": "string"
        },
        {
         "name": "FlightNum",
         "rawType": "int64",
         "type": "integer"
        },
        {
         "name": "DepDelay",
         "rawType": "float64",
         "type": "float"
        },
        {
         "name": "ArrDelay",
         "rawType": "float64",
         "type": "float"
        },
        {
         "name": "Distance",
         "rawType": "int64",
         "type": "integer"
        }
       ],
       "ref": "131594ae-dbe0-4ee8-a776-b938c0052dfa",
       "rows": [
        [
         "0",
         "WN",
         "335",
         "8.0",
         "-14.0",
         "810"
        ],
        [
         "1",
         "WN",
         "3231",
         "19.0",
         "2.0",
         "810"
        ],
        [
         "2",
         "WN",
         "448",
         "8.0",
         "14.0",
         "515"
        ],
        [
         "3",
         "WN",
         "1746",
         "-4.0",
         "-6.0",
         "515"
        ],
        [
         "4",
         "WN",
         "3920",
         "34.0",
         "34.0",
         "515"
        ]
       ],
       "shape": {
        "columns": 5,
        "rows": 5
       }
      },
      "text/html": [
       "<div>\n",
       "<style scoped>\n",
       "    .dataframe tbody tr th:only-of-type {\n",
       "        vertical-align: middle;\n",
       "    }\n",
       "\n",
       "    .dataframe tbody tr th {\n",
       "        vertical-align: top;\n",
       "    }\n",
       "\n",
       "    .dataframe thead th {\n",
       "        text-align: right;\n",
       "    }\n",
       "</style>\n",
       "<table border=\"1\" class=\"dataframe\">\n",
       "  <thead>\n",
       "    <tr style=\"text-align: right;\">\n",
       "      <th></th>\n",
       "      <th>UniqueCarrier</th>\n",
       "      <th>FlightNum</th>\n",
       "      <th>DepDelay</th>\n",
       "      <th>ArrDelay</th>\n",
       "      <th>Distance</th>\n",
       "    </tr>\n",
       "  </thead>\n",
       "  <tbody>\n",
       "    <tr>\n",
       "      <th>0</th>\n",
       "      <td>WN</td>\n",
       "      <td>335</td>\n",
       "      <td>8.0</td>\n",
       "      <td>-14.0</td>\n",
       "      <td>810</td>\n",
       "    </tr>\n",
       "    <tr>\n",
       "      <th>1</th>\n",
       "      <td>WN</td>\n",
       "      <td>3231</td>\n",
       "      <td>19.0</td>\n",
       "      <td>2.0</td>\n",
       "      <td>810</td>\n",
       "    </tr>\n",
       "    <tr>\n",
       "      <th>2</th>\n",
       "      <td>WN</td>\n",
       "      <td>448</td>\n",
       "      <td>8.0</td>\n",
       "      <td>14.0</td>\n",
       "      <td>515</td>\n",
       "    </tr>\n",
       "    <tr>\n",
       "      <th>3</th>\n",
       "      <td>WN</td>\n",
       "      <td>1746</td>\n",
       "      <td>-4.0</td>\n",
       "      <td>-6.0</td>\n",
       "      <td>515</td>\n",
       "    </tr>\n",
       "    <tr>\n",
       "      <th>4</th>\n",
       "      <td>WN</td>\n",
       "      <td>3920</td>\n",
       "      <td>34.0</td>\n",
       "      <td>34.0</td>\n",
       "      <td>515</td>\n",
       "    </tr>\n",
       "  </tbody>\n",
       "</table>\n",
       "</div>"
      ],
      "text/plain": [
       "  UniqueCarrier  FlightNum  DepDelay  ArrDelay  Distance\n",
       "0            WN        335       8.0     -14.0       810\n",
       "1            WN       3231      19.0       2.0       810\n",
       "2            WN        448       8.0      14.0       515\n",
       "3            WN       1746      -4.0      -6.0       515\n",
       "4            WN       3920      34.0      34.0       515"
      ]
     },
     "execution_count": 25,
     "metadata": {},
     "output_type": "execute_result"
    }
   ],
   "source": [
    "df_fl[\n",
    "    [\n",
    "        \"UniqueCarrier\",\n",
    "        \"FlightNum\",\n",
    "        \"DepDelay\",\n",
    "        \"ArrDelay\",\n",
    "        \"Distance\"\n",
    "    ]\n",
    "].head()"
   ]
  },
  {
   "cell_type": "markdown",
   "id": "62c6b8de",
   "metadata": {},
   "source": [
    "Computemos el total de vuelos"
   ]
  },
  {
   "cell_type": "code",
   "execution_count": 26,
   "id": "f01d3760",
   "metadata": {},
   "outputs": [
    {
     "data": {
      "text/plain": [
       "99999"
      ]
     },
     "execution_count": 26,
     "metadata": {},
     "output_type": "execute_result"
    }
   ],
   "source": [
    "total_flights = len(df_fl)\n",
    "total_flights"
   ]
  },
  {
   "cell_type": "markdown",
   "id": "31331fde",
   "metadata": {},
   "source": [
    "## Filtrado de registros para vuelos retrasados"
   ]
  },
  {
   "cell_type": "markdown",
   "id": "fe4d67b8",
   "metadata": {},
   "source": [
    "Si un vuelo tiene un delay mayor a 15 minutos entonces lo consideraremos como retrasado"
   ]
  },
  {
   "cell_type": "code",
   "execution_count": 27,
   "id": "6d10c8b7",
   "metadata": {},
   "outputs": [
    {
     "data": {
      "application/vnd.microsoft.datawrangler.viewer.v0+json": {
       "columns": [
        {
         "name": "index",
         "rawType": "int64",
         "type": "integer"
        },
        {
         "name": "UniqueCarrier",
         "rawType": "object",
         "type": "string"
        },
        {
         "name": "DepDelay",
         "rawType": "float64",
         "type": "float"
        }
       ],
       "ref": "89c12b61-6dce-4fb9-9065-e17ba2a6748c",
       "rows": [
        [
         "1",
         "WN",
         "19.0"
        ],
        [
         "4",
         "WN",
         "34.0"
        ],
        [
         "5",
         "WN",
         "25.0"
        ],
        [
         "6",
         "WN",
         "67.0"
        ],
        [
         "11",
         "WN",
         "94.0"
        ]
       ],
       "shape": {
        "columns": 2,
        "rows": 5
       }
      },
      "text/html": [
       "<div>\n",
       "<style scoped>\n",
       "    .dataframe tbody tr th:only-of-type {\n",
       "        vertical-align: middle;\n",
       "    }\n",
       "\n",
       "    .dataframe tbody tr th {\n",
       "        vertical-align: top;\n",
       "    }\n",
       "\n",
       "    .dataframe thead th {\n",
       "        text-align: right;\n",
       "    }\n",
       "</style>\n",
       "<table border=\"1\" class=\"dataframe\">\n",
       "  <thead>\n",
       "    <tr style=\"text-align: right;\">\n",
       "      <th></th>\n",
       "      <th>UniqueCarrier</th>\n",
       "      <th>DepDelay</th>\n",
       "    </tr>\n",
       "  </thead>\n",
       "  <tbody>\n",
       "    <tr>\n",
       "      <th>1</th>\n",
       "      <td>WN</td>\n",
       "      <td>19.0</td>\n",
       "    </tr>\n",
       "    <tr>\n",
       "      <th>4</th>\n",
       "      <td>WN</td>\n",
       "      <td>34.0</td>\n",
       "    </tr>\n",
       "    <tr>\n",
       "      <th>5</th>\n",
       "      <td>WN</td>\n",
       "      <td>25.0</td>\n",
       "    </tr>\n",
       "    <tr>\n",
       "      <th>6</th>\n",
       "      <td>WN</td>\n",
       "      <td>67.0</td>\n",
       "    </tr>\n",
       "    <tr>\n",
       "      <th>11</th>\n",
       "      <td>WN</td>\n",
       "      <td>94.0</td>\n",
       "    </tr>\n",
       "  </tbody>\n",
       "</table>\n",
       "</div>"
      ],
      "text/plain": [
       "   UniqueCarrier  DepDelay\n",
       "1             WN      19.0\n",
       "4             WN      34.0\n",
       "5             WN      25.0\n",
       "6             WN      67.0\n",
       "11            WN      94.0"
      ]
     },
     "execution_count": 27,
     "metadata": {},
     "output_type": "execute_result"
    }
   ],
   "source": [
    "delayed_flights = df_fl[df_fl[\"DepDelay\"] > 15][[\"UniqueCarrier\", \"DepDelay\"]]\n",
    "delayed_flights.head()"
   ]
  },
  {
   "cell_type": "markdown",
   "id": "76aca290",
   "metadata": {},
   "source": [
    "## Cálculo del porcentaje de vuelos retrasados"
   ]
  },
  {
   "cell_type": "code",
   "execution_count": 28,
   "id": "b4774d94",
   "metadata": {},
   "outputs": [
    {
     "name": "stdout",
     "output_type": "stream",
     "text": [
      "Porcentaje de vuelos retrasados: 19.59%\n"
     ]
    }
   ],
   "source": [
    "num_delayed_fligths = len(delayed_flights)\n",
    "print(\n",
    "    \"Porcentaje de vuelos retrasados: \"\n",
    "    + str(round(num_delayed_fligths / total_flights * 100, 2))\n",
    "    + \"%\"\n",
    ")"
   ]
  },
  {
   "cell_type": "markdown",
   "id": "3d804467",
   "metadata": {},
   "source": [
    "## Copia de una tabla y copia de columnas"
   ]
  },
  {
   "cell_type": "code",
   "execution_count": 29,
   "id": "6131da2f",
   "metadata": {},
   "outputs": [
    {
     "data": {
      "application/vnd.microsoft.datawrangler.viewer.v0+json": {
       "columns": [
        {
         "name": "index",
         "rawType": "int64",
         "type": "integer"
        },
        {
         "name": "Year",
         "rawType": "int64",
         "type": "integer"
        },
        {
         "name": "Month",
         "rawType": "int64",
         "type": "integer"
        },
        {
         "name": "DayofMonth",
         "rawType": "int64",
         "type": "integer"
        },
        {
         "name": "UniqueCarrier",
         "rawType": "object",
         "type": "string"
        },
        {
         "name": "FlightNum",
         "rawType": "int64",
         "type": "integer"
        },
        {
         "name": "DepDelay",
         "rawType": "float64",
         "type": "float"
        },
        {
         "name": "isDelayed",
         "rawType": "float64",
         "type": "float"
        }
       ],
       "ref": "7d53c81e-8bbe-4194-ae40-470d327584d9",
       "rows": [
        [
         "0",
         "2008",
         "1",
         "3",
         "WN",
         "335",
         "8.0",
         "8.0"
        ],
        [
         "1",
         "2008",
         "1",
         "3",
         "WN",
         "3231",
         "19.0",
         "19.0"
        ],
        [
         "2",
         "2008",
         "1",
         "3",
         "WN",
         "448",
         "8.0",
         "8.0"
        ],
        [
         "3",
         "2008",
         "1",
         "3",
         "WN",
         "1746",
         "-4.0",
         "-4.0"
        ],
        [
         "4",
         "2008",
         "1",
         "3",
         "WN",
         "3920",
         "34.0",
         "34.0"
        ]
       ],
       "shape": {
        "columns": 7,
        "rows": 5
       }
      },
      "text/html": [
       "<div>\n",
       "<style scoped>\n",
       "    .dataframe tbody tr th:only-of-type {\n",
       "        vertical-align: middle;\n",
       "    }\n",
       "\n",
       "    .dataframe tbody tr th {\n",
       "        vertical-align: top;\n",
       "    }\n",
       "\n",
       "    .dataframe thead th {\n",
       "        text-align: right;\n",
       "    }\n",
       "</style>\n",
       "<table border=\"1\" class=\"dataframe\">\n",
       "  <thead>\n",
       "    <tr style=\"text-align: right;\">\n",
       "      <th></th>\n",
       "      <th>Year</th>\n",
       "      <th>Month</th>\n",
       "      <th>DayofMonth</th>\n",
       "      <th>UniqueCarrier</th>\n",
       "      <th>FlightNum</th>\n",
       "      <th>DepDelay</th>\n",
       "      <th>isDelayed</th>\n",
       "    </tr>\n",
       "  </thead>\n",
       "  <tbody>\n",
       "    <tr>\n",
       "      <th>0</th>\n",
       "      <td>2008</td>\n",
       "      <td>1</td>\n",
       "      <td>3</td>\n",
       "      <td>WN</td>\n",
       "      <td>335</td>\n",
       "      <td>8.0</td>\n",
       "      <td>8.0</td>\n",
       "    </tr>\n",
       "    <tr>\n",
       "      <th>1</th>\n",
       "      <td>2008</td>\n",
       "      <td>1</td>\n",
       "      <td>3</td>\n",
       "      <td>WN</td>\n",
       "      <td>3231</td>\n",
       "      <td>19.0</td>\n",
       "      <td>19.0</td>\n",
       "    </tr>\n",
       "    <tr>\n",
       "      <th>2</th>\n",
       "      <td>2008</td>\n",
       "      <td>1</td>\n",
       "      <td>3</td>\n",
       "      <td>WN</td>\n",
       "      <td>448</td>\n",
       "      <td>8.0</td>\n",
       "      <td>8.0</td>\n",
       "    </tr>\n",
       "    <tr>\n",
       "      <th>3</th>\n",
       "      <td>2008</td>\n",
       "      <td>1</td>\n",
       "      <td>3</td>\n",
       "      <td>WN</td>\n",
       "      <td>1746</td>\n",
       "      <td>-4.0</td>\n",
       "      <td>-4.0</td>\n",
       "    </tr>\n",
       "    <tr>\n",
       "      <th>4</th>\n",
       "      <td>2008</td>\n",
       "      <td>1</td>\n",
       "      <td>3</td>\n",
       "      <td>WN</td>\n",
       "      <td>3920</td>\n",
       "      <td>34.0</td>\n",
       "      <td>34.0</td>\n",
       "    </tr>\n",
       "  </tbody>\n",
       "</table>\n",
       "</div>"
      ],
      "text/plain": [
       "   Year  Month  DayofMonth UniqueCarrier  FlightNum  DepDelay  isDelayed\n",
       "0  2008      1           3            WN        335       8.0        8.0\n",
       "1  2008      1           3            WN       3231      19.0       19.0\n",
       "2  2008      1           3            WN        448       8.0        8.0\n",
       "3  2008      1           3            WN       1746      -4.0       -4.0\n",
       "4  2008      1           3            WN       3920      34.0       34.0"
      ]
     },
     "execution_count": 29,
     "metadata": {},
     "output_type": "execute_result"
    }
   ],
   "source": [
    "fligths_with_delays = df_fl[\n",
    "    [\n",
    "        \"Year\",\n",
    "        \"Month\",\n",
    "        \"DayofMonth\",\n",
    "        \"UniqueCarrier\",\n",
    "        \"FlightNum\",\n",
    "        \"DepDelay\"\n",
    "    ]      \n",
    "].copy()\n",
    "\n",
    "fligths_with_delays[\"isDelayed\"] = fligths_with_delays[\"DepDelay\"].copy()\n",
    "\n",
    "fligths_with_delays.head()"
   ]
  },
  {
   "cell_type": "markdown",
   "id": "c22be578",
   "metadata": {},
   "source": [
    "## Conteo de registros nulos en una columna"
   ]
  },
  {
   "cell_type": "code",
   "execution_count": 30,
   "id": "fa69c113",
   "metadata": {},
   "outputs": [
    {
     "data": {
      "text/plain": [
       "np.int64(1142)"
      ]
     },
     "execution_count": 30,
     "metadata": {},
     "output_type": "execute_result"
    }
   ],
   "source": [
    "fligths_with_delays.isDelayed.isna().sum()"
   ]
  },
  {
   "cell_type": "markdown",
   "id": "00e82ead",
   "metadata": {},
   "source": [
    "En caso de que la columna tenga caracteres especiales en el nombre lo haríamos así"
   ]
  },
  {
   "cell_type": "code",
   "execution_count": 31,
   "id": "642cadfb",
   "metadata": {},
   "outputs": [
    {
     "data": {
      "text/plain": [
       "np.int64(1142)"
      ]
     },
     "execution_count": 31,
     "metadata": {},
     "output_type": "execute_result"
    }
   ],
   "source": [
    "fligths_with_delays[\"isDelayed\"].isna().sum()"
   ]
  },
  {
   "cell_type": "markdown",
   "id": "19fd4cb0",
   "metadata": {},
   "source": [
    "## Aplicación de una función a una columna"
   ]
  },
  {
   "cell_type": "code",
   "execution_count": null,
   "id": "8bf7043b",
   "metadata": {},
   "outputs": [
    {
     "data": {
      "application/vnd.microsoft.datawrangler.viewer.v0+json": {
       "columns": [
        {
         "name": "index",
         "rawType": "int64",
         "type": "integer"
        },
        {
         "name": "DepDelay",
         "rawType": "float64",
         "type": "float"
        },
        {
         "name": "isDelayed",
         "rawType": "int64",
         "type": "integer"
        }
       ],
       "ref": "2b37cfdf-b5a4-40e0-90a9-7a5dc573b318",
       "rows": [
        [
         "0",
         "8.0",
         "0"
        ],
        [
         "1",
         "19.0",
         "1"
        ],
        [
         "2",
         "8.0",
         "0"
        ],
        [
         "3",
         "-4.0",
         "0"
        ],
        [
         "4",
         "34.0",
         "1"
        ],
        [
         "5",
         "25.0",
         "1"
        ],
        [
         "6",
         "67.0",
         "1"
        ],
        [
         "7",
         "-1.0",
         "0"
        ],
        [
         "8",
         "2.0",
         "0"
        ],
        [
         "9",
         "0.0",
         "0"
        ]
       ],
       "shape": {
        "columns": 2,
        "rows": 10
       }
      },
      "text/html": [
       "<div>\n",
       "<style scoped>\n",
       "    .dataframe tbody tr th:only-of-type {\n",
       "        vertical-align: middle;\n",
       "    }\n",
       "\n",
       "    .dataframe tbody tr th {\n",
       "        vertical-align: top;\n",
       "    }\n",
       "\n",
       "    .dataframe thead th {\n",
       "        text-align: right;\n",
       "    }\n",
       "</style>\n",
       "<table border=\"1\" class=\"dataframe\">\n",
       "  <thead>\n",
       "    <tr style=\"text-align: right;\">\n",
       "      <th></th>\n",
       "      <th>DepDelay</th>\n",
       "      <th>isDelayed</th>\n",
       "    </tr>\n",
       "  </thead>\n",
       "  <tbody>\n",
       "    <tr>\n",
       "      <th>0</th>\n",
       "      <td>8.0</td>\n",
       "      <td>0</td>\n",
       "    </tr>\n",
       "    <tr>\n",
       "      <th>1</th>\n",
       "      <td>19.0</td>\n",
       "      <td>1</td>\n",
       "    </tr>\n",
       "    <tr>\n",
       "      <th>2</th>\n",
       "      <td>8.0</td>\n",
       "      <td>0</td>\n",
       "    </tr>\n",
       "    <tr>\n",
       "      <th>3</th>\n",
       "      <td>-4.0</td>\n",
       "      <td>0</td>\n",
       "    </tr>\n",
       "    <tr>\n",
       "      <th>4</th>\n",
       "      <td>34.0</td>\n",
       "      <td>1</td>\n",
       "    </tr>\n",
       "    <tr>\n",
       "      <th>5</th>\n",
       "      <td>25.0</td>\n",
       "      <td>1</td>\n",
       "    </tr>\n",
       "    <tr>\n",
       "      <th>6</th>\n",
       "      <td>67.0</td>\n",
       "      <td>1</td>\n",
       "    </tr>\n",
       "    <tr>\n",
       "      <th>7</th>\n",
       "      <td>-1.0</td>\n",
       "      <td>0</td>\n",
       "    </tr>\n",
       "    <tr>\n",
       "      <th>8</th>\n",
       "      <td>2.0</td>\n",
       "      <td>0</td>\n",
       "    </tr>\n",
       "    <tr>\n",
       "      <th>9</th>\n",
       "      <td>0.0</td>\n",
       "      <td>0</td>\n",
       "    </tr>\n",
       "  </tbody>\n",
       "</table>\n",
       "</div>"
      ],
      "text/plain": [
       "   DepDelay  isDelayed\n",
       "0       8.0          0\n",
       "1      19.0          1\n",
       "2       8.0          0\n",
       "3      -4.0          0\n",
       "4      34.0          1\n",
       "5      25.0          1\n",
       "6      67.0          1\n",
       "7      -1.0          0\n",
       "8       2.0          0\n",
       "9       0.0          0"
      ]
     },
     "execution_count": 32,
     "metadata": {},
     "output_type": "execute_result"
    }
   ],
   "source": [
    "import numpy as np\n",
    "\n",
    "#limpiar valores nulos y agregar 0 en el campo\n",
    "fligths_with_delays[\"isDelayed\"] = fligths_with_delays[\"isDelayed\"].map(\n",
    "    lambda x: 0 if np.isnan(x) else x\n",
    ")\n",
    "#Otra forma sería\n",
    "#fligths_with_delays[\"isDelayed\"] = fligths_with_delays[\"isDelayed\"].fillna(0)\n",
    "\n",
    "#en caso de que x (tiempo en minutos de delay) sea mayor a 15 ponemos un 1, en caso contrario un 0\n",
    "fligths_with_delays[\"isDelayed\"] = fligths_with_delays[\"isDelayed\"].map(\n",
    "    lambda x: 1 if x > 15 else 0\n",
    ")\n",
    "\n",
    "fligths_with_delays[[\"DepDelay\", \"isDelayed\"]].head(10)"
   ]
  },
  {
   "cell_type": "markdown",
   "id": "1a435749",
   "metadata": {},
   "source": [
    "## Cálculo del porcentaje de vuelos retrasados"
   ]
  },
  {
   "cell_type": "code",
   "execution_count": 33,
   "id": "d872b353",
   "metadata": {},
   "outputs": [
    {
     "name": "stdout",
     "output_type": "stream",
     "text": [
      "Porcentaje de vuelos retrasados: 19.81 %\n"
     ]
    }
   ],
   "source": [
    "print(\n",
    "    \"Porcentaje de vuelos retrasados: {:4.2f} %\".format(\n",
    "        100 * fligths_with_delays.isDelayed.sum() / fligths_with_delays[\"DepDelay\"].count()\n",
    "    )\n",
    ")"
   ]
  },
  {
   "cell_type": "markdown",
   "id": "18e7e218",
   "metadata": {},
   "source": [
    "## Cantidad de vuelos retrasados por transportador"
   ]
  },
  {
   "cell_type": "code",
   "execution_count": 37,
   "id": "6fda1cbd",
   "metadata": {},
   "outputs": [
    {
     "data": {
      "image/png": "[encoded data removed]",
      "text/plain": [
       "<Figure size 640x480 with 1 Axes>"
      ]
     },
     "metadata": {},
     "output_type": "display_data"
    }
   ],
   "source": [
    "import matplotlib\n",
    "import matplotlib.pyplot as plt\n",
    "\n",
    "df_fl[\"isDelayed\"] = df_fl[\"DepDelay\"].copy()\n",
    "\n",
    "df_fl[\"isDelayed\"] = df_fl[\"isDelayed\"].map(lambda x: 0 if np.isnan(x) else x)\n",
    "\n",
    "df_fl[\"isDelayed\"] = df_fl[\"isDelayed\"].map(lambda x: int(x>1)) #recordemos que int(True) = 1 y int(False) = 0\n",
    "\n",
    "(df_fl.groupby(\"UniqueCarrier\").sum())[\"isDelayed\"].plot.bar(\n",
    "    color=\"tab:purple\",\n",
    "    alpha=0.7,\n",
    ")\n",
    "\n",
    "plt.gca().spines[\"left\"].set_color(\"lightgray\")\n",
    "plt.gca().spines[\"bottom\"].set_color(\"gray\")\n",
    "plt.gca().spines[\"top\"].set_visible(False)\n",
    "plt.gca().spines[\"right\"].set_visible(False)\n",
    "\n",
    "plt.show()"
   ]
  },
  {
   "cell_type": "markdown",
   "id": "ef03dc99",
   "metadata": {},
   "source": [
    "## Cantidad de retrasos por día de la semana"
   ]
  },
  {
   "cell_type": "code",
   "execution_count": 40,
   "id": "62cbd022",
   "metadata": {},
   "outputs": [
    {
     "data": {
      "image/png": "[encoded data removed]",
      "text/plain": [
       "<Figure size 640x480 with 1 Axes>"
      ]
     },
     "metadata": {},
     "output_type": "display_data"
    }
   ],
   "source": [
    "df_fl.groupby(\"DayOfWeek\").sum()[\"isDelayed\"].plot.bar(\n",
    "    color=\"tab:pink\",\n",
    "    alpha=0.6\n",
    ")\n",
    "\n",
    "\n",
    "plt.gca().spines[\"left\"].set_color(\"lightgray\")\n",
    "plt.gca().spines[\"bottom\"].set_color(\"gray\")\n",
    "plt.gca().spines[\"top\"].set_visible(False)\n",
    "plt.gca().spines[\"right\"].set_visible(False)\n",
    "\n",
    "plt.show()"
   ]
  },
  {
   "cell_type": "markdown",
   "id": "fff84dae",
   "metadata": {},
   "source": [
    "## Retrasos por hora del día"
   ]
  },
  {
   "cell_type": "code",
   "execution_count": null,
   "id": "681800a4",
   "metadata": {},
   "outputs": [
    {
     "data": {
      "image/png": "[encoded data removed]",
      "text/plain": [
       "<Figure size 1000x400 with 1 Axes>"
      ]
     },
     "metadata": {},
     "output_type": "display_data"
    }
   ],
   "source": [
    "df_fl[\"hour\"] = df_fl[\"DepTime\"].copy()\n",
    "\n",
    "#como los dos últimos digitos representan los minutos dividiremos en 100 para quedarnos con las horas\n",
    "df_fl[\"hour\"] = df_fl[\"hour\"].map(lambda x: int(x / 100) if not np.isnan(x) else x)\n",
    "\n",
    "\n",
    "(df_fl.groupby(\"hour\").sum())[\"isDelayed\"].plot.bar(\n",
    "    color=\"tab:red\",\n",
    "    alpha=0.7,\n",
    "    figsize=(10, 4),\n",
    ")\n",
    "\n",
    "plt.gca().spines[\"left\"].set_color(\"lightgray\")\n",
    "plt.gca().spines[\"bottom\"].set_color(\"gray\")\n",
    "plt.gca().spines[\"top\"].set_visible(False)\n",
    "plt.gca().spines[\"right\"].set_visible(False)\n",
    "\n",
    "plt.show()"
   ]
  }
 ],
 "metadata": {
  "kernelspec": {
   "display_name": ".venv",
   "language": "python",
   "name": "python3"
  },
  "language_info": {
   "codemirror_mode": {
    "name": "ipython",
    "version": 3
   },
   "file_extension": ".py",
   "mimetype": "text/x-python",
   "name": "python",
   "nbconvert_exporter": "python",
   "pygments_lexer": "ipython3",
   "version": "3.12.3"
  }
 },
 "nbformat": 4,
 "nbformat_minor": 5
}

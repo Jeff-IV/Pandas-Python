{
 "cells": [
  {
   "cell_type": "markdown",
   "id": "9202861a",
   "metadata": {},
   "source": [
    "# Concatenación y fusión de datasets\n"
   ]
  },
  {
   "cell_type": "markdown",
   "id": "9a476633",
   "metadata": {},
   "source": [
    "Primero creemos los dataframes\n",
    "\n"
   ]
  },
  {
   "cell_type": "code",
   "execution_count": 1,
   "id": "4b4caed5",
   "metadata": {},
   "outputs": [],
   "source": [
    "import pandas as pd"
   ]
  },
  {
   "cell_type": "markdown",
   "id": "8943986d",
   "metadata": {},
   "source": [
    "## Concatenación sin campos clave\n"
   ]
  },
  {
   "cell_type": "markdown",
   "id": "1a4d8b41",
   "metadata": {},
   "source": [
    "### Primer dataframe"
   ]
  },
  {
   "cell_type": "code",
   "execution_count": 2,
   "id": "1723e6e6",
   "metadata": {},
   "outputs": [
    {
     "name": "stdout",
     "output_type": "stream",
     "text": [
      "Overwriting dataset/datasetCreado1.csv\n"
     ]
    }
   ],
   "source": [
    "%%writefile dataset/datasetCreado1.csv\n",
    "name,location\n",
    "Omar Y. Fletcher,6833 Mollis. Rd.\n",
    "Buffy W. Vincent,\"P.O. Box 345, 8390 Ante Avenue\"\n",
    "Mira N. Franklin,\"P.O. Box 445, 323 Cursus Rd.\"\n",
    "Ferris Q. Le,Ap #791-3809 Eu Street\n",
    "Michael I. Gray,6715 Diam. Rd.\n",
    "Alan T. Mullins,512-3640 Nisl Rd.\n",
    "Morgan W. Zamora,416-6030 Vivamus Road\n",
    "Lilah O. Morrison,3859 Mauris Ave\n",
    "Chantale Z. Kelley,3433 Arcu. Rd.\n",
    "Randall Q. Mcclure,Ap #584-7470 Nibh. Ave"
   ]
  },
  {
   "cell_type": "markdown",
   "id": "41c9d513",
   "metadata": {},
   "source": [
    "### Segundo dataframe\n"
   ]
  },
  {
   "cell_type": "code",
   "execution_count": 3,
   "id": "17e0e7cd",
   "metadata": {},
   "outputs": [
    {
     "name": "stdout",
     "output_type": "stream",
     "text": [
      "Overwriting dataset/datasetCreado2.csv\n"
     ]
    }
   ],
   "source": [
    "%%writefile dataset/datasetCreado2.csv\n",
    "name,location\n",
    "Baker C. Hurst,249-6250 Velit. Rd.\n",
    "Bevis W. Molina,\"P.O. Box 935, 1521 At, St.\"\n",
    "Martina B. Schroeder,689-7600 Mi St.\n",
    "Kylie G. Bailey,1430 Diam. Road\n",
    "Steel K. Glover,\"757-681 Et, Av.\"\n",
    "Lucas M. Suarez,699-9329 Magna Rd.\n",
    "Anastasia Q. Mccray,\"P.O. Box 780, 4487 Lobortis, St.\"\n",
    "Germaine Q. Henson,589-4921 Duis Ave\n",
    "Wilma U. Mcfadden,6917 Dictum Rd.\n",
    "Merritt Q. Martinez,\"P.O. Box 469, 7833 Euismod Av.\"\n"
   ]
  },
  {
   "cell_type": "markdown",
   "id": "a257d910",
   "metadata": {},
   "source": [
    "### Tercer dataframe\n"
   ]
  },
  {
   "cell_type": "code",
   "execution_count": 4,
   "id": "45d371e7",
   "metadata": {},
   "outputs": [
    {
     "name": "stdout",
     "output_type": "stream",
     "text": [
      "Overwriting dataset/datasetCreado3.csv\n"
     ]
    }
   ],
   "source": [
    "%%writefile dataset/datasetCreado3.csv\n",
    "bonus\n",
    "279\n",
    "138\n",
    "227\n",
    "160\n",
    "267\n",
    "231\n",
    "169\n",
    "263\n",
    "233\n",
    "292\n",
    "208\n",
    "247\n",
    "240\n",
    "161\n",
    "248\n",
    "216\n",
    "291\n",
    "215\n",
    "463\n",
    "790"
   ]
  },
  {
   "cell_type": "markdown",
   "id": "156c317c",
   "metadata": {},
   "source": [
    "## Concatenemos el dataset 1 y 2\n"
   ]
  },
  {
   "cell_type": "code",
   "execution_count": 5,
   "id": "8bc4e4e8",
   "metadata": {},
   "outputs": [
    {
     "data": {
      "application/vnd.microsoft.datawrangler.viewer.v0+json": {
       "columns": [
        {
         "name": "index",
         "rawType": "int64",
         "type": "integer"
        },
        {
         "name": "name",
         "rawType": "object",
         "type": "string"
        },
        {
         "name": "location",
         "rawType": "object",
         "type": "string"
        }
       ],
       "ref": "47ecac56-1707-4175-bd6d-831153829428",
       "rows": [
        [
         "0",
         "Omar Y. Fletcher",
         "6833 Mollis. Rd."
        ],
        [
         "1",
         "Buffy W. Vincent",
         "P.O. Box 345, 8390 Ante Avenue"
        ],
        [
         "2",
         "Mira N. Franklin",
         "P.O. Box 445, 323 Cursus Rd."
        ],
        [
         "3",
         "Ferris Q. Le",
         "Ap #791-3809 Eu Street"
        ],
        [
         "4",
         "Michael I. Gray",
         "6715 Diam. Rd."
        ],
        [
         "5",
         "Alan T. Mullins",
         "512-3640 Nisl Rd."
        ],
        [
         "6",
         "Morgan W. Zamora",
         "416-6030 Vivamus Road"
        ],
        [
         "7",
         "Lilah O. Morrison",
         "3859 Mauris Ave"
        ],
        [
         "8",
         "Chantale Z. Kelley",
         "3433 Arcu. Rd."
        ],
        [
         "9",
         "Randall Q. Mcclure",
         "Ap #584-7470 Nibh. Ave"
        ],
        [
         "0",
         "Baker C. Hurst",
         "249-6250 Velit. Rd."
        ],
        [
         "1",
         "Bevis W. Molina",
         "P.O. Box 935, 1521 At, St."
        ],
        [
         "2",
         "Martina B. Schroeder",
         "689-7600 Mi St."
        ],
        [
         "3",
         "Kylie G. Bailey",
         "1430 Diam. Road"
        ],
        [
         "4",
         "Steel K. Glover",
         "757-681 Et, Av."
        ],
        [
         "5",
         "Lucas M. Suarez",
         "699-9329 Magna Rd."
        ],
        [
         "6",
         "Anastasia Q. Mccray",
         "P.O. Box 780, 4487 Lobortis, St."
        ],
        [
         "7",
         "Germaine Q. Henson",
         "589-4921 Duis Ave"
        ],
        [
         "8",
         "Wilma U. Mcfadden",
         "6917 Dictum Rd."
        ],
        [
         "9",
         "Merritt Q. Martinez",
         "P.O. Box 469, 7833 Euismod Av."
        ]
       ],
       "shape": {
        "columns": 2,
        "rows": 20
       }
      },
      "text/html": [
       "<div>\n",
       "<style scoped>\n",
       "    .dataframe tbody tr th:only-of-type {\n",
       "        vertical-align: middle;\n",
       "    }\n",
       "\n",
       "    .dataframe tbody tr th {\n",
       "        vertical-align: top;\n",
       "    }\n",
       "\n",
       "    .dataframe thead th {\n",
       "        text-align: right;\n",
       "    }\n",
       "</style>\n",
       "<table border=\"1\" class=\"dataframe\">\n",
       "  <thead>\n",
       "    <tr style=\"text-align: right;\">\n",
       "      <th></th>\n",
       "      <th>name</th>\n",
       "      <th>location</th>\n",
       "    </tr>\n",
       "  </thead>\n",
       "  <tbody>\n",
       "    <tr>\n",
       "      <th>0</th>\n",
       "      <td>Omar Y. Fletcher</td>\n",
       "      <td>6833 Mollis. Rd.</td>\n",
       "    </tr>\n",
       "    <tr>\n",
       "      <th>1</th>\n",
       "      <td>Buffy W. Vincent</td>\n",
       "      <td>P.O. Box 345, 8390 Ante Avenue</td>\n",
       "    </tr>\n",
       "    <tr>\n",
       "      <th>2</th>\n",
       "      <td>Mira N. Franklin</td>\n",
       "      <td>P.O. Box 445, 323 Cursus Rd.</td>\n",
       "    </tr>\n",
       "    <tr>\n",
       "      <th>3</th>\n",
       "      <td>Ferris Q. Le</td>\n",
       "      <td>Ap #791-3809 Eu Street</td>\n",
       "    </tr>\n",
       "    <tr>\n",
       "      <th>4</th>\n",
       "      <td>Michael I. Gray</td>\n",
       "      <td>6715 Diam. Rd.</td>\n",
       "    </tr>\n",
       "    <tr>\n",
       "      <th>5</th>\n",
       "      <td>Alan T. Mullins</td>\n",
       "      <td>512-3640 Nisl Rd.</td>\n",
       "    </tr>\n",
       "    <tr>\n",
       "      <th>6</th>\n",
       "      <td>Morgan W. Zamora</td>\n",
       "      <td>416-6030 Vivamus Road</td>\n",
       "    </tr>\n",
       "    <tr>\n",
       "      <th>7</th>\n",
       "      <td>Lilah O. Morrison</td>\n",
       "      <td>3859 Mauris Ave</td>\n",
       "    </tr>\n",
       "    <tr>\n",
       "      <th>8</th>\n",
       "      <td>Chantale Z. Kelley</td>\n",
       "      <td>3433 Arcu. Rd.</td>\n",
       "    </tr>\n",
       "    <tr>\n",
       "      <th>9</th>\n",
       "      <td>Randall Q. Mcclure</td>\n",
       "      <td>Ap #584-7470 Nibh. Ave</td>\n",
       "    </tr>\n",
       "    <tr>\n",
       "      <th>0</th>\n",
       "      <td>Baker C. Hurst</td>\n",
       "      <td>249-6250 Velit. Rd.</td>\n",
       "    </tr>\n",
       "    <tr>\n",
       "      <th>1</th>\n",
       "      <td>Bevis W. Molina</td>\n",
       "      <td>P.O. Box 935, 1521 At, St.</td>\n",
       "    </tr>\n",
       "    <tr>\n",
       "      <th>2</th>\n",
       "      <td>Martina B. Schroeder</td>\n",
       "      <td>689-7600 Mi St.</td>\n",
       "    </tr>\n",
       "    <tr>\n",
       "      <th>3</th>\n",
       "      <td>Kylie G. Bailey</td>\n",
       "      <td>1430 Diam. Road</td>\n",
       "    </tr>\n",
       "    <tr>\n",
       "      <th>4</th>\n",
       "      <td>Steel K. Glover</td>\n",
       "      <td>757-681 Et, Av.</td>\n",
       "    </tr>\n",
       "    <tr>\n",
       "      <th>5</th>\n",
       "      <td>Lucas M. Suarez</td>\n",
       "      <td>699-9329 Magna Rd.</td>\n",
       "    </tr>\n",
       "    <tr>\n",
       "      <th>6</th>\n",
       "      <td>Anastasia Q. Mccray</td>\n",
       "      <td>P.O. Box 780, 4487 Lobortis, St.</td>\n",
       "    </tr>\n",
       "    <tr>\n",
       "      <th>7</th>\n",
       "      <td>Germaine Q. Henson</td>\n",
       "      <td>589-4921 Duis Ave</td>\n",
       "    </tr>\n",
       "    <tr>\n",
       "      <th>8</th>\n",
       "      <td>Wilma U. Mcfadden</td>\n",
       "      <td>6917 Dictum Rd.</td>\n",
       "    </tr>\n",
       "    <tr>\n",
       "      <th>9</th>\n",
       "      <td>Merritt Q. Martinez</td>\n",
       "      <td>P.O. Box 469, 7833 Euismod Av.</td>\n",
       "    </tr>\n",
       "  </tbody>\n",
       "</table>\n",
       "</div>"
      ],
      "text/plain": [
       "                   name                          location\n",
       "0      Omar Y. Fletcher                  6833 Mollis. Rd.\n",
       "1      Buffy W. Vincent    P.O. Box 345, 8390 Ante Avenue\n",
       "2      Mira N. Franklin      P.O. Box 445, 323 Cursus Rd.\n",
       "3          Ferris Q. Le            Ap #791-3809 Eu Street\n",
       "4       Michael I. Gray                    6715 Diam. Rd.\n",
       "5       Alan T. Mullins                 512-3640 Nisl Rd.\n",
       "6      Morgan W. Zamora             416-6030 Vivamus Road\n",
       "7     Lilah O. Morrison                   3859 Mauris Ave\n",
       "8    Chantale Z. Kelley                    3433 Arcu. Rd.\n",
       "9    Randall Q. Mcclure            Ap #584-7470 Nibh. Ave\n",
       "0        Baker C. Hurst               249-6250 Velit. Rd.\n",
       "1       Bevis W. Molina        P.O. Box 935, 1521 At, St.\n",
       "2  Martina B. Schroeder                   689-7600 Mi St.\n",
       "3       Kylie G. Bailey                   1430 Diam. Road\n",
       "4       Steel K. Glover                   757-681 Et, Av.\n",
       "5       Lucas M. Suarez                699-9329 Magna Rd.\n",
       "6   Anastasia Q. Mccray  P.O. Box 780, 4487 Lobortis, St.\n",
       "7    Germaine Q. Henson                 589-4921 Duis Ave\n",
       "8     Wilma U. Mcfadden                   6917 Dictum Rd.\n",
       "9   Merritt Q. Martinez    P.O. Box 469, 7833 Euismod Av."
      ]
     },
     "execution_count": 5,
     "metadata": {},
     "output_type": "execute_result"
    }
   ],
   "source": [
    "#creemos un dataframe con cada dataset \n",
    "\n",
    "df1 = pd.read_csv(\"dataset/datasetCreado1.csv\")\n",
    "\n",
    "df2 = pd.read_csv(\"dataset/datasetCreado2.csv\")\n",
    "\n",
    "#Concatenemos con valores por defecto\n",
    "\n",
    "df1y2 = pd.concat(\n",
    "    objs=[df1, df2],\n",
    "    # axis= 0/index, 1/columns\n",
    "    axis=0,\n",
    "    # join={'inner', 'outer'}\n",
    "    join=\"outer\",\n",
    "    # ignore_index=bool\n",
    "    ignore_index=False,\n",
    "    # sort=bool\n",
    "    # Ordena el otro eje si el join es 'outer'.\n",
    "    # Se ignora cuando es 'inner'\n",
    "    sort=False\n",
    "    )\n",
    "\n",
    "df1y2\n"
   ]
  },
  {
   "cell_type": "markdown",
   "id": "2126768f",
   "metadata": {},
   "source": [
    "### Hagamos la concatenación ignorando el indice\n"
   ]
  },
  {
   "cell_type": "code",
   "execution_count": 6,
   "id": "e2b6cf08",
   "metadata": {},
   "outputs": [
    {
     "data": {
      "application/vnd.microsoft.datawrangler.viewer.v0+json": {
       "columns": [
        {
         "name": "index",
         "rawType": "int64",
         "type": "integer"
        },
        {
         "name": "name",
         "rawType": "object",
         "type": "string"
        },
        {
         "name": "location",
         "rawType": "object",
         "type": "string"
        }
       ],
       "ref": "2703a3d8-1180-4d44-95b8-a4a274ea11a4",
       "rows": [
        [
         "0",
         "Omar Y. Fletcher",
         "6833 Mollis. Rd."
        ],
        [
         "1",
         "Buffy W. Vincent",
         "P.O. Box 345, 8390 Ante Avenue"
        ],
        [
         "2",
         "Mira N. Franklin",
         "P.O. Box 445, 323 Cursus Rd."
        ],
        [
         "3",
         "Ferris Q. Le",
         "Ap #791-3809 Eu Street"
        ],
        [
         "4",
         "Michael I. Gray",
         "6715 Diam. Rd."
        ],
        [
         "5",
         "Alan T. Mullins",
         "512-3640 Nisl Rd."
        ],
        [
         "6",
         "Morgan W. Zamora",
         "416-6030 Vivamus Road"
        ],
        [
         "7",
         "Lilah O. Morrison",
         "3859 Mauris Ave"
        ],
        [
         "8",
         "Chantale Z. Kelley",
         "3433 Arcu. Rd."
        ],
        [
         "9",
         "Randall Q. Mcclure",
         "Ap #584-7470 Nibh. Ave"
        ],
        [
         "10",
         "Baker C. Hurst",
         "249-6250 Velit. Rd."
        ],
        [
         "11",
         "Bevis W. Molina",
         "P.O. Box 935, 1521 At, St."
        ],
        [
         "12",
         "Martina B. Schroeder",
         "689-7600 Mi St."
        ],
        [
         "13",
         "Kylie G. Bailey",
         "1430 Diam. Road"
        ],
        [
         "14",
         "Steel K. Glover",
         "757-681 Et, Av."
        ],
        [
         "15",
         "Lucas M. Suarez",
         "699-9329 Magna Rd."
        ],
        [
         "16",
         "Anastasia Q. Mccray",
         "P.O. Box 780, 4487 Lobortis, St."
        ],
        [
         "17",
         "Germaine Q. Henson",
         "589-4921 Duis Ave"
        ],
        [
         "18",
         "Wilma U. Mcfadden",
         "6917 Dictum Rd."
        ],
        [
         "19",
         "Merritt Q. Martinez",
         "P.O. Box 469, 7833 Euismod Av."
        ]
       ],
       "shape": {
        "columns": 2,
        "rows": 20
       }
      },
      "text/html": [
       "<div>\n",
       "<style scoped>\n",
       "    .dataframe tbody tr th:only-of-type {\n",
       "        vertical-align: middle;\n",
       "    }\n",
       "\n",
       "    .dataframe tbody tr th {\n",
       "        vertical-align: top;\n",
       "    }\n",
       "\n",
       "    .dataframe thead th {\n",
       "        text-align: right;\n",
       "    }\n",
       "</style>\n",
       "<table border=\"1\" class=\"dataframe\">\n",
       "  <thead>\n",
       "    <tr style=\"text-align: right;\">\n",
       "      <th></th>\n",
       "      <th>name</th>\n",
       "      <th>location</th>\n",
       "    </tr>\n",
       "  </thead>\n",
       "  <tbody>\n",
       "    <tr>\n",
       "      <th>0</th>\n",
       "      <td>Omar Y. Fletcher</td>\n",
       "      <td>6833 Mollis. Rd.</td>\n",
       "    </tr>\n",
       "    <tr>\n",
       "      <th>1</th>\n",
       "      <td>Buffy W. Vincent</td>\n",
       "      <td>P.O. Box 345, 8390 Ante Avenue</td>\n",
       "    </tr>\n",
       "    <tr>\n",
       "      <th>2</th>\n",
       "      <td>Mira N. Franklin</td>\n",
       "      <td>P.O. Box 445, 323 Cursus Rd.</td>\n",
       "    </tr>\n",
       "    <tr>\n",
       "      <th>3</th>\n",
       "      <td>Ferris Q. Le</td>\n",
       "      <td>Ap #791-3809 Eu Street</td>\n",
       "    </tr>\n",
       "    <tr>\n",
       "      <th>4</th>\n",
       "      <td>Michael I. Gray</td>\n",
       "      <td>6715 Diam. Rd.</td>\n",
       "    </tr>\n",
       "    <tr>\n",
       "      <th>5</th>\n",
       "      <td>Alan T. Mullins</td>\n",
       "      <td>512-3640 Nisl Rd.</td>\n",
       "    </tr>\n",
       "    <tr>\n",
       "      <th>6</th>\n",
       "      <td>Morgan W. Zamora</td>\n",
       "      <td>416-6030 Vivamus Road</td>\n",
       "    </tr>\n",
       "    <tr>\n",
       "      <th>7</th>\n",
       "      <td>Lilah O. Morrison</td>\n",
       "      <td>3859 Mauris Ave</td>\n",
       "    </tr>\n",
       "    <tr>\n",
       "      <th>8</th>\n",
       "      <td>Chantale Z. Kelley</td>\n",
       "      <td>3433 Arcu. Rd.</td>\n",
       "    </tr>\n",
       "    <tr>\n",
       "      <th>9</th>\n",
       "      <td>Randall Q. Mcclure</td>\n",
       "      <td>Ap #584-7470 Nibh. Ave</td>\n",
       "    </tr>\n",
       "    <tr>\n",
       "      <th>10</th>\n",
       "      <td>Baker C. Hurst</td>\n",
       "      <td>249-6250 Velit. Rd.</td>\n",
       "    </tr>\n",
       "    <tr>\n",
       "      <th>11</th>\n",
       "      <td>Bevis W. Molina</td>\n",
       "      <td>P.O. Box 935, 1521 At, St.</td>\n",
       "    </tr>\n",
       "    <tr>\n",
       "      <th>12</th>\n",
       "      <td>Martina B. Schroeder</td>\n",
       "      <td>689-7600 Mi St.</td>\n",
       "    </tr>\n",
       "    <tr>\n",
       "      <th>13</th>\n",
       "      <td>Kylie G. Bailey</td>\n",
       "      <td>1430 Diam. Road</td>\n",
       "    </tr>\n",
       "    <tr>\n",
       "      <th>14</th>\n",
       "      <td>Steel K. Glover</td>\n",
       "      <td>757-681 Et, Av.</td>\n",
       "    </tr>\n",
       "    <tr>\n",
       "      <th>15</th>\n",
       "      <td>Lucas M. Suarez</td>\n",
       "      <td>699-9329 Magna Rd.</td>\n",
       "    </tr>\n",
       "    <tr>\n",
       "      <th>16</th>\n",
       "      <td>Anastasia Q. Mccray</td>\n",
       "      <td>P.O. Box 780, 4487 Lobortis, St.</td>\n",
       "    </tr>\n",
       "    <tr>\n",
       "      <th>17</th>\n",
       "      <td>Germaine Q. Henson</td>\n",
       "      <td>589-4921 Duis Ave</td>\n",
       "    </tr>\n",
       "    <tr>\n",
       "      <th>18</th>\n",
       "      <td>Wilma U. Mcfadden</td>\n",
       "      <td>6917 Dictum Rd.</td>\n",
       "    </tr>\n",
       "    <tr>\n",
       "      <th>19</th>\n",
       "      <td>Merritt Q. Martinez</td>\n",
       "      <td>P.O. Box 469, 7833 Euismod Av.</td>\n",
       "    </tr>\n",
       "  </tbody>\n",
       "</table>\n",
       "</div>"
      ],
      "text/plain": [
       "                    name                          location\n",
       "0       Omar Y. Fletcher                  6833 Mollis. Rd.\n",
       "1       Buffy W. Vincent    P.O. Box 345, 8390 Ante Avenue\n",
       "2       Mira N. Franklin      P.O. Box 445, 323 Cursus Rd.\n",
       "3           Ferris Q. Le            Ap #791-3809 Eu Street\n",
       "4        Michael I. Gray                    6715 Diam. Rd.\n",
       "5        Alan T. Mullins                 512-3640 Nisl Rd.\n",
       "6       Morgan W. Zamora             416-6030 Vivamus Road\n",
       "7      Lilah O. Morrison                   3859 Mauris Ave\n",
       "8     Chantale Z. Kelley                    3433 Arcu. Rd.\n",
       "9     Randall Q. Mcclure            Ap #584-7470 Nibh. Ave\n",
       "10        Baker C. Hurst               249-6250 Velit. Rd.\n",
       "11       Bevis W. Molina        P.O. Box 935, 1521 At, St.\n",
       "12  Martina B. Schroeder                   689-7600 Mi St.\n",
       "13       Kylie G. Bailey                   1430 Diam. Road\n",
       "14       Steel K. Glover                   757-681 Et, Av.\n",
       "15       Lucas M. Suarez                699-9329 Magna Rd.\n",
       "16   Anastasia Q. Mccray  P.O. Box 780, 4487 Lobortis, St.\n",
       "17    Germaine Q. Henson                 589-4921 Duis Ave\n",
       "18     Wilma U. Mcfadden                   6917 Dictum Rd.\n",
       "19   Merritt Q. Martinez    P.O. Box 469, 7833 Euismod Av."
      ]
     },
     "execution_count": 6,
     "metadata": {},
     "output_type": "execute_result"
    }
   ],
   "source": [
    "#creemos un dataframe con cada dataset \n",
    "\n",
    "df1 = pd.read_csv(\"dataset/datasetCreado1.csv\")\n",
    "\n",
    "df2 = pd.read_csv(\"dataset/datasetCreado2.csv\")\n",
    "\n",
    "#Concatenemos con valores por defecto\n",
    "\n",
    "df1y2 = pd.concat(\n",
    "    objs=[df1, df2],\n",
    "    axis=0,\n",
    "    ignore_index=True,\n",
    "    )\n",
    "\n",
    "df1y2"
   ]
  },
  {
   "cell_type": "markdown",
   "id": "1a349c16",
   "metadata": {},
   "source": [
    "## Concatemos el dataframe creado anteriormente con el dataset 3 de manera lateral "
   ]
  },
  {
   "cell_type": "markdown",
   "id": "7396b5e8",
   "metadata": {},
   "source": [
    "### Lo agregaremos como una columna nueva con sus respectivos registros\n"
   ]
  },
  {
   "cell_type": "code",
   "execution_count": 7,
   "id": "3c7217ca",
   "metadata": {},
   "outputs": [
    {
     "data": {
      "application/vnd.microsoft.datawrangler.viewer.v0+json": {
       "columns": [
        {
         "name": "index",
         "rawType": "int64",
         "type": "integer"
        },
        {
         "name": "name",
         "rawType": "object",
         "type": "string"
        },
        {
         "name": "location",
         "rawType": "object",
         "type": "string"
        },
        {
         "name": "bonus",
         "rawType": "int64",
         "type": "integer"
        }
       ],
       "ref": "2fea7270-4fc4-48b1-8545-ee38279f1877",
       "rows": [
        [
         "0",
         "Omar Y. Fletcher",
         "6833 Mollis. Rd.",
         "279"
        ],
        [
         "1",
         "Buffy W. Vincent",
         "P.O. Box 345, 8390 Ante Avenue",
         "138"
        ],
        [
         "2",
         "Mira N. Franklin",
         "P.O. Box 445, 323 Cursus Rd.",
         "227"
        ],
        [
         "3",
         "Ferris Q. Le",
         "Ap #791-3809 Eu Street",
         "160"
        ],
        [
         "4",
         "Michael I. Gray",
         "6715 Diam. Rd.",
         "267"
        ],
        [
         "5",
         "Alan T. Mullins",
         "512-3640 Nisl Rd.",
         "231"
        ],
        [
         "6",
         "Morgan W. Zamora",
         "416-6030 Vivamus Road",
         "169"
        ],
        [
         "7",
         "Lilah O. Morrison",
         "3859 Mauris Ave",
         "263"
        ],
        [
         "8",
         "Chantale Z. Kelley",
         "3433 Arcu. Rd.",
         "233"
        ],
        [
         "9",
         "Randall Q. Mcclure",
         "Ap #584-7470 Nibh. Ave",
         "292"
        ],
        [
         "10",
         "Baker C. Hurst",
         "249-6250 Velit. Rd.",
         "208"
        ],
        [
         "11",
         "Bevis W. Molina",
         "P.O. Box 935, 1521 At, St.",
         "247"
        ],
        [
         "12",
         "Martina B. Schroeder",
         "689-7600 Mi St.",
         "240"
        ],
        [
         "13",
         "Kylie G. Bailey",
         "1430 Diam. Road",
         "161"
        ],
        [
         "14",
         "Steel K. Glover",
         "757-681 Et, Av.",
         "248"
        ],
        [
         "15",
         "Lucas M. Suarez",
         "699-9329 Magna Rd.",
         "216"
        ],
        [
         "16",
         "Anastasia Q. Mccray",
         "P.O. Box 780, 4487 Lobortis, St.",
         "291"
        ],
        [
         "17",
         "Germaine Q. Henson",
         "589-4921 Duis Ave",
         "215"
        ],
        [
         "18",
         "Wilma U. Mcfadden",
         "6917 Dictum Rd.",
         "463"
        ],
        [
         "19",
         "Merritt Q. Martinez",
         "P.O. Box 469, 7833 Euismod Av.",
         "790"
        ]
       ],
       "shape": {
        "columns": 3,
        "rows": 20
       }
      },
      "text/html": [
       "<div>\n",
       "<style scoped>\n",
       "    .dataframe tbody tr th:only-of-type {\n",
       "        vertical-align: middle;\n",
       "    }\n",
       "\n",
       "    .dataframe tbody tr th {\n",
       "        vertical-align: top;\n",
       "    }\n",
       "\n",
       "    .dataframe thead th {\n",
       "        text-align: right;\n",
       "    }\n",
       "</style>\n",
       "<table border=\"1\" class=\"dataframe\">\n",
       "  <thead>\n",
       "    <tr style=\"text-align: right;\">\n",
       "      <th></th>\n",
       "      <th>name</th>\n",
       "      <th>location</th>\n",
       "      <th>bonus</th>\n",
       "    </tr>\n",
       "  </thead>\n",
       "  <tbody>\n",
       "    <tr>\n",
       "      <th>0</th>\n",
       "      <td>Omar Y. Fletcher</td>\n",
       "      <td>6833 Mollis. Rd.</td>\n",
       "      <td>279</td>\n",
       "    </tr>\n",
       "    <tr>\n",
       "      <th>1</th>\n",
       "      <td>Buffy W. Vincent</td>\n",
       "      <td>P.O. Box 345, 8390 Ante Avenue</td>\n",
       "      <td>138</td>\n",
       "    </tr>\n",
       "    <tr>\n",
       "      <th>2</th>\n",
       "      <td>Mira N. Franklin</td>\n",
       "      <td>P.O. Box 445, 323 Cursus Rd.</td>\n",
       "      <td>227</td>\n",
       "    </tr>\n",
       "    <tr>\n",
       "      <th>3</th>\n",
       "      <td>Ferris Q. Le</td>\n",
       "      <td>Ap #791-3809 Eu Street</td>\n",
       "      <td>160</td>\n",
       "    </tr>\n",
       "    <tr>\n",
       "      <th>4</th>\n",
       "      <td>Michael I. Gray</td>\n",
       "      <td>6715 Diam. Rd.</td>\n",
       "      <td>267</td>\n",
       "    </tr>\n",
       "    <tr>\n",
       "      <th>5</th>\n",
       "      <td>Alan T. Mullins</td>\n",
       "      <td>512-3640 Nisl Rd.</td>\n",
       "      <td>231</td>\n",
       "    </tr>\n",
       "    <tr>\n",
       "      <th>6</th>\n",
       "      <td>Morgan W. Zamora</td>\n",
       "      <td>416-6030 Vivamus Road</td>\n",
       "      <td>169</td>\n",
       "    </tr>\n",
       "    <tr>\n",
       "      <th>7</th>\n",
       "      <td>Lilah O. Morrison</td>\n",
       "      <td>3859 Mauris Ave</td>\n",
       "      <td>263</td>\n",
       "    </tr>\n",
       "    <tr>\n",
       "      <th>8</th>\n",
       "      <td>Chantale Z. Kelley</td>\n",
       "      <td>3433 Arcu. Rd.</td>\n",
       "      <td>233</td>\n",
       "    </tr>\n",
       "    <tr>\n",
       "      <th>9</th>\n",
       "      <td>Randall Q. Mcclure</td>\n",
       "      <td>Ap #584-7470 Nibh. Ave</td>\n",
       "      <td>292</td>\n",
       "    </tr>\n",
       "    <tr>\n",
       "      <th>10</th>\n",
       "      <td>Baker C. Hurst</td>\n",
       "      <td>249-6250 Velit. Rd.</td>\n",
       "      <td>208</td>\n",
       "    </tr>\n",
       "    <tr>\n",
       "      <th>11</th>\n",
       "      <td>Bevis W. Molina</td>\n",
       "      <td>P.O. Box 935, 1521 At, St.</td>\n",
       "      <td>247</td>\n",
       "    </tr>\n",
       "    <tr>\n",
       "      <th>12</th>\n",
       "      <td>Martina B. Schroeder</td>\n",
       "      <td>689-7600 Mi St.</td>\n",
       "      <td>240</td>\n",
       "    </tr>\n",
       "    <tr>\n",
       "      <th>13</th>\n",
       "      <td>Kylie G. Bailey</td>\n",
       "      <td>1430 Diam. Road</td>\n",
       "      <td>161</td>\n",
       "    </tr>\n",
       "    <tr>\n",
       "      <th>14</th>\n",
       "      <td>Steel K. Glover</td>\n",
       "      <td>757-681 Et, Av.</td>\n",
       "      <td>248</td>\n",
       "    </tr>\n",
       "    <tr>\n",
       "      <th>15</th>\n",
       "      <td>Lucas M. Suarez</td>\n",
       "      <td>699-9329 Magna Rd.</td>\n",
       "      <td>216</td>\n",
       "    </tr>\n",
       "    <tr>\n",
       "      <th>16</th>\n",
       "      <td>Anastasia Q. Mccray</td>\n",
       "      <td>P.O. Box 780, 4487 Lobortis, St.</td>\n",
       "      <td>291</td>\n",
       "    </tr>\n",
       "    <tr>\n",
       "      <th>17</th>\n",
       "      <td>Germaine Q. Henson</td>\n",
       "      <td>589-4921 Duis Ave</td>\n",
       "      <td>215</td>\n",
       "    </tr>\n",
       "    <tr>\n",
       "      <th>18</th>\n",
       "      <td>Wilma U. Mcfadden</td>\n",
       "      <td>6917 Dictum Rd.</td>\n",
       "      <td>463</td>\n",
       "    </tr>\n",
       "    <tr>\n",
       "      <th>19</th>\n",
       "      <td>Merritt Q. Martinez</td>\n",
       "      <td>P.O. Box 469, 7833 Euismod Av.</td>\n",
       "      <td>790</td>\n",
       "    </tr>\n",
       "  </tbody>\n",
       "</table>\n",
       "</div>"
      ],
      "text/plain": [
       "                    name                          location  bonus\n",
       "0       Omar Y. Fletcher                  6833 Mollis. Rd.    279\n",
       "1       Buffy W. Vincent    P.O. Box 345, 8390 Ante Avenue    138\n",
       "2       Mira N. Franklin      P.O. Box 445, 323 Cursus Rd.    227\n",
       "3           Ferris Q. Le            Ap #791-3809 Eu Street    160\n",
       "4        Michael I. Gray                    6715 Diam. Rd.    267\n",
       "5        Alan T. Mullins                 512-3640 Nisl Rd.    231\n",
       "6       Morgan W. Zamora             416-6030 Vivamus Road    169\n",
       "7      Lilah O. Morrison                   3859 Mauris Ave    263\n",
       "8     Chantale Z. Kelley                    3433 Arcu. Rd.    233\n",
       "9     Randall Q. Mcclure            Ap #584-7470 Nibh. Ave    292\n",
       "10        Baker C. Hurst               249-6250 Velit. Rd.    208\n",
       "11       Bevis W. Molina        P.O. Box 935, 1521 At, St.    247\n",
       "12  Martina B. Schroeder                   689-7600 Mi St.    240\n",
       "13       Kylie G. Bailey                   1430 Diam. Road    161\n",
       "14       Steel K. Glover                   757-681 Et, Av.    248\n",
       "15       Lucas M. Suarez                699-9329 Magna Rd.    216\n",
       "16   Anastasia Q. Mccray  P.O. Box 780, 4487 Lobortis, St.    291\n",
       "17    Germaine Q. Henson                 589-4921 Duis Ave    215\n",
       "18     Wilma U. Mcfadden                   6917 Dictum Rd.    463\n",
       "19   Merritt Q. Martinez    P.O. Box 469, 7833 Euismod Av.    790"
      ]
     },
     "execution_count": 7,
     "metadata": {},
     "output_type": "execute_result"
    }
   ],
   "source": [
    "df3 = pd.read_csv(\"dataset/datasetCreado3.csv\")\n",
    "\n",
    "len(df3)\n",
    "len(df1y2)\n",
    "\n",
    "df_full = pd.concat(\n",
    "    objs=[df1y2, df3],\n",
    "    axis = 1, #para que se concatene como columna, no como fila\n",
    ")\n",
    "\n",
    "df_full"
   ]
  },
  {
   "cell_type": "markdown",
   "id": "a75fe95c",
   "metadata": {},
   "source": [
    "# Concatenación usando un campo clave\n"
   ]
  },
  {
   "cell_type": "markdown",
   "id": "28bfcfe5",
   "metadata": {},
   "source": [
    "### Nuevamente creemos tres datasets "
   ]
  },
  {
   "cell_type": "markdown",
   "id": "00e68832",
   "metadata": {},
   "source": [
    "### Dataset 1\n"
   ]
  },
  {
   "cell_type": "code",
   "execution_count": 8,
   "id": "e2220c41",
   "metadata": {},
   "outputs": [
    {
     "name": "stdout",
     "output_type": "stream",
     "text": [
      "Overwriting dataset/dataset1.csv\n"
     ]
    }
   ],
   "source": [
    "%%writefile dataset/dataset1.csv\n",
    "clientId,name,location\n",
    "10,Omar Y. Fletcher,6833 Mollis. Rd.\n",
    "11,Buffy W. Vincent,\"P.O. Box 345, 8390 Ante Avenue\"\n",
    "12,Mira N. Franklin,\"P.O. Box 445, 323 Cursus Rd.\"\n",
    "13,Ferris Q. Le,Ap #791-3809 Eu Street\n",
    "14,Michael I. Gray,6715 Diam. Rd.\n",
    "15,Alan T. Mullins,512-3640 Nisl Rd.\n",
    "16,Morgan W. Zamora,416-6030 Vivamus Road\n",
    "17,Lilah O. Morrison,3859 Mauris Ave\n",
    "18,Chantale Z. Kelley,3433 Arcu. Rd.\n",
    "19,Randall Q. Mcclure,Ap #584-7470 Nibh. Ave"
   ]
  },
  {
   "cell_type": "markdown",
   "id": "7c266dfd",
   "metadata": {},
   "source": [
    "### Dataset 2\n"
   ]
  },
  {
   "cell_type": "code",
   "execution_count": 9,
   "id": "d3732d0a",
   "metadata": {},
   "outputs": [
    {
     "name": "stdout",
     "output_type": "stream",
     "text": [
      "Overwriting dataset/dataset2.csv\n"
     ]
    }
   ],
   "source": [
    "%%writefile dataset/dataset2.csv\n",
    "clientId,name,location\n",
    "20,Baker C. Hurst,249-6250 Velit. Rd.\n",
    "21,Bevis W. Molina,\"P.O. Box 935, 1521 At, St.\"\n",
    "22,Martina B. Schroeder,689-7600 Mi St.\n",
    "23,Kylie G. Bailey,1430 Diam. Road\n",
    "24,Steel K. Glover,\"757-681 Et, Av.\"\n",
    "25,Lucas M. Suarez,699-9329 Magna Rd.\n",
    "26,Anastasia Q. Mccray,\"P.O. Box 780, 4487 Lobortis, St.\"\n",
    "27,Germaine Q. Henson,589-4921 Duis Ave\n",
    "28,Wilma U. Mcfadden,6917 Dictum Rd.\n",
    "29,Merritt Q. Martinez,\"P.O. Box 469, 7833 Euismod Av.\""
   ]
  },
  {
   "cell_type": "markdown",
   "id": "38fc40ad",
   "metadata": {},
   "source": [
    "### Dataset 3"
   ]
  },
  {
   "cell_type": "code",
   "execution_count": 10,
   "id": "ec7477c7",
   "metadata": {},
   "outputs": [
    {
     "name": "stdout",
     "output_type": "stream",
     "text": [
      "Overwriting dataset/dataset3.csv\n"
     ]
    }
   ],
   "source": [
    "%%writefile dataset/dataset3.csv\n",
    "clientId,bonus\n",
    "28,463\n",
    "29,790\n",
    "11,138\n",
    "12,227\n",
    "15,231\n",
    "24,248\n",
    "25,216\n",
    "26,291\n",
    "10,279\n",
    "13,160\n",
    "14,267\n",
    "27,215\n",
    "16,169\n",
    "17,263\n",
    "18,233\n",
    "19,292\n",
    "20,208\n",
    "21,247\n",
    "22,240\n",
    "23,161"
   ]
  },
  {
   "cell_type": "markdown",
   "id": "c96c8c49",
   "metadata": {},
   "source": [
    "## Carguemos y concatenemos los dos primeros datasets"
   ]
  },
  {
   "cell_type": "code",
   "execution_count": 12,
   "id": "d83c883d",
   "metadata": {},
   "outputs": [
    {
     "data": {
      "application/vnd.microsoft.datawrangler.viewer.v0+json": {
       "columns": [
        {
         "name": "clientId",
         "rawType": "int64",
         "type": "integer"
        },
        {
         "name": "name",
         "rawType": "object",
         "type": "string"
        },
        {
         "name": "location",
         "rawType": "object",
         "type": "string"
        }
       ],
       "ref": "6b8d6569-cf41-425a-a8cd-f0f5c7f1ebff",
       "rows": [
        [
         "10",
         "Omar Y. Fletcher",
         "6833 Mollis. Rd."
        ],
        [
         "11",
         "Buffy W. Vincent",
         "P.O. Box 345, 8390 Ante Avenue"
        ],
        [
         "12",
         "Mira N. Franklin",
         "P.O. Box 445, 323 Cursus Rd."
        ],
        [
         "13",
         "Ferris Q. Le",
         "Ap #791-3809 Eu Street"
        ],
        [
         "14",
         "Michael I. Gray",
         "6715 Diam. Rd."
        ],
        [
         "15",
         "Alan T. Mullins",
         "512-3640 Nisl Rd."
        ],
        [
         "16",
         "Morgan W. Zamora",
         "416-6030 Vivamus Road"
        ],
        [
         "17",
         "Lilah O. Morrison",
         "3859 Mauris Ave"
        ],
        [
         "18",
         "Chantale Z. Kelley",
         "3433 Arcu. Rd."
        ],
        [
         "19",
         "Randall Q. Mcclure",
         "Ap #584-7470 Nibh. Ave"
        ],
        [
         "20",
         "Baker C. Hurst",
         "249-6250 Velit. Rd."
        ],
        [
         "21",
         "Bevis W. Molina",
         "P.O. Box 935, 1521 At, St."
        ],
        [
         "22",
         "Martina B. Schroeder",
         "689-7600 Mi St."
        ],
        [
         "23",
         "Kylie G. Bailey",
         "1430 Diam. Road"
        ],
        [
         "24",
         "Steel K. Glover",
         "757-681 Et, Av."
        ],
        [
         "25",
         "Lucas M. Suarez",
         "699-9329 Magna Rd."
        ],
        [
         "26",
         "Anastasia Q. Mccray",
         "P.O. Box 780, 4487 Lobortis, St."
        ],
        [
         "27",
         "Germaine Q. Henson",
         "589-4921 Duis Ave"
        ],
        [
         "28",
         "Wilma U. Mcfadden",
         "6917 Dictum Rd."
        ],
        [
         "29",
         "Merritt Q. Martinez",
         "P.O. Box 469, 7833 Euismod Av."
        ]
       ],
       "shape": {
        "columns": 2,
        "rows": 20
       }
      },
      "text/html": [
       "<div>\n",
       "<style scoped>\n",
       "    .dataframe tbody tr th:only-of-type {\n",
       "        vertical-align: middle;\n",
       "    }\n",
       "\n",
       "    .dataframe tbody tr th {\n",
       "        vertical-align: top;\n",
       "    }\n",
       "\n",
       "    .dataframe thead th {\n",
       "        text-align: right;\n",
       "    }\n",
       "</style>\n",
       "<table border=\"1\" class=\"dataframe\">\n",
       "  <thead>\n",
       "    <tr style=\"text-align: right;\">\n",
       "      <th></th>\n",
       "      <th>name</th>\n",
       "      <th>location</th>\n",
       "    </tr>\n",
       "    <tr>\n",
       "      <th>clientId</th>\n",
       "      <th></th>\n",
       "      <th></th>\n",
       "    </tr>\n",
       "  </thead>\n",
       "  <tbody>\n",
       "    <tr>\n",
       "      <th>10</th>\n",
       "      <td>Omar Y. Fletcher</td>\n",
       "      <td>6833 Mollis. Rd.</td>\n",
       "    </tr>\n",
       "    <tr>\n",
       "      <th>11</th>\n",
       "      <td>Buffy W. Vincent</td>\n",
       "      <td>P.O. Box 345, 8390 Ante Avenue</td>\n",
       "    </tr>\n",
       "    <tr>\n",
       "      <th>12</th>\n",
       "      <td>Mira N. Franklin</td>\n",
       "      <td>P.O. Box 445, 323 Cursus Rd.</td>\n",
       "    </tr>\n",
       "    <tr>\n",
       "      <th>13</th>\n",
       "      <td>Ferris Q. Le</td>\n",
       "      <td>Ap #791-3809 Eu Street</td>\n",
       "    </tr>\n",
       "    <tr>\n",
       "      <th>14</th>\n",
       "      <td>Michael I. Gray</td>\n",
       "      <td>6715 Diam. Rd.</td>\n",
       "    </tr>\n",
       "    <tr>\n",
       "      <th>15</th>\n",
       "      <td>Alan T. Mullins</td>\n",
       "      <td>512-3640 Nisl Rd.</td>\n",
       "    </tr>\n",
       "    <tr>\n",
       "      <th>16</th>\n",
       "      <td>Morgan W. Zamora</td>\n",
       "      <td>416-6030 Vivamus Road</td>\n",
       "    </tr>\n",
       "    <tr>\n",
       "      <th>17</th>\n",
       "      <td>Lilah O. Morrison</td>\n",
       "      <td>3859 Mauris Ave</td>\n",
       "    </tr>\n",
       "    <tr>\n",
       "      <th>18</th>\n",
       "      <td>Chantale Z. Kelley</td>\n",
       "      <td>3433 Arcu. Rd.</td>\n",
       "    </tr>\n",
       "    <tr>\n",
       "      <th>19</th>\n",
       "      <td>Randall Q. Mcclure</td>\n",
       "      <td>Ap #584-7470 Nibh. Ave</td>\n",
       "    </tr>\n",
       "    <tr>\n",
       "      <th>20</th>\n",
       "      <td>Baker C. Hurst</td>\n",
       "      <td>249-6250 Velit. Rd.</td>\n",
       "    </tr>\n",
       "    <tr>\n",
       "      <th>21</th>\n",
       "      <td>Bevis W. Molina</td>\n",
       "      <td>P.O. Box 935, 1521 At, St.</td>\n",
       "    </tr>\n",
       "    <tr>\n",
       "      <th>22</th>\n",
       "      <td>Martina B. Schroeder</td>\n",
       "      <td>689-7600 Mi St.</td>\n",
       "    </tr>\n",
       "    <tr>\n",
       "      <th>23</th>\n",
       "      <td>Kylie G. Bailey</td>\n",
       "      <td>1430 Diam. Road</td>\n",
       "    </tr>\n",
       "    <tr>\n",
       "      <th>24</th>\n",
       "      <td>Steel K. Glover</td>\n",
       "      <td>757-681 Et, Av.</td>\n",
       "    </tr>\n",
       "    <tr>\n",
       "      <th>25</th>\n",
       "      <td>Lucas M. Suarez</td>\n",
       "      <td>699-9329 Magna Rd.</td>\n",
       "    </tr>\n",
       "    <tr>\n",
       "      <th>26</th>\n",
       "      <td>Anastasia Q. Mccray</td>\n",
       "      <td>P.O. Box 780, 4487 Lobortis, St.</td>\n",
       "    </tr>\n",
       "    <tr>\n",
       "      <th>27</th>\n",
       "      <td>Germaine Q. Henson</td>\n",
       "      <td>589-4921 Duis Ave</td>\n",
       "    </tr>\n",
       "    <tr>\n",
       "      <th>28</th>\n",
       "      <td>Wilma U. Mcfadden</td>\n",
       "      <td>6917 Dictum Rd.</td>\n",
       "    </tr>\n",
       "    <tr>\n",
       "      <th>29</th>\n",
       "      <td>Merritt Q. Martinez</td>\n",
       "      <td>P.O. Box 469, 7833 Euismod Av.</td>\n",
       "    </tr>\n",
       "  </tbody>\n",
       "</table>\n",
       "</div>"
      ],
      "text/plain": [
       "                          name                          location\n",
       "clientId                                                        \n",
       "10            Omar Y. Fletcher                  6833 Mollis. Rd.\n",
       "11            Buffy W. Vincent    P.O. Box 345, 8390 Ante Avenue\n",
       "12            Mira N. Franklin      P.O. Box 445, 323 Cursus Rd.\n",
       "13                Ferris Q. Le            Ap #791-3809 Eu Street\n",
       "14             Michael I. Gray                    6715 Diam. Rd.\n",
       "15             Alan T. Mullins                 512-3640 Nisl Rd.\n",
       "16            Morgan W. Zamora             416-6030 Vivamus Road\n",
       "17           Lilah O. Morrison                   3859 Mauris Ave\n",
       "18          Chantale Z. Kelley                    3433 Arcu. Rd.\n",
       "19          Randall Q. Mcclure            Ap #584-7470 Nibh. Ave\n",
       "20              Baker C. Hurst               249-6250 Velit. Rd.\n",
       "21             Bevis W. Molina        P.O. Box 935, 1521 At, St.\n",
       "22        Martina B. Schroeder                   689-7600 Mi St.\n",
       "23             Kylie G. Bailey                   1430 Diam. Road\n",
       "24             Steel K. Glover                   757-681 Et, Av.\n",
       "25             Lucas M. Suarez                699-9329 Magna Rd.\n",
       "26         Anastasia Q. Mccray  P.O. Box 780, 4487 Lobortis, St.\n",
       "27          Germaine Q. Henson                 589-4921 Duis Ave\n",
       "28           Wilma U. Mcfadden                   6917 Dictum Rd.\n",
       "29         Merritt Q. Martinez    P.O. Box 469, 7833 Euismod Av."
      ]
     },
     "execution_count": 12,
     "metadata": {},
     "output_type": "execute_result"
    }
   ],
   "source": [
    "df1 = pd.read_csv(\"dataset/dataset1.csv\")\n",
    "\n",
    "df2 = pd.read_csv(\"dataset/dataset2.csv\")\n",
    "\n",
    "df1y2 = pd.concat(\n",
    "    [df1, df2],\n",
    "    ignore_index=True\n",
    ")\n",
    "\n",
    "df1y2.set_index(\"clientId\", inplace=True)#Le decimos que use la columna cLientId como indice\n",
    "\n",
    "df1y2"
   ]
  },
  {
   "cell_type": "markdown",
   "id": "8badaa85",
   "metadata": {},
   "source": [
    "## Carguemos el tercer dataset y configuremos su indice"
   ]
  },
  {
   "cell_type": "code",
   "execution_count": 13,
   "id": "dcc20dc6",
   "metadata": {},
   "outputs": [
    {
     "data": {
      "application/vnd.microsoft.datawrangler.viewer.v0+json": {
       "columns": [
        {
         "name": "clientId",
         "rawType": "int64",
         "type": "integer"
        },
        {
         "name": "bonus",
         "rawType": "int64",
         "type": "integer"
        }
       ],
       "ref": "361c01f0-c510-4e4c-a025-578fff3f4a3c",
       "rows": [
        [
         "28",
         "463"
        ],
        [
         "29",
         "790"
        ],
        [
         "11",
         "138"
        ],
        [
         "12",
         "227"
        ],
        [
         "15",
         "231"
        ],
        [
         "24",
         "248"
        ],
        [
         "25",
         "216"
        ],
        [
         "26",
         "291"
        ],
        [
         "10",
         "279"
        ],
        [
         "13",
         "160"
        ],
        [
         "14",
         "267"
        ],
        [
         "27",
         "215"
        ],
        [
         "16",
         "169"
        ],
        [
         "17",
         "263"
        ],
        [
         "18",
         "233"
        ],
        [
         "19",
         "292"
        ],
        [
         "20",
         "208"
        ],
        [
         "21",
         "247"
        ],
        [
         "22",
         "240"
        ],
        [
         "23",
         "161"
        ]
       ],
       "shape": {
        "columns": 1,
        "rows": 20
       }
      },
      "text/html": [
       "<div>\n",
       "<style scoped>\n",
       "    .dataframe tbody tr th:only-of-type {\n",
       "        vertical-align: middle;\n",
       "    }\n",
       "\n",
       "    .dataframe tbody tr th {\n",
       "        vertical-align: top;\n",
       "    }\n",
       "\n",
       "    .dataframe thead th {\n",
       "        text-align: right;\n",
       "    }\n",
       "</style>\n",
       "<table border=\"1\" class=\"dataframe\">\n",
       "  <thead>\n",
       "    <tr style=\"text-align: right;\">\n",
       "      <th></th>\n",
       "      <th>bonus</th>\n",
       "    </tr>\n",
       "    <tr>\n",
       "      <th>clientId</th>\n",
       "      <th></th>\n",
       "    </tr>\n",
       "  </thead>\n",
       "  <tbody>\n",
       "    <tr>\n",
       "      <th>28</th>\n",
       "      <td>463</td>\n",
       "    </tr>\n",
       "    <tr>\n",
       "      <th>29</th>\n",
       "      <td>790</td>\n",
       "    </tr>\n",
       "    <tr>\n",
       "      <th>11</th>\n",
       "      <td>138</td>\n",
       "    </tr>\n",
       "    <tr>\n",
       "      <th>12</th>\n",
       "      <td>227</td>\n",
       "    </tr>\n",
       "    <tr>\n",
       "      <th>15</th>\n",
       "      <td>231</td>\n",
       "    </tr>\n",
       "    <tr>\n",
       "      <th>24</th>\n",
       "      <td>248</td>\n",
       "    </tr>\n",
       "    <tr>\n",
       "      <th>25</th>\n",
       "      <td>216</td>\n",
       "    </tr>\n",
       "    <tr>\n",
       "      <th>26</th>\n",
       "      <td>291</td>\n",
       "    </tr>\n",
       "    <tr>\n",
       "      <th>10</th>\n",
       "      <td>279</td>\n",
       "    </tr>\n",
       "    <tr>\n",
       "      <th>13</th>\n",
       "      <td>160</td>\n",
       "    </tr>\n",
       "    <tr>\n",
       "      <th>14</th>\n",
       "      <td>267</td>\n",
       "    </tr>\n",
       "    <tr>\n",
       "      <th>27</th>\n",
       "      <td>215</td>\n",
       "    </tr>\n",
       "    <tr>\n",
       "      <th>16</th>\n",
       "      <td>169</td>\n",
       "    </tr>\n",
       "    <tr>\n",
       "      <th>17</th>\n",
       "      <td>263</td>\n",
       "    </tr>\n",
       "    <tr>\n",
       "      <th>18</th>\n",
       "      <td>233</td>\n",
       "    </tr>\n",
       "    <tr>\n",
       "      <th>19</th>\n",
       "      <td>292</td>\n",
       "    </tr>\n",
       "    <tr>\n",
       "      <th>20</th>\n",
       "      <td>208</td>\n",
       "    </tr>\n",
       "    <tr>\n",
       "      <th>21</th>\n",
       "      <td>247</td>\n",
       "    </tr>\n",
       "    <tr>\n",
       "      <th>22</th>\n",
       "      <td>240</td>\n",
       "    </tr>\n",
       "    <tr>\n",
       "      <th>23</th>\n",
       "      <td>161</td>\n",
       "    </tr>\n",
       "  </tbody>\n",
       "</table>\n",
       "</div>"
      ],
      "text/plain": [
       "          bonus\n",
       "clientId       \n",
       "28          463\n",
       "29          790\n",
       "11          138\n",
       "12          227\n",
       "15          231\n",
       "24          248\n",
       "25          216\n",
       "26          291\n",
       "10          279\n",
       "13          160\n",
       "14          267\n",
       "27          215\n",
       "16          169\n",
       "17          263\n",
       "18          233\n",
       "19          292\n",
       "20          208\n",
       "21          247\n",
       "22          240\n",
       "23          161"
      ]
     },
     "execution_count": 13,
     "metadata": {},
     "output_type": "execute_result"
    }
   ],
   "source": [
    "df3 = pd.read_csv(\"dataset/dataset3.csv\")\n",
    "\n",
    "df3.set_index(\"clientId\", inplace=True)\n",
    "\n",
    "df3"
   ]
  },
  {
   "cell_type": "markdown",
   "id": "daf9509d",
   "metadata": {},
   "source": [
    "## Hagamos la concatenación por columna con el dataframe previamente concatenado"
   ]
  },
  {
   "cell_type": "code",
   "execution_count": 14,
   "id": "16fa47a4",
   "metadata": {},
   "outputs": [
    {
     "data": {
      "application/vnd.microsoft.datawrangler.viewer.v0+json": {
       "columns": [
        {
         "name": "clientId",
         "rawType": "int64",
         "type": "integer"
        },
        {
         "name": "name",
         "rawType": "object",
         "type": "string"
        },
        {
         "name": "location",
         "rawType": "object",
         "type": "string"
        },
        {
         "name": "bonus",
         "rawType": "int64",
         "type": "integer"
        }
       ],
       "ref": "7ebac4b4-a5e7-4574-8914-d08dfe462f10",
       "rows": [
        [
         "10",
         "Omar Y. Fletcher",
         "6833 Mollis. Rd.",
         "279"
        ],
        [
         "11",
         "Buffy W. Vincent",
         "P.O. Box 345, 8390 Ante Avenue",
         "138"
        ],
        [
         "12",
         "Mira N. Franklin",
         "P.O. Box 445, 323 Cursus Rd.",
         "227"
        ],
        [
         "13",
         "Ferris Q. Le",
         "Ap #791-3809 Eu Street",
         "160"
        ],
        [
         "14",
         "Michael I. Gray",
         "6715 Diam. Rd.",
         "267"
        ],
        [
         "15",
         "Alan T. Mullins",
         "512-3640 Nisl Rd.",
         "231"
        ],
        [
         "16",
         "Morgan W. Zamora",
         "416-6030 Vivamus Road",
         "169"
        ],
        [
         "17",
         "Lilah O. Morrison",
         "3859 Mauris Ave",
         "263"
        ],
        [
         "18",
         "Chantale Z. Kelley",
         "3433 Arcu. Rd.",
         "233"
        ],
        [
         "19",
         "Randall Q. Mcclure",
         "Ap #584-7470 Nibh. Ave",
         "292"
        ],
        [
         "20",
         "Baker C. Hurst",
         "249-6250 Velit. Rd.",
         "208"
        ],
        [
         "21",
         "Bevis W. Molina",
         "P.O. Box 935, 1521 At, St.",
         "247"
        ],
        [
         "22",
         "Martina B. Schroeder",
         "689-7600 Mi St.",
         "240"
        ],
        [
         "23",
         "Kylie G. Bailey",
         "1430 Diam. Road",
         "161"
        ],
        [
         "24",
         "Steel K. Glover",
         "757-681 Et, Av.",
         "248"
        ],
        [
         "25",
         "Lucas M. Suarez",
         "699-9329 Magna Rd.",
         "216"
        ],
        [
         "26",
         "Anastasia Q. Mccray",
         "P.O. Box 780, 4487 Lobortis, St.",
         "291"
        ],
        [
         "27",
         "Germaine Q. Henson",
         "589-4921 Duis Ave",
         "215"
        ],
        [
         "28",
         "Wilma U. Mcfadden",
         "6917 Dictum Rd.",
         "463"
        ],
        [
         "29",
         "Merritt Q. Martinez",
         "P.O. Box 469, 7833 Euismod Av.",
         "790"
        ]
       ],
       "shape": {
        "columns": 3,
        "rows": 20
       }
      },
      "text/html": [
       "<div>\n",
       "<style scoped>\n",
       "    .dataframe tbody tr th:only-of-type {\n",
       "        vertical-align: middle;\n",
       "    }\n",
       "\n",
       "    .dataframe tbody tr th {\n",
       "        vertical-align: top;\n",
       "    }\n",
       "\n",
       "    .dataframe thead th {\n",
       "        text-align: right;\n",
       "    }\n",
       "</style>\n",
       "<table border=\"1\" class=\"dataframe\">\n",
       "  <thead>\n",
       "    <tr style=\"text-align: right;\">\n",
       "      <th></th>\n",
       "      <th>name</th>\n",
       "      <th>location</th>\n",
       "      <th>bonus</th>\n",
       "    </tr>\n",
       "    <tr>\n",
       "      <th>clientId</th>\n",
       "      <th></th>\n",
       "      <th></th>\n",
       "      <th></th>\n",
       "    </tr>\n",
       "  </thead>\n",
       "  <tbody>\n",
       "    <tr>\n",
       "      <th>10</th>\n",
       "      <td>Omar Y. Fletcher</td>\n",
       "      <td>6833 Mollis. Rd.</td>\n",
       "      <td>279</td>\n",
       "    </tr>\n",
       "    <tr>\n",
       "      <th>11</th>\n",
       "      <td>Buffy W. Vincent</td>\n",
       "      <td>P.O. Box 345, 8390 Ante Avenue</td>\n",
       "      <td>138</td>\n",
       "    </tr>\n",
       "    <tr>\n",
       "      <th>12</th>\n",
       "      <td>Mira N. Franklin</td>\n",
       "      <td>P.O. Box 445, 323 Cursus Rd.</td>\n",
       "      <td>227</td>\n",
       "    </tr>\n",
       "    <tr>\n",
       "      <th>13</th>\n",
       "      <td>Ferris Q. Le</td>\n",
       "      <td>Ap #791-3809 Eu Street</td>\n",
       "      <td>160</td>\n",
       "    </tr>\n",
       "    <tr>\n",
       "      <th>14</th>\n",
       "      <td>Michael I. Gray</td>\n",
       "      <td>6715 Diam. Rd.</td>\n",
       "      <td>267</td>\n",
       "    </tr>\n",
       "    <tr>\n",
       "      <th>15</th>\n",
       "      <td>Alan T. Mullins</td>\n",
       "      <td>512-3640 Nisl Rd.</td>\n",
       "      <td>231</td>\n",
       "    </tr>\n",
       "    <tr>\n",
       "      <th>16</th>\n",
       "      <td>Morgan W. Zamora</td>\n",
       "      <td>416-6030 Vivamus Road</td>\n",
       "      <td>169</td>\n",
       "    </tr>\n",
       "    <tr>\n",
       "      <th>17</th>\n",
       "      <td>Lilah O. Morrison</td>\n",
       "      <td>3859 Mauris Ave</td>\n",
       "      <td>263</td>\n",
       "    </tr>\n",
       "    <tr>\n",
       "      <th>18</th>\n",
       "      <td>Chantale Z. Kelley</td>\n",
       "      <td>3433 Arcu. Rd.</td>\n",
       "      <td>233</td>\n",
       "    </tr>\n",
       "    <tr>\n",
       "      <th>19</th>\n",
       "      <td>Randall Q. Mcclure</td>\n",
       "      <td>Ap #584-7470 Nibh. Ave</td>\n",
       "      <td>292</td>\n",
       "    </tr>\n",
       "    <tr>\n",
       "      <th>20</th>\n",
       "      <td>Baker C. Hurst</td>\n",
       "      <td>249-6250 Velit. Rd.</td>\n",
       "      <td>208</td>\n",
       "    </tr>\n",
       "    <tr>\n",
       "      <th>21</th>\n",
       "      <td>Bevis W. Molina</td>\n",
       "      <td>P.O. Box 935, 1521 At, St.</td>\n",
       "      <td>247</td>\n",
       "    </tr>\n",
       "    <tr>\n",
       "      <th>22</th>\n",
       "      <td>Martina B. Schroeder</td>\n",
       "      <td>689-7600 Mi St.</td>\n",
       "      <td>240</td>\n",
       "    </tr>\n",
       "    <tr>\n",
       "      <th>23</th>\n",
       "      <td>Kylie G. Bailey</td>\n",
       "      <td>1430 Diam. Road</td>\n",
       "      <td>161</td>\n",
       "    </tr>\n",
       "    <tr>\n",
       "      <th>24</th>\n",
       "      <td>Steel K. Glover</td>\n",
       "      <td>757-681 Et, Av.</td>\n",
       "      <td>248</td>\n",
       "    </tr>\n",
       "    <tr>\n",
       "      <th>25</th>\n",
       "      <td>Lucas M. Suarez</td>\n",
       "      <td>699-9329 Magna Rd.</td>\n",
       "      <td>216</td>\n",
       "    </tr>\n",
       "    <tr>\n",
       "      <th>26</th>\n",
       "      <td>Anastasia Q. Mccray</td>\n",
       "      <td>P.O. Box 780, 4487 Lobortis, St.</td>\n",
       "      <td>291</td>\n",
       "    </tr>\n",
       "    <tr>\n",
       "      <th>27</th>\n",
       "      <td>Germaine Q. Henson</td>\n",
       "      <td>589-4921 Duis Ave</td>\n",
       "      <td>215</td>\n",
       "    </tr>\n",
       "    <tr>\n",
       "      <th>28</th>\n",
       "      <td>Wilma U. Mcfadden</td>\n",
       "      <td>6917 Dictum Rd.</td>\n",
       "      <td>463</td>\n",
       "    </tr>\n",
       "    <tr>\n",
       "      <th>29</th>\n",
       "      <td>Merritt Q. Martinez</td>\n",
       "      <td>P.O. Box 469, 7833 Euismod Av.</td>\n",
       "      <td>790</td>\n",
       "    </tr>\n",
       "  </tbody>\n",
       "</table>\n",
       "</div>"
      ],
      "text/plain": [
       "                          name                          location  bonus\n",
       "clientId                                                               \n",
       "10            Omar Y. Fletcher                  6833 Mollis. Rd.    279\n",
       "11            Buffy W. Vincent    P.O. Box 345, 8390 Ante Avenue    138\n",
       "12            Mira N. Franklin      P.O. Box 445, 323 Cursus Rd.    227\n",
       "13                Ferris Q. Le            Ap #791-3809 Eu Street    160\n",
       "14             Michael I. Gray                    6715 Diam. Rd.    267\n",
       "15             Alan T. Mullins                 512-3640 Nisl Rd.    231\n",
       "16            Morgan W. Zamora             416-6030 Vivamus Road    169\n",
       "17           Lilah O. Morrison                   3859 Mauris Ave    263\n",
       "18          Chantale Z. Kelley                    3433 Arcu. Rd.    233\n",
       "19          Randall Q. Mcclure            Ap #584-7470 Nibh. Ave    292\n",
       "20              Baker C. Hurst               249-6250 Velit. Rd.    208\n",
       "21             Bevis W. Molina        P.O. Box 935, 1521 At, St.    247\n",
       "22        Martina B. Schroeder                   689-7600 Mi St.    240\n",
       "23             Kylie G. Bailey                   1430 Diam. Road    161\n",
       "24             Steel K. Glover                   757-681 Et, Av.    248\n",
       "25             Lucas M. Suarez                699-9329 Magna Rd.    216\n",
       "26         Anastasia Q. Mccray  P.O. Box 780, 4487 Lobortis, St.    291\n",
       "27          Germaine Q. Henson                 589-4921 Duis Ave    215\n",
       "28           Wilma U. Mcfadden                   6917 Dictum Rd.    463\n",
       "29         Merritt Q. Martinez    P.O. Box 469, 7833 Euismod Av.    790"
      ]
     },
     "execution_count": 14,
     "metadata": {},
     "output_type": "execute_result"
    }
   ],
   "source": [
    "df_full = pd.concat(\n",
    "    [df1y2, df3],\n",
    "    axis=1,\n",
    ")\n",
    "\n",
    "df_full"
   ]
  },
  {
   "cell_type": "markdown",
   "id": "eab74298",
   "metadata": {},
   "source": [
    "## Convirtamos el clientId a una columna nuevamente"
   ]
  },
  {
   "cell_type": "code",
   "execution_count": 15,
   "id": "3a0f9dec",
   "metadata": {},
   "outputs": [
    {
     "data": {
      "application/vnd.microsoft.datawrangler.viewer.v0+json": {
       "columns": [
        {
         "name": "index",
         "rawType": "int64",
         "type": "integer"
        },
        {
         "name": "clientId",
         "rawType": "int64",
         "type": "integer"
        },
        {
         "name": "name",
         "rawType": "object",
         "type": "string"
        },
        {
         "name": "location",
         "rawType": "object",
         "type": "string"
        },
        {
         "name": "bonus",
         "rawType": "int64",
         "type": "integer"
        }
       ],
       "ref": "39c00832-fee1-410c-a752-6794d0c9c56f",
       "rows": [
        [
         "0",
         "10",
         "Omar Y. Fletcher",
         "6833 Mollis. Rd.",
         "279"
        ],
        [
         "1",
         "11",
         "Buffy W. Vincent",
         "P.O. Box 345, 8390 Ante Avenue",
         "138"
        ],
        [
         "2",
         "12",
         "Mira N. Franklin",
         "P.O. Box 445, 323 Cursus Rd.",
         "227"
        ],
        [
         "3",
         "13",
         "Ferris Q. Le",
         "Ap #791-3809 Eu Street",
         "160"
        ],
        [
         "4",
         "14",
         "Michael I. Gray",
         "6715 Diam. Rd.",
         "267"
        ],
        [
         "5",
         "15",
         "Alan T. Mullins",
         "512-3640 Nisl Rd.",
         "231"
        ],
        [
         "6",
         "16",
         "Morgan W. Zamora",
         "416-6030 Vivamus Road",
         "169"
        ],
        [
         "7",
         "17",
         "Lilah O. Morrison",
         "3859 Mauris Ave",
         "263"
        ],
        [
         "8",
         "18",
         "Chantale Z. Kelley",
         "3433 Arcu. Rd.",
         "233"
        ],
        [
         "9",
         "19",
         "Randall Q. Mcclure",
         "Ap #584-7470 Nibh. Ave",
         "292"
        ],
        [
         "10",
         "20",
         "Baker C. Hurst",
         "249-6250 Velit. Rd.",
         "208"
        ],
        [
         "11",
         "21",
         "Bevis W. Molina",
         "P.O. Box 935, 1521 At, St.",
         "247"
        ],
        [
         "12",
         "22",
         "Martina B. Schroeder",
         "689-7600 Mi St.",
         "240"
        ],
        [
         "13",
         "23",
         "Kylie G. Bailey",
         "1430 Diam. Road",
         "161"
        ],
        [
         "14",
         "24",
         "Steel K. Glover",
         "757-681 Et, Av.",
         "248"
        ],
        [
         "15",
         "25",
         "Lucas M. Suarez",
         "699-9329 Magna Rd.",
         "216"
        ],
        [
         "16",
         "26",
         "Anastasia Q. Mccray",
         "P.O. Box 780, 4487 Lobortis, St.",
         "291"
        ],
        [
         "17",
         "27",
         "Germaine Q. Henson",
         "589-4921 Duis Ave",
         "215"
        ],
        [
         "18",
         "28",
         "Wilma U. Mcfadden",
         "6917 Dictum Rd.",
         "463"
        ],
        [
         "19",
         "29",
         "Merritt Q. Martinez",
         "P.O. Box 469, 7833 Euismod Av.",
         "790"
        ]
       ],
       "shape": {
        "columns": 4,
        "rows": 20
       }
      },
      "text/html": [
       "<div>\n",
       "<style scoped>\n",
       "    .dataframe tbody tr th:only-of-type {\n",
       "        vertical-align: middle;\n",
       "    }\n",
       "\n",
       "    .dataframe tbody tr th {\n",
       "        vertical-align: top;\n",
       "    }\n",
       "\n",
       "    .dataframe thead th {\n",
       "        text-align: right;\n",
       "    }\n",
       "</style>\n",
       "<table border=\"1\" class=\"dataframe\">\n",
       "  <thead>\n",
       "    <tr style=\"text-align: right;\">\n",
       "      <th></th>\n",
       "      <th>clientId</th>\n",
       "      <th>name</th>\n",
       "      <th>location</th>\n",
       "      <th>bonus</th>\n",
       "    </tr>\n",
       "  </thead>\n",
       "  <tbody>\n",
       "    <tr>\n",
       "      <th>0</th>\n",
       "      <td>10</td>\n",
       "      <td>Omar Y. Fletcher</td>\n",
       "      <td>6833 Mollis. Rd.</td>\n",
       "      <td>279</td>\n",
       "    </tr>\n",
       "    <tr>\n",
       "      <th>1</th>\n",
       "      <td>11</td>\n",
       "      <td>Buffy W. Vincent</td>\n",
       "      <td>P.O. Box 345, 8390 Ante Avenue</td>\n",
       "      <td>138</td>\n",
       "    </tr>\n",
       "    <tr>\n",
       "      <th>2</th>\n",
       "      <td>12</td>\n",
       "      <td>Mira N. Franklin</td>\n",
       "      <td>P.O. Box 445, 323 Cursus Rd.</td>\n",
       "      <td>227</td>\n",
       "    </tr>\n",
       "    <tr>\n",
       "      <th>3</th>\n",
       "      <td>13</td>\n",
       "      <td>Ferris Q. Le</td>\n",
       "      <td>Ap #791-3809 Eu Street</td>\n",
       "      <td>160</td>\n",
       "    </tr>\n",
       "    <tr>\n",
       "      <th>4</th>\n",
       "      <td>14</td>\n",
       "      <td>Michael I. Gray</td>\n",
       "      <td>6715 Diam. Rd.</td>\n",
       "      <td>267</td>\n",
       "    </tr>\n",
       "    <tr>\n",
       "      <th>5</th>\n",
       "      <td>15</td>\n",
       "      <td>Alan T. Mullins</td>\n",
       "      <td>512-3640 Nisl Rd.</td>\n",
       "      <td>231</td>\n",
       "    </tr>\n",
       "    <tr>\n",
       "      <th>6</th>\n",
       "      <td>16</td>\n",
       "      <td>Morgan W. Zamora</td>\n",
       "      <td>416-6030 Vivamus Road</td>\n",
       "      <td>169</td>\n",
       "    </tr>\n",
       "    <tr>\n",
       "      <th>7</th>\n",
       "      <td>17</td>\n",
       "      <td>Lilah O. Morrison</td>\n",
       "      <td>3859 Mauris Ave</td>\n",
       "      <td>263</td>\n",
       "    </tr>\n",
       "    <tr>\n",
       "      <th>8</th>\n",
       "      <td>18</td>\n",
       "      <td>Chantale Z. Kelley</td>\n",
       "      <td>3433 Arcu. Rd.</td>\n",
       "      <td>233</td>\n",
       "    </tr>\n",
       "    <tr>\n",
       "      <th>9</th>\n",
       "      <td>19</td>\n",
       "      <td>Randall Q. Mcclure</td>\n",
       "      <td>Ap #584-7470 Nibh. Ave</td>\n",
       "      <td>292</td>\n",
       "    </tr>\n",
       "    <tr>\n",
       "      <th>10</th>\n",
       "      <td>20</td>\n",
       "      <td>Baker C. Hurst</td>\n",
       "      <td>249-6250 Velit. Rd.</td>\n",
       "      <td>208</td>\n",
       "    </tr>\n",
       "    <tr>\n",
       "      <th>11</th>\n",
       "      <td>21</td>\n",
       "      <td>Bevis W. Molina</td>\n",
       "      <td>P.O. Box 935, 1521 At, St.</td>\n",
       "      <td>247</td>\n",
       "    </tr>\n",
       "    <tr>\n",
       "      <th>12</th>\n",
       "      <td>22</td>\n",
       "      <td>Martina B. Schroeder</td>\n",
       "      <td>689-7600 Mi St.</td>\n",
       "      <td>240</td>\n",
       "    </tr>\n",
       "    <tr>\n",
       "      <th>13</th>\n",
       "      <td>23</td>\n",
       "      <td>Kylie G. Bailey</td>\n",
       "      <td>1430 Diam. Road</td>\n",
       "      <td>161</td>\n",
       "    </tr>\n",
       "    <tr>\n",
       "      <th>14</th>\n",
       "      <td>24</td>\n",
       "      <td>Steel K. Glover</td>\n",
       "      <td>757-681 Et, Av.</td>\n",
       "      <td>248</td>\n",
       "    </tr>\n",
       "    <tr>\n",
       "      <th>15</th>\n",
       "      <td>25</td>\n",
       "      <td>Lucas M. Suarez</td>\n",
       "      <td>699-9329 Magna Rd.</td>\n",
       "      <td>216</td>\n",
       "    </tr>\n",
       "    <tr>\n",
       "      <th>16</th>\n",
       "      <td>26</td>\n",
       "      <td>Anastasia Q. Mccray</td>\n",
       "      <td>P.O. Box 780, 4487 Lobortis, St.</td>\n",
       "      <td>291</td>\n",
       "    </tr>\n",
       "    <tr>\n",
       "      <th>17</th>\n",
       "      <td>27</td>\n",
       "      <td>Germaine Q. Henson</td>\n",
       "      <td>589-4921 Duis Ave</td>\n",
       "      <td>215</td>\n",
       "    </tr>\n",
       "    <tr>\n",
       "      <th>18</th>\n",
       "      <td>28</td>\n",
       "      <td>Wilma U. Mcfadden</td>\n",
       "      <td>6917 Dictum Rd.</td>\n",
       "      <td>463</td>\n",
       "    </tr>\n",
       "    <tr>\n",
       "      <th>19</th>\n",
       "      <td>29</td>\n",
       "      <td>Merritt Q. Martinez</td>\n",
       "      <td>P.O. Box 469, 7833 Euismod Av.</td>\n",
       "      <td>790</td>\n",
       "    </tr>\n",
       "  </tbody>\n",
       "</table>\n",
       "</div>"
      ],
      "text/plain": [
       "    clientId                  name                          location  bonus\n",
       "0         10      Omar Y. Fletcher                  6833 Mollis. Rd.    279\n",
       "1         11      Buffy W. Vincent    P.O. Box 345, 8390 Ante Avenue    138\n",
       "2         12      Mira N. Franklin      P.O. Box 445, 323 Cursus Rd.    227\n",
       "3         13          Ferris Q. Le            Ap #791-3809 Eu Street    160\n",
       "4         14       Michael I. Gray                    6715 Diam. Rd.    267\n",
       "5         15       Alan T. Mullins                 512-3640 Nisl Rd.    231\n",
       "6         16      Morgan W. Zamora             416-6030 Vivamus Road    169\n",
       "7         17     Lilah O. Morrison                   3859 Mauris Ave    263\n",
       "8         18    Chantale Z. Kelley                    3433 Arcu. Rd.    233\n",
       "9         19    Randall Q. Mcclure            Ap #584-7470 Nibh. Ave    292\n",
       "10        20        Baker C. Hurst               249-6250 Velit. Rd.    208\n",
       "11        21       Bevis W. Molina        P.O. Box 935, 1521 At, St.    247\n",
       "12        22  Martina B. Schroeder                   689-7600 Mi St.    240\n",
       "13        23       Kylie G. Bailey                   1430 Diam. Road    161\n",
       "14        24       Steel K. Glover                   757-681 Et, Av.    248\n",
       "15        25       Lucas M. Suarez                699-9329 Magna Rd.    216\n",
       "16        26   Anastasia Q. Mccray  P.O. Box 780, 4487 Lobortis, St.    291\n",
       "17        27    Germaine Q. Henson                 589-4921 Duis Ave    215\n",
       "18        28     Wilma U. Mcfadden                   6917 Dictum Rd.    463\n",
       "19        29   Merritt Q. Martinez    P.O. Box 469, 7833 Euismod Av.    790"
      ]
     },
     "execution_count": 15,
     "metadata": {},
     "output_type": "execute_result"
    }
   ],
   "source": [
    "df_full = df_full.reset_index()\n",
    "df_full"
   ]
  }
 ],
 "metadata": {
  "kernelspec": {
   "display_name": ".venv",
   "language": "python",
   "name": "python3"
  },
  "language_info": {
   "codemirror_mode": {
    "name": "ipython",
    "version": 3
   },
   "file_extension": ".py",
   "mimetype": "text/x-python",
   "name": "python",
   "nbconvert_exporter": "python",
   "pygments_lexer": "ipython3",
   "version": "3.12.3"
  }
 },
 "nbformat": 4,
 "nbformat_minor": 5
}
